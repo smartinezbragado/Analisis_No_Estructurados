{
 "cells": [
  {
   "cell_type": "markdown",
   "metadata": {},
   "source": [
    "# **Machine Translation Spanish - English**"
   ]
  },
  {
   "cell_type": "markdown",
   "metadata": {},
   "source": [
    "In this practice have been made some experiment trying to find the hyperparameters that optimize the machine translation of the spanish-english dictionary. The models tryed are the next ones:\n",
    "- **LSTM (2 layers with 512 units and learning rate of 0,001) + Dense layer**:\n",
    "    - Initial one\n",
    "    - Increasing the number of units until 1024\n",
    "    - Decreasing the number of units until 256\n",
    "    - Increasing the number of layer to 5 \n",
    "    - Adding Dropout in the network\n",
    "    - Increasing the learning rate to 0,01\n",
    "    - Increasing the batch size to 1024\n",
    "    - Decrasing the batch size to 256\n",
    "    - Dropout + increasing the number of units to 1024\n",
    "    \n",
    "    \n",
    "- **RNN (2 layers with 512 units and learning rate of 0,001) + Dense layer**:\n",
    "    - Simple one \n",
    "    - Adding Dropout\n",
    "    \n",
    "    \n",
    "- **GRU (2 layers with 512 units and learning rate of 0,001) + Dense layer**:\n",
    "    - Simple one\n",
    "    - Adding Dropout\n",
    "\n",
    "\n",
    "- **Bidirectional LTSM (1 layers with 512 units and learning rate of 0,001) + Dense layer**:\n",
    "    - Simple one\n",
    "    - Adding Dropout\n",
    "    \n",
    "After seeing the suceed of de RNN and GRU with long sequences, was tried to improve the acuracy reducing the sentence lenght from 8 to 5. With these networks:\n",
    "- **LSTM (2 layers with 512 units and learning rate of 0,001) + Dense layer**:\n",
    "- **RNN (2 layers with 512 units and learning rate of 0,001) + Dense layer**:\n",
    "- **GRU (2 layers with 512 units and learning rate of 0,001) + Dense layer**:\n"
   ]
  },
  {
   "cell_type": "markdown",
   "metadata": {},
   "source": [
    "Before feeding the models, the text has been preprocessed and transformed into vectors. **In the end of the notebook you can read the conclusions of this experiments**"
   ]
  },
  {
   "cell_type": "markdown",
   "metadata": {},
   "source": [
    "#### **Import Required Libraries**"
   ]
  },
  {
   "cell_type": "code",
   "execution_count": 4,
   "metadata": {},
   "outputs": [
    {
     "name": "stderr",
     "output_type": "stream",
     "text": [
      "UsageError: Line magic function `%` not found.\n"
     ]
    }
   ],
   "source": [
    "import string\n",
    "import re\n",
    "from numpy import array, argmax, random, take\n",
    "import pandas as pd\n",
    "from keras.models import Sequential\n",
    "from keras.layers import Dense, LSTM, Embedding, Bidirectional, RepeatVector, TimeDistributed\n",
    "from keras.preprocessing.text import Tokenizer\n",
    "from keras.callbacks import ModelCheckpoint\n",
    "from keras.preprocessing.sequence import pad_sequences\n",
    "from keras.models import load_model\n",
    "from keras import optimizers\n",
    "import matplotlib.pyplot as plt\n",
    "% matplotlib inline\n",
    "pd.set_option('display.max_colwidth', 200)"
   ]
  },
  {
   "cell_type": "markdown",
   "metadata": {},
   "source": [
    "#### **Read Data**"
   ]
  },
  {
   "cell_type": "markdown",
   "metadata": {},
   "source": [
    "First we will read the file using the function defined below."
   ]
  },
  {
   "cell_type": "code",
   "execution_count": 5,
   "metadata": {},
   "outputs": [],
   "source": [
    "# function to read raw text file\n",
    "def read_text(filename):\n",
    "    # open the file\n",
    "    file = open(filename, mode='rt', encoding='utf-8')\n",
    "    # read all text\n",
    "    text = file.read()\n",
    "    file.close()\n",
    "    return text"
   ]
  },
  {
   "cell_type": "markdown",
   "metadata": {},
   "source": [
    "Now let's define a function to split the text into English-Spanish pairs separated by '\\n' and then split these pairs into English sentences and Spanish sentences."
   ]
  },
  {
   "cell_type": "code",
   "execution_count": 6,
   "metadata": {},
   "outputs": [],
   "source": [
    "# split a text into sentences\n",
    "def to_lines(text):\n",
    "    sents = text.strip().split('\\n')\n",
    "    sents = [i.split('\\t') for i in sents]\n",
    "    return sents"
   ]
  },
  {
   "cell_type": "markdown",
   "metadata": {},
   "source": [
    "### **Text Pre-Processing**"
   ]
  },
  {
   "cell_type": "code",
   "execution_count": 7,
   "metadata": {},
   "outputs": [],
   "source": [
    "data = read_text(\"spa-eng\\spa.txt\")\n",
    "spa_eng = to_lines(data)\n",
    "spa_eng = array(spa_eng)"
   ]
  },
  {
   "cell_type": "markdown",
   "metadata": {},
   "source": [
    "The actual data contains over 150,000 sentence-pairs. However, we will use the first 50,000 sentence pairs only to reduce the training time of the model. You can change this number as per you system computation power."
   ]
  },
  {
   "cell_type": "code",
   "execution_count": 8,
   "metadata": {},
   "outputs": [],
   "source": [
    "spa_eng = spa_eng[:50000,:2]"
   ]
  },
  {
   "cell_type": "markdown",
   "metadata": {},
   "source": [
    "#### **Text Cleaning**\n",
    "\n",
    "We will get rid of the punctuation marks, and then convert the text to lower case."
   ]
  },
  {
   "cell_type": "markdown",
   "metadata": {},
   "source": [
    "**Removing puntuation from the text**"
   ]
  },
  {
   "cell_type": "code",
   "execution_count": 9,
   "metadata": {},
   "outputs": [],
   "source": [
    "# Remove punctuation\n",
    "spa_eng[:,0] = [s.translate(str.maketrans('', '', string.punctuation)) for s in spa_eng[:,0]]\n",
    "spa_eng[:,1] = [s.translate(str.maketrans('', '', string.punctuation)) for s in spa_eng[:,1]]"
   ]
  },
  {
   "cell_type": "code",
   "execution_count": 10,
   "metadata": {},
   "outputs": [
    {
     "data": {
      "text/plain": [
       "array([['Go', 'Ve'],\n",
       "       ['Go', 'Vete'],\n",
       "       ['Go', 'Vaya'],\n",
       "       ...,\n",
       "       ['I am waiting for my driver', 'Estoy esperando a mi chofer'],\n",
       "       ['I appreciate all your help', 'Aprecio toda tu ayuda'],\n",
       "       ['I appreciate your interest', 'Agradezco tu interés']],\n",
       "      dtype='<U332')"
      ]
     },
     "execution_count": 10,
     "metadata": {},
     "output_type": "execute_result"
    }
   ],
   "source": [
    "spa_eng"
   ]
  },
  {
   "cell_type": "markdown",
   "metadata": {},
   "source": [
    "**Transform the words to lower case** "
   ]
  },
  {
   "cell_type": "code",
   "execution_count": 11,
   "metadata": {},
   "outputs": [],
   "source": [
    "for i in range(len(spa_eng)):\n",
    "    spa_eng[i,0] = spa_eng[i,0].lower()\n",
    "    \n",
    "    spa_eng[i,1] = spa_eng[i,1].lower()"
   ]
  },
  {
   "cell_type": "code",
   "execution_count": 12,
   "metadata": {},
   "outputs": [
    {
     "data": {
      "text/plain": [
       "array([['go', 've'],\n",
       "       ['go', 'vete'],\n",
       "       ['go', 'vaya'],\n",
       "       ...,\n",
       "       ['i am waiting for my driver', 'estoy esperando a mi chofer'],\n",
       "       ['i appreciate all your help', 'aprecio toda tu ayuda'],\n",
       "       ['i appreciate your interest', 'agradezco tu interés']],\n",
       "      dtype='<U332')"
      ]
     },
     "execution_count": 12,
     "metadata": {},
     "output_type": "execute_result"
    }
   ],
   "source": [
    "spa_eng"
   ]
  },
  {
   "cell_type": "code",
   "execution_count": 13,
   "metadata": {},
   "outputs": [],
   "source": [
    "# empty lists\n",
    "eng_l = []\n",
    "esp_l = []\n",
    "\n",
    "# populate the lists with sentence lengths\n",
    "for i in spa_eng[:,0]:\n",
    "    eng_l.append(len(i.split()))\n",
    "\n",
    "for i in spa_eng[:,1]:\n",
    "    esp_l.append(len(i.split()))"
   ]
  },
  {
   "cell_type": "code",
   "execution_count": 14,
   "metadata": {},
   "outputs": [],
   "source": [
    "length_df = pd.DataFrame({'eng':eng_l, 'esp':esp_l})"
   ]
  },
  {
   "cell_type": "code",
   "execution_count": 15,
   "metadata": {},
   "outputs": [
    {
     "data": {
      "image/png": "[encoded data removed]",
      "text/plain": [
       "<Figure size 432x288 with 2 Axes>"
      ]
     },
     "metadata": {
      "needs_background": "light"
     },
     "output_type": "display_data"
    }
   ],
   "source": [
    "length_df.hist(bins = 30)\n",
    "plt.show()"
   ]
  },
  {
   "cell_type": "markdown",
   "metadata": {},
   "source": [
    "In this histograms we see the sentences lenght. It's possible to observe that the Spanish vocabulary has more variance than the English, but the means are quite similar. They stay around 5."
   ]
  },
  {
   "cell_type": "markdown",
   "metadata": {},
   "source": [
    "#### **Text to Sequence Conversion**\n",
    "\n",
    "To feed our data in a Seq2Seq model, we will have to convert both the input and the output sentences into integer sequences of fixed length."
   ]
  },
  {
   "cell_type": "markdown",
   "metadata": {},
   "source": [
    "Let's vectorize our text data by using Keras's Tokenizer() class. It will turn our sentences into sequences of integers. Then we will pad those sequences with zeros to make all the sequences of same length."
   ]
  },
  {
   "cell_type": "code",
   "execution_count": 16,
   "metadata": {},
   "outputs": [],
   "source": [
    "# function to build a tokenizer\n",
    "def tokenization(lines):\n",
    "    tokenizer = Tokenizer()\n",
    "    tokenizer.fit_on_texts(lines)\n",
    "    return tokenizer"
   ]
  },
  {
   "cell_type": "code",
   "execution_count": 17,
   "metadata": {},
   "outputs": [
    {
     "name": "stdout",
     "output_type": "stream",
     "text": [
      "English Vocabulary Size: 6942\n"
     ]
    }
   ],
   "source": [
    "# prepare english tokenizer\n",
    "eng_tokenizer = tokenization(spa_eng[:, 0])\n",
    "eng_vocab_size = len(eng_tokenizer.word_index) + 1\n",
    "\n",
    "eng_length = 8\n",
    "print('English Vocabulary Size: %d' % eng_vocab_size)"
   ]
  },
  {
   "cell_type": "code",
   "execution_count": 18,
   "metadata": {},
   "outputs": [
    {
     "name": "stdout",
     "output_type": "stream",
     "text": [
      "Spanish Vocabulary Size: 14196\n"
     ]
    }
   ],
   "source": [
    "# prepare english tokenizer\n",
    "spa_tokenizer = tokenization(spa_eng[:, 1])\n",
    "spa_vocab_size = len(spa_tokenizer.word_index) + 1\n",
    "\n",
    "spa_length = 8\n",
    "print('Spanish Vocabulary Size: %d' % spa_vocab_size)"
   ]
  },
  {
   "cell_type": "markdown",
   "metadata": {},
   "source": [
    "Given below is a function to prepare the sequences. It will also perform sequence padding to a maximum sentence length as mentioned above. "
   ]
  },
  {
   "cell_type": "code",
   "execution_count": 19,
   "metadata": {},
   "outputs": [],
   "source": [
    "# encode and pad sequences\n",
    "def encode_sequences(tokenizer, length, lines):\n",
    "    # integer encode sequences\n",
    "    seq = tokenizer.texts_to_sequences(lines)\n",
    "    # pad sequences with 0 values\n",
    "    seq = pad_sequences(seq, maxlen=length, padding='post')\n",
    "#    print(seq)\n",
    "#    print(len(seq))\n",
    "    return seq"
   ]
  },
  {
   "cell_type": "markdown",
   "metadata": {},
   "source": [
    "### **Model Building**"
   ]
  },
  {
   "cell_type": "markdown",
   "metadata": {},
   "source": [
    "We will now split the data into train and test set for model training and evaluation, respectively."
   ]
  },
  {
   "cell_type": "code",
   "execution_count": 20,
   "metadata": {},
   "outputs": [],
   "source": [
    "from sklearn.model_selection import train_test_split\n",
    "train, test = train_test_split(spa_eng, test_size=0.2, random_state = 12)"
   ]
  },
  {
   "cell_type": "markdown",
   "metadata": {},
   "source": [
    "It's time to encode the sentences. We will encode Spanish sentences as the input sequences and English sentences as the target sequences. It will be done for both train and test datasets."
   ]
  },
  {
   "cell_type": "code",
   "execution_count": 21,
   "metadata": {},
   "outputs": [],
   "source": [
    "# prepare training data\n",
    "trainX = encode_sequences(spa_tokenizer, spa_length, train[:, 1])\n",
    "trainY = encode_sequences(eng_tokenizer, eng_length, train[:, 0])"
   ]
  },
  {
   "cell_type": "code",
   "execution_count": 22,
   "metadata": {},
   "outputs": [
    {
     "name": "stdout",
     "output_type": "stream",
     "text": [
      "(40000, 8)\n",
      "(40000, 8)\n"
     ]
    }
   ],
   "source": [
    "print(trainX.shape)\n",
    "print(trainY.shape)"
   ]
  },
  {
   "cell_type": "code",
   "execution_count": 23,
   "metadata": {},
   "outputs": [],
   "source": [
    "testX = encode_sequences(spa_tokenizer, spa_length, test[:, 1])\n",
    "testY = encode_sequences(eng_tokenizer, eng_length, test[:, 0])"
   ]
  },
  {
   "cell_type": "code",
   "execution_count": 24,
   "metadata": {},
   "outputs": [
    {
     "name": "stdout",
     "output_type": "stream",
     "text": [
      "(10000, 8)\n",
      "(10000, 8)\n"
     ]
    }
   ],
   "source": [
    "print(testX.shape)\n",
    "print(testY.shape)"
   ]
  },
  {
   "cell_type": "markdown",
   "metadata": {},
   "source": [
    "#### **First of all we are going to create a network with two LSTM layers + a dense one to classify the words**"
   ]
  },
  {
   "cell_type": "code",
   "execution_count": 44,
   "metadata": {},
   "outputs": [],
   "source": [
    "# build NMT model\n",
    "def build_model(in_vocab, out_vocab, in_timesteps, out_timesteps, units):\n",
    "    model = Sequential()\n",
    "    model.add(Embedding(in_vocab, units, input_length=in_timesteps, mask_zero=True))\n",
    "    model.add(LSTM(units))\n",
    "    model.add(RepeatVector(out_timesteps))    \n",
    "    model.add(LSTM(units, return_sequences=True))\n",
    "    model.add(Dense(out_vocab, activation='softmax'))\n",
    "    return model"
   ]
  },
  {
   "cell_type": "markdown",
   "metadata": {},
   "source": [
    "Details about the RepeatVector :  https://campus.datacamp.com/courses/machine-translation-in-python/implementing-an-encoder-decoder-model-with-keras?ex=6"
   ]
  },
  {
   "cell_type": "markdown",
   "metadata": {},
   "source": [
    "We are using RMSprop optimizer in this model as it is usually a good choice for recurrent neural networks."
   ]
  },
  {
   "cell_type": "code",
   "execution_count": 31,
   "metadata": {},
   "outputs": [],
   "source": [
    "model = build_model(spa_vocab_size, eng_vocab_size, spa_length, eng_length, 512)\n",
    "rms = optimizers.RMSprop(lr=0.001)\n",
    "model.compile(optimizer=rms, loss='sparse_categorical_crossentropy')"
   ]
  },
  {
   "cell_type": "markdown",
   "metadata": {},
   "source": [
    "Please note that we have used __'sparse_categorical_crossentropy'__ as the loss function because it allows us to use the target sequence as it is instead of one hot encoded format. One hot encoding the target sequences with such a huge vocabulary might consume our system's entire memory."
   ]
  },
  {
   "cell_type": "markdown",
   "metadata": {},
   "source": [
    "**For stetic reasons the training epochs and the predictions are going to be hidden**"
   ]
  },
  {
   "cell_type": "code",
   "execution_count": 32,
   "metadata": {
    "collapsed": true,
    "jupyter": {
     "outputs_hidden": true
    }
   },
   "outputs": [
    {
     "name": "stdout",
     "output_type": "stream",
     "text": [
      "Train on 32000 samples, validate on 8000 samples\n",
      "Epoch 1/30\n",
      "32000/32000 [==============================] - 189s 6ms/step - loss: 3.9525 - val_loss: 3.4506\n",
      "\n",
      "Epoch 00001: val_loss improved from inf to 3.45064, saving model to model.h1.24_jan_19\n",
      "Epoch 2/30\n",
      "32000/32000 [==============================] - 202s 6ms/step - loss: 3.2523 - val_loss: 3.2606\n",
      "\n",
      "Epoch 00002: val_loss improved from 3.45064 to 3.26063, saving model to model.h1.24_jan_19\n",
      "Epoch 3/30\n",
      "32000/32000 [==============================] - 214s 7ms/step - loss: 3.0938 - val_loss: 3.0834\n",
      "\n",
      "Epoch 00003: val_loss improved from 3.26063 to 3.08337, saving model to model.h1.24_jan_19\n",
      "Epoch 4/30\n",
      "32000/32000 [==============================] - 212s 7ms/step - loss: 2.9559 - val_loss: 2.9967\n",
      "\n",
      "Epoch 00004: val_loss improved from 3.08337 to 2.99671, saving model to model.h1.24_jan_19\n",
      "Epoch 5/30\n",
      "32000/32000 [==============================] - 214s 7ms/step - loss: 2.8045 - val_loss: 2.8475\n",
      "\n",
      "Epoch 00005: val_loss improved from 2.99671 to 2.84754, saving model to model.h1.24_jan_19\n",
      "Epoch 6/30\n",
      "32000/32000 [==============================] - 229s 7ms/step - loss: 2.6330 - val_loss: 2.7158\n",
      "\n",
      "Epoch 00006: val_loss improved from 2.84754 to 2.71576, saving model to model.h1.24_jan_19\n",
      "Epoch 7/30\n",
      "32000/32000 [==============================] - 229s 7ms/step - loss: 2.4709 - val_loss: 2.5961\n",
      "\n",
      "Epoch 00007: val_loss improved from 2.71576 to 2.59609, saving model to model.h1.24_jan_19\n",
      "Epoch 8/30\n",
      "32000/32000 [==============================] - 222s 7ms/step - loss: 2.3297 - val_loss: 2.5000\n",
      "\n",
      "Epoch 00008: val_loss improved from 2.59609 to 2.49997, saving model to model.h1.24_jan_19\n",
      "Epoch 9/30\n",
      "32000/32000 [==============================] - 215s 7ms/step - loss: 2.1967 - val_loss: 2.4092\n",
      "\n",
      "Epoch 00009: val_loss improved from 2.49997 to 2.40920, saving model to model.h1.24_jan_19\n",
      "Epoch 10/30\n",
      "32000/32000 [==============================] - 223s 7ms/step - loss: 2.0740 - val_loss: 2.3412\n",
      "\n",
      "Epoch 00010: val_loss improved from 2.40920 to 2.34124, saving model to model.h1.24_jan_19\n",
      "Epoch 11/30\n",
      "32000/32000 [==============================] - 222s 7ms/step - loss: 1.9620 - val_loss: 2.2755\n",
      "\n",
      "Epoch 00011: val_loss improved from 2.34124 to 2.27549, saving model to model.h1.24_jan_19\n",
      "Epoch 12/30\n",
      "32000/32000 [==============================] - 222s 7ms/step - loss: 1.8533 - val_loss: 2.2027\n",
      "\n",
      "Epoch 00012: val_loss improved from 2.27549 to 2.20269, saving model to model.h1.24_jan_19\n",
      "Epoch 13/30\n",
      "32000/32000 [==============================] - 219s 7ms/step - loss: 1.7491 - val_loss: 2.1550\n",
      "\n",
      "Epoch 00013: val_loss improved from 2.20269 to 2.15497, saving model to model.h1.24_jan_19\n",
      "Epoch 14/30\n",
      "32000/32000 [==============================] - 219s 7ms/step - loss: 1.6524 - val_loss: 2.1179\n",
      "\n",
      "Epoch 00014: val_loss improved from 2.15497 to 2.11787, saving model to model.h1.24_jan_19\n",
      "Epoch 15/30\n",
      "32000/32000 [==============================] - 221s 7ms/step - loss: 1.5586 - val_loss: 2.0673\n",
      "\n",
      "Epoch 00015: val_loss improved from 2.11787 to 2.06731, saving model to model.h1.24_jan_19\n",
      "Epoch 16/30\n",
      "32000/32000 [==============================] - 233s 7ms/step - loss: 1.4694 - val_loss: 2.0330\n",
      "\n",
      "Epoch 00016: val_loss improved from 2.06731 to 2.03297, saving model to model.h1.24_jan_19\n",
      "Epoch 17/30\n",
      "32000/32000 [==============================] - 216s 7ms/step - loss: 1.3837 - val_loss: 1.9941\n",
      "\n",
      "Epoch 00017: val_loss improved from 2.03297 to 1.99412, saving model to model.h1.24_jan_19\n",
      "Epoch 18/30\n",
      "32000/32000 [==============================] - 216s 7ms/step - loss: 1.3027 - val_loss: 1.9551\n",
      "\n",
      "Epoch 00018: val_loss improved from 1.99412 to 1.95508, saving model to model.h1.24_jan_19\n",
      "Epoch 19/30\n",
      "32000/32000 [==============================] - 217s 7ms/step - loss: 1.2241 - val_loss: 1.9239\n",
      "\n",
      "Epoch 00019: val_loss improved from 1.95508 to 1.92389, saving model to model.h1.24_jan_19\n",
      "Epoch 20/30\n",
      "32000/32000 [==============================] - 223s 7ms/step - loss: 1.1479 - val_loss: 1.9067\n",
      "\n",
      "Epoch 00020: val_loss improved from 1.92389 to 1.90667, saving model to model.h1.24_jan_19\n",
      "Epoch 21/30\n",
      "32000/32000 [==============================] - 219s 7ms/step - loss: 1.0746 - val_loss: 1.8746\n",
      "\n",
      "Epoch 00021: val_loss improved from 1.90667 to 1.87456, saving model to model.h1.24_jan_19\n",
      "Epoch 22/30\n",
      "32000/32000 [==============================] - 220s 7ms/step - loss: 1.0059 - val_loss: 1.8845\n",
      "\n",
      "Epoch 00022: val_loss did not improve from 1.87456\n",
      "Epoch 23/30\n",
      "32000/32000 [==============================] - 220s 7ms/step - loss: 0.9380 - val_loss: 1.8518\n",
      "\n",
      "Epoch 00023: val_loss improved from 1.87456 to 1.85177, saving model to model.h1.24_jan_19\n",
      "Epoch 24/30\n",
      "32000/32000 [==============================] - 227s 7ms/step - loss: 0.8774 - val_loss: 1.8115\n",
      "\n",
      "Epoch 00024: val_loss improved from 1.85177 to 1.81151, saving model to model.h1.24_jan_19\n",
      "Epoch 25/30\n",
      "32000/32000 [==============================] - 225s 7ms/step - loss: 0.8165 - val_loss: 1.8278\n",
      "\n",
      "Epoch 00025: val_loss did not improve from 1.81151\n",
      "Epoch 26/30\n",
      "32000/32000 [==============================] - 223s 7ms/step - loss: 0.7557 - val_loss: 1.7993\n",
      "\n",
      "Epoch 00026: val_loss improved from 1.81151 to 1.79930, saving model to model.h1.24_jan_19\n",
      "Epoch 27/30\n",
      "32000/32000 [==============================] - 227s 7ms/step - loss: 0.7022 - val_loss: 1.8285\n",
      "\n",
      "Epoch 00027: val_loss did not improve from 1.79930\n",
      "Epoch 28/30\n",
      "32000/32000 [==============================] - 233s 7ms/step - loss: 0.6503 - val_loss: 1.7870\n",
      "\n",
      "Epoch 00028: val_loss improved from 1.79930 to 1.78699, saving model to model.h1.24_jan_19\n",
      "Epoch 29/30\n",
      "32000/32000 [==============================] - 234s 7ms/step - loss: 0.6022 - val_loss: 1.7705\n",
      "\n",
      "Epoch 00029: val_loss improved from 1.78699 to 1.77052, saving model to model.h1.24_jan_19\n",
      "Epoch 30/30\n",
      "32000/32000 [==============================] - 219s 7ms/step - loss: 0.5538 - val_loss: 1.7693\n",
      "\n",
      "Epoch 00030: val_loss improved from 1.77052 to 1.76933, saving model to model.h1.24_jan_19\n"
     ]
    }
   ],
   "source": [
    "filename = 'model.h1.24_jan_19'\n",
    "checkpoint = ModelCheckpoint(filename, monitor='val_loss', verbose=1, save_best_only=True, mode='min')\n",
    "\n",
    "history = model.fit(trainX, trainY.reshape(trainY.shape[0], trainY.shape[1], 1), \n",
    "          epochs=30, batch_size=512, \n",
    "          validation_split = 0.2,\n",
    "          callbacks=[checkpoint], verbose=1)"
   ]
  },
  {
   "cell_type": "code",
   "execution_count": 34,
   "metadata": {},
   "outputs": [
    {
     "data": {
      "image/png": "[encoded data removed]",
      "text/plain": [
       "<Figure size 432x288 with 1 Axes>"
      ]
     },
     "metadata": {
      "needs_background": "light"
     },
     "output_type": "display_data"
    }
   ],
   "source": [
    "plt.plot(history.history['loss'])\n",
    "plt.plot(history.history['val_loss'])\n",
    "plt.legend(['train','validation'])\n",
    "plt.show()"
   ]
  },
  {
   "cell_type": "markdown",
   "metadata": {},
   "source": [
    "This model has reached a validation loss of 1.76933, which is not a bad value, but is almost 1 point more than the training loss, so probably is overfitting."
   ]
  },
  {
   "cell_type": "code",
   "execution_count": 25,
   "metadata": {},
   "outputs": [],
   "source": [
    "def get_word(n, tokenizer):\n",
    "    for word, index in tokenizer.word_index.items():\n",
    "        if index == n:\n",
    "            return word\n",
    "    return None"
   ]
  },
  {
   "cell_type": "code",
   "execution_count": 36,
   "metadata": {},
   "outputs": [],
   "source": [
    "preds = model.predict_classes(testX.reshape((testX.shape[0],testX.shape[1])))"
   ]
  },
  {
   "cell_type": "code",
   "execution_count": 37,
   "metadata": {},
   "outputs": [],
   "source": [
    "# convert predictions into text (English)\n",
    "preds_text = []\n",
    "for i in preds:\n",
    "    temp = []\n",
    "    for j in range(len(i)):\n",
    "        t = get_word(i[j], eng_tokenizer)\n",
    "        if j > 0:\n",
    "            if (t == get_word(i[j-1], eng_tokenizer)) or (t == None):\n",
    "                temp.append('')\n",
    "            else:\n",
    "                temp.append(t)\n",
    "             \n",
    "        else:\n",
    "            if(t == None):\n",
    "                temp.append('')\n",
    "            else:\n",
    "                temp.append(t)            \n",
    "        \n",
    "    preds_text.append(' '.join(temp))"
   ]
  },
  {
   "cell_type": "code",
   "execution_count": 38,
   "metadata": {},
   "outputs": [],
   "source": [
    "pred_df = pd.DataFrame({'actual' : test[:,0], 'predicted' : preds_text})"
   ]
  },
  {
   "cell_type": "code",
   "execution_count": 39,
   "metadata": {},
   "outputs": [],
   "source": [
    "pd.set_option('display.max_colwidth', 200)"
   ]
  },
  {
   "cell_type": "code",
   "execution_count": 40,
   "metadata": {
    "collapsed": true,
    "jupyter": {
     "outputs_hidden": true
    }
   },
   "outputs": [
    {
     "data": {
      "text/html": [
       "<div>\n",
       "<style scoped>\n",
       "    .dataframe tbody tr th:only-of-type {\n",
       "        vertical-align: middle;\n",
       "    }\n",
       "\n",
       "    .dataframe tbody tr th {\n",
       "        vertical-align: top;\n",
       "    }\n",
       "\n",
       "    .dataframe thead th {\n",
       "        text-align: right;\n",
       "    }\n",
       "</style>\n",
       "<table border=\"1\" class=\"dataframe\">\n",
       "  <thead>\n",
       "    <tr style=\"text-align: right;\">\n",
       "      <th></th>\n",
       "      <th>actual</th>\n",
       "      <th>predicted</th>\n",
       "    </tr>\n",
       "  </thead>\n",
       "  <tbody>\n",
       "    <tr>\n",
       "      <th>8354</th>\n",
       "      <td>repeat what i just said</td>\n",
       "      <td>i meant i say to</td>\n",
       "    </tr>\n",
       "    <tr>\n",
       "      <th>1592</th>\n",
       "      <td>they said that</td>\n",
       "      <td>they said</td>\n",
       "    </tr>\n",
       "    <tr>\n",
       "      <th>2152</th>\n",
       "      <td>i like your cat</td>\n",
       "      <td>i like your cat</td>\n",
       "    </tr>\n",
       "    <tr>\n",
       "      <th>572</th>\n",
       "      <td>he came home right at ten</td>\n",
       "      <td>he comes here at a</td>\n",
       "    </tr>\n",
       "    <tr>\n",
       "      <th>7205</th>\n",
       "      <td>i said yes immediately</td>\n",
       "      <td>i said yes</td>\n",
       "    </tr>\n",
       "    <tr>\n",
       "      <th>686</th>\n",
       "      <td>let go of my arm</td>\n",
       "      <td>let go of my arm</td>\n",
       "    </tr>\n",
       "    <tr>\n",
       "      <th>5918</th>\n",
       "      <td>i am not busy now</td>\n",
       "      <td>im not  now</td>\n",
       "    </tr>\n",
       "    <tr>\n",
       "      <th>6521</th>\n",
       "      <td>did tom call you</td>\n",
       "      <td>did you think tom</td>\n",
       "    </tr>\n",
       "    <tr>\n",
       "      <th>6171</th>\n",
       "      <td>they kidnapped me</td>\n",
       "      <td>i was abducted</td>\n",
       "    </tr>\n",
       "    <tr>\n",
       "      <th>1983</th>\n",
       "      <td>this doesnt work</td>\n",
       "      <td>this doesnt work</td>\n",
       "    </tr>\n",
       "    <tr>\n",
       "      <th>4805</th>\n",
       "      <td>i was expecting it</td>\n",
       "      <td>i made for  you</td>\n",
       "    </tr>\n",
       "    <tr>\n",
       "      <th>9909</th>\n",
       "      <td>was i about to die</td>\n",
       "      <td>theres starting to</td>\n",
       "    </tr>\n",
       "    <tr>\n",
       "      <th>7521</th>\n",
       "      <td>shes good at tennis</td>\n",
       "      <td>shes good  at</td>\n",
       "    </tr>\n",
       "    <tr>\n",
       "      <th>357</th>\n",
       "      <td>i get up early</td>\n",
       "      <td>i get up in early</td>\n",
       "    </tr>\n",
       "    <tr>\n",
       "      <th>4260</th>\n",
       "      <td>some snakes are dangerous</td>\n",
       "      <td>these are  cheap</td>\n",
       "    </tr>\n",
       "  </tbody>\n",
       "</table>\n",
       "</div>"
      ],
      "text/plain": [
       "                         actual                predicted\n",
       "8354    repeat what i just said      i meant i say to   \n",
       "1592             they said that          they said      \n",
       "2152            i like your cat      i like your cat    \n",
       "572   he came home right at ten    he comes here at a   \n",
       "7205     i said yes immediately          i said yes     \n",
       "686            let go of my arm      let go of my arm   \n",
       "5918          i am not busy now          im not  now    \n",
       "6521           did tom call you    did you think tom    \n",
       "6171          they kidnapped me      i was abducted     \n",
       "1983           this doesnt work    this doesnt work     \n",
       "4805         i was expecting it       i made for  you   \n",
       "9909         was i about to die  theres starting to     \n",
       "7521        shes good at tennis        shes good  at    \n",
       "357              i get up early     i get up in early   \n",
       "4260  some snakes are dangerous     these are  cheap    "
      ]
     },
     "execution_count": 40,
     "metadata": {},
     "output_type": "execute_result"
    }
   ],
   "source": [
    "pred_df.sample(15)"
   ]
  },
  {
   "cell_type": "markdown",
   "metadata": {},
   "source": [
    "#### **Now let's try to increase the number of units to 1024**"
   ]
  },
  {
   "cell_type": "code",
   "execution_count": 45,
   "metadata": {},
   "outputs": [],
   "source": [
    "model = build_model(spa_vocab_size, eng_vocab_size, spa_length, eng_length, 1024)\n",
    "rms = optimizers.RMSprop(lr=0.001)\n",
    "model.compile(optimizer=rms, loss='sparse_categorical_crossentropy')"
   ]
  },
  {
   "cell_type": "code",
   "execution_count": 46,
   "metadata": {
    "collapsed": true,
    "jupyter": {
     "outputs_hidden": true
    }
   },
   "outputs": [
    {
     "name": "stdout",
     "output_type": "stream",
     "text": [
      "Train on 32000 samples, validate on 8000 samples\n",
      "Epoch 1/30\n",
      "32000/32000 [==============================] - 427s 13ms/step - loss: 3.8287 - val_loss: 3.2583\n",
      "\n",
      "Epoch 00001: val_loss improved from inf to 3.25832, saving model to model.h1.24_jan_19\n",
      "Epoch 2/30\n",
      "32000/32000 [==============================] - 445s 14ms/step - loss: 3.1677 - val_loss: 3.0557\n",
      "\n",
      "Epoch 00002: val_loss improved from 3.25832 to 3.05568, saving model to model.h1.24_jan_19\n",
      "Epoch 3/30\n",
      "32000/32000 [==============================] - 450s 14ms/step - loss: 2.8707 - val_loss: 2.8411\n",
      "\n",
      "Epoch 00003: val_loss improved from 3.05568 to 2.84114, saving model to model.h1.24_jan_19\n",
      "Epoch 4/30\n",
      "32000/32000 [==============================] - 450s 14ms/step - loss: 2.5742 - val_loss: 2.5724\n",
      "\n",
      "Epoch 00004: val_loss improved from 2.84114 to 2.57243, saving model to model.h1.24_jan_19\n",
      "Epoch 5/30\n",
      "32000/32000 [==============================] - 453s 14ms/step - loss: 2.3134 - val_loss: 2.4126\n",
      "\n",
      "Epoch 00005: val_loss improved from 2.57243 to 2.41257, saving model to model.h1.24_jan_19\n",
      "Epoch 6/30\n",
      "32000/32000 [==============================] - 448s 14ms/step - loss: 2.0871 - val_loss: 2.2830\n",
      "\n",
      "Epoch 00006: val_loss improved from 2.41257 to 2.28300, saving model to model.h1.24_jan_19\n",
      "Epoch 7/30\n",
      "32000/32000 [==============================] - 441s 14ms/step - loss: 1.8815 - val_loss: 2.1887\n",
      "\n",
      "Epoch 00007: val_loss improved from 2.28300 to 2.18871, saving model to model.h1.24_jan_19\n",
      "Epoch 8/30\n",
      "32000/32000 [==============================] - 440s 14ms/step - loss: 1.6912 - val_loss: 2.0382\n",
      "\n",
      "Epoch 00008: val_loss improved from 2.18871 to 2.03823, saving model to model.h1.24_jan_19\n",
      "Epoch 9/30\n",
      "32000/32000 [==============================] - 441s 14ms/step - loss: 1.5190 - val_loss: 1.9865\n",
      "\n",
      "Epoch 00009: val_loss improved from 2.03823 to 1.98650, saving model to model.h1.24_jan_19\n",
      "Epoch 10/30\n",
      "32000/32000 [==============================] - 439s 14ms/step - loss: 1.3584 - val_loss: 1.9263\n",
      "\n",
      "Epoch 00010: val_loss improved from 1.98650 to 1.92635, saving model to model.h1.24_jan_19\n",
      "Epoch 11/30\n",
      "32000/32000 [==============================] - 444s 14ms/step - loss: 1.2119 - val_loss: 1.8722\n",
      "\n",
      "Epoch 00011: val_loss improved from 1.92635 to 1.87223, saving model to model.h1.24_jan_19\n",
      "Epoch 12/30\n",
      "32000/32000 [==============================] - 441s 14ms/step - loss: 1.0731 - val_loss: 1.8433\n",
      "\n",
      "Epoch 00012: val_loss improved from 1.87223 to 1.84335, saving model to model.h1.24_jan_19\n",
      "Epoch 13/30\n",
      "32000/32000 [==============================] - 440s 14ms/step - loss: 0.9526 - val_loss: 1.7556\n",
      "\n",
      "Epoch 00013: val_loss improved from 1.84335 to 1.75556, saving model to model.h1.24_jan_19\n",
      "Epoch 14/30\n",
      "32000/32000 [==============================] - 439s 14ms/step - loss: 0.8341 - val_loss: 1.7606\n",
      "\n",
      "Epoch 00014: val_loss did not improve from 1.75556\n",
      "Epoch 15/30\n",
      "32000/32000 [==============================] - 998s 31ms/step - loss: 0.7273 - val_loss: 1.7224\n",
      "\n",
      "Epoch 00015: val_loss improved from 1.75556 to 1.72242, saving model to model.h1.24_jan_19\n",
      "Epoch 16/30\n",
      "32000/32000 [==============================] - 1262s 39ms/step - loss: 0.6299 - val_loss: 1.7354\n",
      "\n",
      "Epoch 00016: val_loss did not improve from 1.72242\n",
      "Epoch 17/30\n",
      "32000/32000 [==============================] - 1250s 39ms/step - loss: 0.5412 - val_loss: 1.6911\n",
      "\n",
      "Epoch 00017: val_loss improved from 1.72242 to 1.69110, saving model to model.h1.24_jan_19\n",
      "Epoch 18/30\n",
      "32000/32000 [==============================] - 778s 24ms/step - loss: 0.4605 - val_loss: 1.6936\n",
      "\n",
      "Epoch 00018: val_loss did not improve from 1.69110\n",
      "Epoch 19/30\n",
      "32000/32000 [==============================] - 432s 14ms/step - loss: 0.3895 - val_loss: 1.7039\n",
      "\n",
      "Epoch 00019: val_loss did not improve from 1.69110\n",
      "Epoch 20/30\n",
      "32000/32000 [==============================] - 440s 14ms/step - loss: 0.3255 - val_loss: 1.7029\n",
      "\n",
      "Epoch 00020: val_loss did not improve from 1.69110\n",
      "Epoch 21/30\n",
      "32000/32000 [==============================] - 439s 14ms/step - loss: 0.2747 - val_loss: 1.7063\n",
      "\n",
      "Epoch 00021: val_loss did not improve from 1.69110\n",
      "Epoch 22/30\n",
      "32000/32000 [==============================] - 440s 14ms/step - loss: 0.2297 - val_loss: 1.7107\n",
      "\n",
      "Epoch 00022: val_loss did not improve from 1.69110\n",
      "Epoch 23/30\n",
      "32000/32000 [==============================] - 442s 14ms/step - loss: 0.1913 - val_loss: 1.7635\n",
      "\n",
      "Epoch 00023: val_loss did not improve from 1.69110\n",
      "Epoch 24/30\n",
      "32000/32000 [==============================] - 441s 14ms/step - loss: 0.1664 - val_loss: 1.7386\n",
      "\n",
      "Epoch 00024: val_loss did not improve from 1.69110\n",
      "Epoch 25/30\n",
      "32000/32000 [==============================] - 441s 14ms/step - loss: 0.1412 - val_loss: 1.7679\n",
      "\n",
      "Epoch 00025: val_loss did not improve from 1.69110\n",
      "Epoch 26/30\n",
      "32000/32000 [==============================] - 442s 14ms/step - loss: 0.1243 - val_loss: 1.7758\n",
      "\n",
      "Epoch 00026: val_loss did not improve from 1.69110\n",
      "Epoch 27/30\n",
      "32000/32000 [==============================] - 442s 14ms/step - loss: 0.1098 - val_loss: 1.7959\n",
      "\n",
      "Epoch 00027: val_loss did not improve from 1.69110\n",
      "Epoch 28/30\n",
      "32000/32000 [==============================] - 447s 14ms/step - loss: 0.1012 - val_loss: 1.8114\n",
      "\n",
      "Epoch 00028: val_loss did not improve from 1.69110\n",
      "Epoch 29/30\n",
      "32000/32000 [==============================] - 442s 14ms/step - loss: 0.0933 - val_loss: 1.8219\n",
      "\n",
      "Epoch 00029: val_loss did not improve from 1.69110\n",
      "Epoch 30/30\n",
      "32000/32000 [==============================] - 442s 14ms/step - loss: 0.0868 - val_loss: 1.8486\n",
      "\n",
      "Epoch 00030: val_loss did not improve from 1.69110\n"
     ]
    }
   ],
   "source": [
    "filename = 'model.h1.24_jan_19'\n",
    "checkpoint = ModelCheckpoint(filename, monitor='val_loss', verbose=1, save_best_only=True, mode='min')\n",
    "\n",
    "history = model.fit(trainX, trainY.reshape(trainY.shape[0], trainY.shape[1], 1), \n",
    "          epochs=30, batch_size=512, \n",
    "          validation_split = 0.2,\n",
    "          callbacks=[checkpoint], verbose=1)"
   ]
  },
  {
   "cell_type": "code",
   "execution_count": 47,
   "metadata": {},
   "outputs": [
    {
     "data": {
      "image/png": "[encoded data removed]",
      "text/plain": [
       "<Figure size 432x288 with 1 Axes>"
      ]
     },
     "metadata": {
      "needs_background": "light"
     },
     "output_type": "display_data"
    }
   ],
   "source": [
    "plt.plot(history.history['loss'])\n",
    "plt.plot(history.history['val_loss'])\n",
    "plt.legend(['train','validation'])\n",
    "plt.show()"
   ]
  },
  {
   "cell_type": "markdown",
   "metadata": {},
   "source": [
    "Look at this, we have reduced the loss! We obtained 1.69110 in spite of being overfitting since the epoch number twenty."
   ]
  },
  {
   "cell_type": "code",
   "execution_count": 48,
   "metadata": {},
   "outputs": [],
   "source": [
    "preds = model.predict_classes(testX.reshape((testX.shape[0],testX.shape[1])))"
   ]
  },
  {
   "cell_type": "code",
   "execution_count": 49,
   "metadata": {},
   "outputs": [],
   "source": [
    "# convert predictions into text (English)\n",
    "preds_text = []\n",
    "for i in preds:\n",
    "    temp = []\n",
    "    for j in range(len(i)):\n",
    "        t = get_word(i[j], eng_tokenizer)\n",
    "        if j > 0:\n",
    "            if (t == get_word(i[j-1], eng_tokenizer)) or (t == None):\n",
    "                temp.append('')\n",
    "            else:\n",
    "                temp.append(t)\n",
    "             \n",
    "        else:\n",
    "            if(t == None):\n",
    "                temp.append('')\n",
    "            else:\n",
    "                temp.append(t)            \n",
    "        \n",
    "    preds_text.append(' '.join(temp))"
   ]
  },
  {
   "cell_type": "code",
   "execution_count": 50,
   "metadata": {},
   "outputs": [],
   "source": [
    "pred_df = pd.DataFrame({'actual' : test[:,0], 'predicted' : preds_text})"
   ]
  },
  {
   "cell_type": "code",
   "execution_count": 51,
   "metadata": {
    "collapsed": true,
    "jupyter": {
     "outputs_hidden": true
    }
   },
   "outputs": [
    {
     "data": {
      "text/html": [
       "<div>\n",
       "<style scoped>\n",
       "    .dataframe tbody tr th:only-of-type {\n",
       "        vertical-align: middle;\n",
       "    }\n",
       "\n",
       "    .dataframe tbody tr th {\n",
       "        vertical-align: top;\n",
       "    }\n",
       "\n",
       "    .dataframe thead th {\n",
       "        text-align: right;\n",
       "    }\n",
       "</style>\n",
       "<table border=\"1\" class=\"dataframe\">\n",
       "  <thead>\n",
       "    <tr style=\"text-align: right;\">\n",
       "      <th></th>\n",
       "      <th>actual</th>\n",
       "      <th>predicted</th>\n",
       "    </tr>\n",
       "  </thead>\n",
       "  <tbody>\n",
       "    <tr>\n",
       "      <th>7889</th>\n",
       "      <td>theres no toilet paper</td>\n",
       "      <td>theres no  water</td>\n",
       "    </tr>\n",
       "    <tr>\n",
       "      <th>5990</th>\n",
       "      <td>tom watched attentively</td>\n",
       "      <td>tom craves</td>\n",
       "    </tr>\n",
       "    <tr>\n",
       "      <th>7568</th>\n",
       "      <td>this is disgusting</td>\n",
       "      <td>this is disgusting</td>\n",
       "    </tr>\n",
       "    <tr>\n",
       "      <th>4684</th>\n",
       "      <td>i am too short</td>\n",
       "      <td>i am short</td>\n",
       "    </tr>\n",
       "    <tr>\n",
       "      <th>346</th>\n",
       "      <td>it will probably rain</td>\n",
       "      <td>its right</td>\n",
       "    </tr>\n",
       "    <tr>\n",
       "      <th>616</th>\n",
       "      <td>i hate it</td>\n",
       "      <td>i burned me</td>\n",
       "    </tr>\n",
       "    <tr>\n",
       "      <th>8308</th>\n",
       "      <td>what color is toms car</td>\n",
       "      <td>what color is toms</td>\n",
       "    </tr>\n",
       "    <tr>\n",
       "      <th>1085</th>\n",
       "      <td>you are both in the wrong</td>\n",
       "      <td>theyre both</td>\n",
       "    </tr>\n",
       "    <tr>\n",
       "      <th>9233</th>\n",
       "      <td>may i swim in the lake</td>\n",
       "      <td>may i leave the</td>\n",
       "    </tr>\n",
       "    <tr>\n",
       "      <th>2734</th>\n",
       "      <td>what a strange man</td>\n",
       "      <td>what a dignified man</td>\n",
       "    </tr>\n",
       "    <tr>\n",
       "      <th>4550</th>\n",
       "      <td>he believes in santa claus</td>\n",
       "      <td>tom hates the guy</td>\n",
       "    </tr>\n",
       "    <tr>\n",
       "      <th>3999</th>\n",
       "      <td>tom is a safe driver</td>\n",
       "      <td>tom is a talented man</td>\n",
       "    </tr>\n",
       "    <tr>\n",
       "      <th>5733</th>\n",
       "      <td>whats this book about</td>\n",
       "      <td>what is  book</td>\n",
       "    </tr>\n",
       "    <tr>\n",
       "      <th>1148</th>\n",
       "      <td>i asked her out on a date</td>\n",
       "      <td>i asked her for a date</td>\n",
       "    </tr>\n",
       "    <tr>\n",
       "      <th>1900</th>\n",
       "      <td>you left your lights on</td>\n",
       "      <td>you  your  best</td>\n",
       "    </tr>\n",
       "  </tbody>\n",
       "</table>\n",
       "</div>"
      ],
      "text/plain": [
       "                          actual                 predicted\n",
       "7889      theres no toilet paper      theres no  water    \n",
       "5990     tom watched attentively          tom craves      \n",
       "7568          this is disgusting   this is disgusting     \n",
       "4684              i am too short           i am short     \n",
       "346        it will probably rain           its right      \n",
       "616                    i hate it          i burned me     \n",
       "8308      what color is toms car    what color is toms    \n",
       "1085   you are both in the wrong         theyre both      \n",
       "9233      may i swim in the lake       may i leave the    \n",
       "2734          what a strange man  what a dignified man    \n",
       "4550  he believes in santa claus     tom hates the guy    \n",
       "3999        tom is a safe driver  tom is a talented man   \n",
       "5733       whats this book about         what is  book    \n",
       "1148   i asked her out on a date  i asked her for a date  \n",
       "1900     you left your lights on        you  your  best   "
      ]
     },
     "execution_count": 51,
     "metadata": {},
     "output_type": "execute_result"
    }
   ],
   "source": [
    "pred_df.sample(15)"
   ]
  },
  {
   "cell_type": "markdown",
   "metadata": {},
   "source": [
    "#### **Now I'm going to reduce the number of units to the half, 256 units**"
   ]
  },
  {
   "cell_type": "code",
   "execution_count": 29,
   "metadata": {},
   "outputs": [],
   "source": [
    "model = build_model(spa_vocab_size, eng_vocab_size, spa_length, eng_length, 256)\n",
    "rms = optimizers.RMSprop(lr=0.001)\n",
    "model.compile(optimizer=rms, loss='sparse_categorical_crossentropy')"
   ]
  },
  {
   "cell_type": "code",
   "execution_count": 30,
   "metadata": {
    "collapsed": true,
    "jupyter": {
     "outputs_hidden": true
    }
   },
   "outputs": [
    {
     "name": "stdout",
     "output_type": "stream",
     "text": [
      "Train on 32000 samples, validate on 8000 samples\n",
      "Epoch 1/30\n",
      "32000/32000 [==============================] - 125s 4ms/step - loss: 4.2097 - val_loss: 3.6010\n",
      "\n",
      "Epoch 00001: val_loss improved from inf to 3.60099, saving model to model.h1.24_jan_19\n",
      "Epoch 2/30\n",
      "32000/32000 [==============================] - 124s 4ms/step - loss: 3.4427 - val_loss: 3.3817\n",
      "\n",
      "Epoch 00002: val_loss improved from 3.60099 to 3.38174, saving model to model.h1.24_jan_19\n",
      "Epoch 3/30\n",
      "32000/32000 [==============================] - 125s 4ms/step - loss: 3.2781 - val_loss: 3.3251\n",
      "\n",
      "Epoch 00003: val_loss improved from 3.38174 to 3.32513, saving model to model.h1.24_jan_19\n",
      "Epoch 4/30\n",
      "32000/32000 [==============================] - 125s 4ms/step - loss: 3.2006 - val_loss: 3.2150\n",
      "\n",
      "Epoch 00004: val_loss improved from 3.32513 to 3.21498, saving model to model.h1.24_jan_19\n",
      "Epoch 5/30\n",
      "32000/32000 [==============================] - 126s 4ms/step - loss: 3.1132 - val_loss: 3.1574\n",
      "\n",
      "Epoch 00005: val_loss improved from 3.21498 to 3.15739, saving model to model.h1.24_jan_19\n",
      "Epoch 6/30\n",
      "32000/32000 [==============================] - 125s 4ms/step - loss: 3.0346 - val_loss: 3.0887\n",
      "\n",
      "Epoch 00006: val_loss improved from 3.15739 to 3.08873, saving model to model.h1.24_jan_19\n",
      "Epoch 7/30\n",
      "32000/32000 [==============================] - 127s 4ms/step - loss: 2.9662 - val_loss: 3.0471\n",
      "\n",
      "Epoch 00007: val_loss improved from 3.08873 to 3.04714, saving model to model.h1.24_jan_19\n",
      "Epoch 8/30\n",
      "32000/32000 [==============================] - 127s 4ms/step - loss: 2.9143 - val_loss: 3.0182\n",
      "\n",
      "Epoch 00008: val_loss improved from 3.04714 to 3.01820, saving model to model.h1.24_jan_19\n",
      "Epoch 9/30\n",
      "32000/32000 [==============================] - 126s 4ms/step - loss: 2.8635 - val_loss: 2.9698\n",
      "\n",
      "Epoch 00009: val_loss improved from 3.01820 to 2.96984, saving model to model.h1.24_jan_19\n",
      "Epoch 10/30\n",
      "32000/32000 [==============================] - 126s 4ms/step - loss: 2.7936 - val_loss: 2.8967\n",
      "\n",
      "Epoch 00010: val_loss improved from 2.96984 to 2.89672, saving model to model.h1.24_jan_19\n",
      "Epoch 11/30\n",
      "32000/32000 [==============================] - 125s 4ms/step - loss: 2.7072 - val_loss: 2.8371\n",
      "\n",
      "Epoch 00011: val_loss improved from 2.89672 to 2.83706, saving model to model.h1.24_jan_19\n",
      "Epoch 12/30\n",
      "32000/32000 [==============================] - 126s 4ms/step - loss: 2.6204 - val_loss: 2.7730\n",
      "\n",
      "Epoch 00012: val_loss improved from 2.83706 to 2.77296, saving model to model.h1.24_jan_19\n",
      "Epoch 13/30\n",
      "32000/32000 [==============================] - 127s 4ms/step - loss: 2.5310 - val_loss: 2.6841\n",
      "\n",
      "Epoch 00013: val_loss improved from 2.77296 to 2.68408, saving model to model.h1.24_jan_19\n",
      "Epoch 14/30\n",
      "32000/32000 [==============================] - 131s 4ms/step - loss: 2.4447 - val_loss: 2.6437\n",
      "\n",
      "Epoch 00014: val_loss improved from 2.68408 to 2.64368, saving model to model.h1.24_jan_19\n",
      "Epoch 15/30\n",
      "32000/32000 [==============================] - 131s 4ms/step - loss: 2.3597 - val_loss: 2.5658\n",
      "\n",
      "Epoch 00015: val_loss improved from 2.64368 to 2.56585, saving model to model.h1.24_jan_19\n",
      "Epoch 16/30\n",
      "32000/32000 [==============================] - 129s 4ms/step - loss: 2.2816 - val_loss: 2.5161\n",
      "\n",
      "Epoch 00016: val_loss improved from 2.56585 to 2.51606, saving model to model.h1.24_jan_19\n",
      "Epoch 17/30\n",
      "32000/32000 [==============================] - 124s 4ms/step - loss: 2.2019 - val_loss: 2.4591\n",
      "\n",
      "Epoch 00017: val_loss improved from 2.51606 to 2.45908, saving model to model.h1.24_jan_19\n",
      "Epoch 18/30\n",
      "32000/32000 [==============================] - 126s 4ms/step - loss: 2.1238 - val_loss: 2.4077\n",
      "\n",
      "Epoch 00018: val_loss improved from 2.45908 to 2.40774, saving model to model.h1.24_jan_19\n",
      "Epoch 19/30\n",
      "32000/32000 [==============================] - 127s 4ms/step - loss: 2.0449 - val_loss: 2.3654\n",
      "\n",
      "Epoch 00019: val_loss improved from 2.40774 to 2.36539, saving model to model.h1.24_jan_19\n",
      "Epoch 20/30\n",
      "32000/32000 [==============================] - 125s 4ms/step - loss: 1.9709 - val_loss: 2.3091\n",
      "\n",
      "Epoch 00020: val_loss improved from 2.36539 to 2.30907, saving model to model.h1.24_jan_19\n",
      "Epoch 21/30\n",
      "32000/32000 [==============================] - 145s 5ms/step - loss: 1.8966 - val_loss: 2.2689\n",
      "\n",
      "Epoch 00021: val_loss improved from 2.30907 to 2.26891, saving model to model.h1.24_jan_19\n",
      "Epoch 22/30\n",
      "32000/32000 [==============================] - 128s 4ms/step - loss: 1.8299 - val_loss: 2.2484\n",
      "\n",
      "Epoch 00022: val_loss improved from 2.26891 to 2.24842, saving model to model.h1.24_jan_19\n",
      "Epoch 23/30\n",
      "32000/32000 [==============================] - 126s 4ms/step - loss: 1.7602 - val_loss: 2.1898\n",
      "\n",
      "Epoch 00023: val_loss improved from 2.24842 to 2.18976, saving model to model.h1.24_jan_19\n",
      "Epoch 24/30\n",
      "32000/32000 [==============================] - 128s 4ms/step - loss: 1.6950 - val_loss: 2.1543\n",
      "\n",
      "Epoch 00024: val_loss improved from 2.18976 to 2.15433, saving model to model.h1.24_jan_19\n",
      "Epoch 25/30\n",
      "32000/32000 [==============================] - 125s 4ms/step - loss: 1.6300 - val_loss: 2.1183\n",
      "\n",
      "Epoch 00025: val_loss improved from 2.15433 to 2.11827, saving model to model.h1.24_jan_19\n",
      "Epoch 26/30\n",
      "32000/32000 [==============================] - 123s 4ms/step - loss: 1.5701 - val_loss: 2.0934\n",
      "\n",
      "Epoch 00026: val_loss improved from 2.11827 to 2.09341, saving model to model.h1.24_jan_19\n",
      "Epoch 27/30\n",
      "32000/32000 [==============================] - 126s 4ms/step - loss: 1.5088 - val_loss: 2.0599\n",
      "\n",
      "Epoch 00027: val_loss improved from 2.09341 to 2.05992, saving model to model.h1.24_jan_19\n",
      "Epoch 28/30\n",
      "32000/32000 [==============================] - 136s 4ms/step - loss: 1.4527 - val_loss: 2.0211\n",
      "\n",
      "Epoch 00028: val_loss improved from 2.05992 to 2.02112, saving model to model.h1.24_jan_19\n",
      "Epoch 29/30\n",
      "32000/32000 [==============================] - 136s 4ms/step - loss: 1.3955 - val_loss: 2.0125\n",
      "\n",
      "Epoch 00029: val_loss improved from 2.02112 to 2.01245, saving model to model.h1.24_jan_19\n",
      "Epoch 30/30\n",
      "32000/32000 [==============================] - 131s 4ms/step - loss: 1.3426 - val_loss: 1.9759\n",
      "\n",
      "Epoch 00030: val_loss improved from 2.01245 to 1.97592, saving model to model.h1.24_jan_19\n"
     ]
    }
   ],
   "source": [
    "filename = 'model.h1.24_jan_19'\n",
    "checkpoint = ModelCheckpoint(filename, monitor='val_loss', verbose=1, save_best_only=True, mode='min')\n",
    "\n",
    "history = model.fit(trainX, trainY.reshape(trainY.shape[0], trainY.shape[1], 1), \n",
    "          epochs=30, batch_size=512, \n",
    "          validation_split = 0.2,\n",
    "          callbacks=[checkpoint], verbose=1)"
   ]
  },
  {
   "cell_type": "code",
   "execution_count": 31,
   "metadata": {},
   "outputs": [
    {
     "data": {
      "image/png": "[encoded data removed]",
      "text/plain": [
       "<Figure size 432x288 with 1 Axes>"
      ]
     },
     "metadata": {
      "needs_background": "light"
     },
     "output_type": "display_data"
    }
   ],
   "source": [
    "plt.plot(history.history['loss'])\n",
    "plt.plot(history.history['val_loss'])\n",
    "plt.legend(['train','validation'])\n",
    "plt.show()"
   ]
  },
  {
   "cell_type": "markdown",
   "metadata": {},
   "source": [
    "In this case the validation loss is 1.97592, but seeing the graph it seems that increasing the epochs the validation will be reduced. Therefore, it is possible to obtain better results with this model. \n",
    "On the other hand, the model also seems to be overfitting."
   ]
  },
  {
   "cell_type": "code",
   "execution_count": 32,
   "metadata": {},
   "outputs": [],
   "source": [
    "preds = model.predict_classes(testX.reshape((testX.shape[0],testX.shape[1])))"
   ]
  },
  {
   "cell_type": "code",
   "execution_count": 35,
   "metadata": {},
   "outputs": [],
   "source": [
    "# convert predictions into text (English)\n",
    "preds_text = []\n",
    "for i in preds:\n",
    "    temp = []\n",
    "    for j in range(len(i)):\n",
    "        t = get_word(i[j], eng_tokenizer)\n",
    "        if j > 0:\n",
    "            if (t == get_word(i[j-1], eng_tokenizer)) or (t == None):\n",
    "                temp.append('')\n",
    "            else:\n",
    "                temp.append(t)\n",
    "             \n",
    "        else:\n",
    "            if(t == None):\n",
    "                temp.append('')\n",
    "            else:\n",
    "                temp.append(t)            \n",
    "        \n",
    "    preds_text.append(' '.join(temp))"
   ]
  },
  {
   "cell_type": "code",
   "execution_count": 36,
   "metadata": {},
   "outputs": [],
   "source": [
    "pred_df = pd.DataFrame({'actual' : test[:,0], 'predicted' : preds_text})"
   ]
  },
  {
   "cell_type": "code",
   "execution_count": 37,
   "metadata": {
    "collapsed": true,
    "jupyter": {
     "outputs_hidden": true
    }
   },
   "outputs": [
    {
     "data": {
      "text/html": [
       "<div>\n",
       "<style scoped>\n",
       "    .dataframe tbody tr th:only-of-type {\n",
       "        vertical-align: middle;\n",
       "    }\n",
       "\n",
       "    .dataframe tbody tr th {\n",
       "        vertical-align: top;\n",
       "    }\n",
       "\n",
       "    .dataframe thead th {\n",
       "        text-align: right;\n",
       "    }\n",
       "</style>\n",
       "<table border=\"1\" class=\"dataframe\">\n",
       "  <thead>\n",
       "    <tr style=\"text-align: right;\">\n",
       "      <th></th>\n",
       "      <th>actual</th>\n",
       "      <th>predicted</th>\n",
       "    </tr>\n",
       "  </thead>\n",
       "  <tbody>\n",
       "    <tr>\n",
       "      <th>6354</th>\n",
       "      <td>im so fat</td>\n",
       "      <td>im am fat</td>\n",
       "    </tr>\n",
       "    <tr>\n",
       "      <th>9115</th>\n",
       "      <td>whats going on</td>\n",
       "      <td>what is you</td>\n",
       "    </tr>\n",
       "    <tr>\n",
       "      <th>7190</th>\n",
       "      <td>tom has three exwives</td>\n",
       "      <td>tom has three</td>\n",
       "    </tr>\n",
       "    <tr>\n",
       "      <th>1413</th>\n",
       "      <td>remember these rules</td>\n",
       "      <td>lets the</td>\n",
       "    </tr>\n",
       "    <tr>\n",
       "      <th>5265</th>\n",
       "      <td>tom lost his voice</td>\n",
       "      <td>tom won his</td>\n",
       "    </tr>\n",
       "    <tr>\n",
       "      <th>6909</th>\n",
       "      <td>i thought you were asleep</td>\n",
       "      <td>i wish i were</td>\n",
       "    </tr>\n",
       "    <tr>\n",
       "      <th>9573</th>\n",
       "      <td>he has many history books</td>\n",
       "      <td>he has many old</td>\n",
       "    </tr>\n",
       "    <tr>\n",
       "      <th>8496</th>\n",
       "      <td>im doing fairly well now</td>\n",
       "      <td>im very now</td>\n",
       "    </tr>\n",
       "    <tr>\n",
       "      <th>387</th>\n",
       "      <td>tom and mary agree</td>\n",
       "      <td>tom and</td>\n",
       "    </tr>\n",
       "    <tr>\n",
       "      <th>7963</th>\n",
       "      <td>my husband is at work</td>\n",
       "      <td>my house is in</td>\n",
       "    </tr>\n",
       "    <tr>\n",
       "      <th>8081</th>\n",
       "      <td>i am shorter than you</td>\n",
       "      <td>im than  you</td>\n",
       "    </tr>\n",
       "    <tr>\n",
       "      <th>3683</th>\n",
       "      <td>is anyone hurt</td>\n",
       "      <td>is tom mad</td>\n",
       "    </tr>\n",
       "    <tr>\n",
       "      <th>3028</th>\n",
       "      <td>he has an eye for antiques</td>\n",
       "      <td>he has his dollars</td>\n",
       "    </tr>\n",
       "    <tr>\n",
       "      <th>8291</th>\n",
       "      <td>were willing to help you</td>\n",
       "      <td>were willing to you</td>\n",
       "    </tr>\n",
       "    <tr>\n",
       "      <th>1590</th>\n",
       "      <td>will you come with us</td>\n",
       "      <td>will you go with me</td>\n",
       "    </tr>\n",
       "  </tbody>\n",
       "</table>\n",
       "</div>"
      ],
      "text/plain": [
       "                          actual                predicted\n",
       "6354                   im so fat           im am fat     \n",
       "9115              whats going on         what is you     \n",
       "7190       tom has three exwives       tom has three     \n",
       "1413        remember these rules           lets the      \n",
       "5265          tom lost his voice         tom won his     \n",
       "6909   i thought you were asleep        i wish i were    \n",
       "9573   he has many history books      he has many old    \n",
       "8496    im doing fairly well now         im very now     \n",
       "387           tom and mary agree            tom and      \n",
       "7963       my husband is at work       my house is in    \n",
       "8081       i am shorter than you         im than  you    \n",
       "3683              is anyone hurt          is tom mad     \n",
       "3028  he has an eye for antiques   he has his dollars    \n",
       "8291    were willing to help you  were willing to you    \n",
       "1590       will you come with us   will you go with me   "
      ]
     },
     "execution_count": 37,
     "metadata": {},
     "output_type": "execute_result"
    }
   ],
   "source": [
    "pred_df.sample(15)"
   ]
  },
  {
   "cell_type": "markdown",
   "metadata": {},
   "source": [
    "#### **Let's change another hyperparameter, the learning rate**"
   ]
  },
  {
   "cell_type": "markdown",
   "metadata": {},
   "source": [
    "In this case I'm just going to increase the learning rate's value, because if I reduce it the model is not going to be able to find a good result in 30 epochs, and it'll last too much. On the other hand, It's also possible that increasing it, the model will learn very fast and maybe can jump over the global minimum. But I accept that risk, we are here to win."
   ]
  },
  {
   "cell_type": "code",
   "execution_count": 38,
   "metadata": {},
   "outputs": [],
   "source": [
    "model = build_model(spa_vocab_size, eng_vocab_size, spa_length, eng_length, 512)\n",
    "rms = optimizers.RMSprop(lr=0.01)\n",
    "model.compile(optimizer=rms, loss='sparse_categorical_crossentropy')"
   ]
  },
  {
   "cell_type": "code",
   "execution_count": 39,
   "metadata": {
    "collapsed": true,
    "jupyter": {
     "outputs_hidden": true
    }
   },
   "outputs": [
    {
     "name": "stdout",
     "output_type": "stream",
     "text": [
      "Train on 32000 samples, validate on 8000 samples\n",
      "Epoch 1/30\n",
      "32000/32000 [==============================] - 217s 7ms/step - loss: 4.5837 - val_loss: 3.7145\n",
      "\n",
      "Epoch 00001: val_loss improved from inf to 3.71451, saving model to model.h1.24_jan_19\n",
      "Epoch 2/30\n",
      "32000/32000 [==============================] - 211s 7ms/step - loss: 3.3416 - val_loss: 2.9807\n",
      "\n",
      "Epoch 00002: val_loss improved from 3.71451 to 2.98074, saving model to model.h1.24_jan_19\n",
      "Epoch 3/30\n",
      "32000/32000 [==============================] - 209s 7ms/step - loss: 2.5889 - val_loss: 2.3835\n",
      "\n",
      "Epoch 00003: val_loss improved from 2.98074 to 2.38349, saving model to model.h1.24_jan_19\n",
      "Epoch 4/30\n",
      "32000/32000 [==============================] - 212s 7ms/step - loss: 1.9950 - val_loss: 2.0837\n",
      "\n",
      "Epoch 00004: val_loss improved from 2.38349 to 2.08366, saving model to model.h1.24_jan_19\n",
      "Epoch 5/30\n",
      "32000/32000 [==============================] - 232s 7ms/step - loss: 1.5500 - val_loss: 1.8940\n",
      "\n",
      "Epoch 00005: val_loss improved from 2.08366 to 1.89401, saving model to model.h1.24_jan_19\n",
      "Epoch 6/30\n",
      "32000/32000 [==============================] - 234s 7ms/step - loss: 1.1964 - val_loss: 1.8285\n",
      "\n",
      "Epoch 00006: val_loss improved from 1.89401 to 1.82846, saving model to model.h1.24_jan_19\n",
      "Epoch 7/30\n",
      "32000/32000 [==============================] - 234s 7ms/step - loss: 0.9208 - val_loss: 1.8007\n",
      "\n",
      "Epoch 00007: val_loss improved from 1.82846 to 1.80072, saving model to model.h1.24_jan_19\n",
      "Epoch 8/30\n",
      "32000/32000 [==============================] - 237s 7ms/step - loss: 0.7045 - val_loss: 1.8155\n",
      "\n",
      "Epoch 00008: val_loss did not improve from 1.80072\n",
      "Epoch 9/30\n",
      "32000/32000 [==============================] - 236s 7ms/step - loss: 0.5504 - val_loss: 1.8423\n",
      "\n",
      "Epoch 00009: val_loss did not improve from 1.80072\n",
      "Epoch 10/30\n",
      "32000/32000 [==============================] - 238s 7ms/step - loss: 0.4383 - val_loss: 1.8827\n",
      "\n",
      "Epoch 00010: val_loss did not improve from 1.80072\n",
      "Epoch 11/30\n",
      "32000/32000 [==============================] - 228s 7ms/step - loss: 0.3651 - val_loss: 1.9413\n",
      "\n",
      "Epoch 00011: val_loss did not improve from 1.80072\n",
      "Epoch 12/30\n",
      "32000/32000 [==============================] - 228s 7ms/step - loss: 0.3103 - val_loss: 1.9996\n",
      "\n",
      "Epoch 00012: val_loss did not improve from 1.80072\n",
      "Epoch 13/30\n",
      "32000/32000 [==============================] - 228s 7ms/step - loss: 0.2777 - val_loss: 2.0099\n",
      "\n",
      "Epoch 00013: val_loss did not improve from 1.80072\n",
      "Epoch 14/30\n",
      "32000/32000 [==============================] - 245s 8ms/step - loss: 0.2537 - val_loss: 2.0394\n",
      "\n",
      "Epoch 00014: val_loss did not improve from 1.80072\n",
      "Epoch 15/30\n",
      "32000/32000 [==============================] - 235s 7ms/step - loss: 0.2366 - val_loss: 2.0574\n",
      "\n",
      "Epoch 00015: val_loss did not improve from 1.80072\n",
      "Epoch 16/30\n",
      "32000/32000 [==============================] - 228s 7ms/step - loss: 0.2211 - val_loss: 2.0917\n",
      "\n",
      "Epoch 00016: val_loss did not improve from 1.80072\n",
      "Epoch 17/30\n",
      "32000/32000 [==============================] - 246s 8ms/step - loss: 0.2127 - val_loss: 2.1157\n",
      "\n",
      "Epoch 00017: val_loss did not improve from 1.80072\n",
      "Epoch 18/30\n",
      "32000/32000 [==============================] - 237s 7ms/step - loss: 0.2047 - val_loss: 2.1489\n",
      "\n",
      "Epoch 00018: val_loss did not improve from 1.80072\n",
      "Epoch 19/30\n",
      "32000/32000 [==============================] - 234s 7ms/step - loss: 0.1999 - val_loss: 2.1747\n",
      "\n",
      "Epoch 00019: val_loss did not improve from 1.80072\n",
      "Epoch 20/30\n",
      "32000/32000 [==============================] - 235s 7ms/step - loss: 0.1948 - val_loss: 2.2087\n",
      "\n",
      "Epoch 00020: val_loss did not improve from 1.80072\n",
      "Epoch 21/30\n",
      "32000/32000 [==============================] - 247s 8ms/step - loss: 0.1909 - val_loss: 2.2054\n",
      "\n",
      "Epoch 00021: val_loss did not improve from 1.80072\n",
      "Epoch 22/30\n",
      "32000/32000 [==============================] - 239s 7ms/step - loss: 0.1846 - val_loss: 2.2247\n",
      "\n",
      "Epoch 00022: val_loss did not improve from 1.80072\n",
      "Epoch 23/30\n",
      "32000/32000 [==============================] - 245s 8ms/step - loss: 0.1886 - val_loss: 2.2426\n",
      "\n",
      "Epoch 00023: val_loss did not improve from 1.80072\n",
      "Epoch 24/30\n",
      "32000/32000 [==============================] - 242s 8ms/step - loss: 0.1859 - val_loss: 2.2790\n",
      "\n",
      "Epoch 00024: val_loss did not improve from 1.80072\n",
      "Epoch 25/30\n",
      "32000/32000 [==============================] - 228s 7ms/step - loss: 0.1844 - val_loss: 2.2789\n",
      "\n",
      "Epoch 00025: val_loss did not improve from 1.80072\n",
      "Epoch 26/30\n",
      "32000/32000 [==============================] - 238s 7ms/step - loss: 0.1809 - val_loss: 2.2838\n",
      "\n",
      "Epoch 00026: val_loss did not improve from 1.80072\n",
      "Epoch 27/30\n",
      "32000/32000 [==============================] - 229s 7ms/step - loss: 0.1827 - val_loss: 2.2877\n",
      "\n",
      "Epoch 00027: val_loss did not improve from 1.80072\n",
      "Epoch 28/30\n",
      "32000/32000 [==============================] - 232s 7ms/step - loss: 0.1805 - val_loss: 2.3185\n",
      "\n",
      "Epoch 00028: val_loss did not improve from 1.80072\n",
      "Epoch 29/30\n",
      "32000/32000 [==============================] - 214s 7ms/step - loss: 0.1804 - val_loss: 2.3317\n",
      "\n",
      "Epoch 00029: val_loss did not improve from 1.80072\n",
      "Epoch 30/30\n",
      "32000/32000 [==============================] - 477s 15ms/step - loss: 0.1784 - val_loss: 2.3293\n",
      "\n",
      "Epoch 00030: val_loss did not improve from 1.80072\n"
     ]
    }
   ],
   "source": [
    "filename = 'model.h1.24_jan_19'\n",
    "checkpoint = ModelCheckpoint(filename, monitor='val_loss', verbose=1, save_best_only=True, mode='min')\n",
    "\n",
    "history = model.fit(trainX, trainY.reshape(trainY.shape[0], trainY.shape[1], 1), \n",
    "          epochs=30, batch_size=512, \n",
    "          validation_split = 0.2,\n",
    "          callbacks=[checkpoint], verbose=1)"
   ]
  },
  {
   "cell_type": "code",
   "execution_count": 40,
   "metadata": {},
   "outputs": [
    {
     "data": {
      "image/png": "[encoded data removed]",
      "text/plain": [
       "<Figure size 432x288 with 1 Axes>"
      ]
     },
     "metadata": {
      "needs_background": "light"
     },
     "output_type": "display_data"
    }
   ],
   "source": [
    "plt.plot(history.history['loss'])\n",
    "plt.plot(history.history['val_loss'])\n",
    "plt.legend(['train','validation'])\n",
    "plt.show()"
   ]
  },
  {
   "cell_type": "markdown",
   "metadata": {},
   "source": [
    "It has happened what I said above, the model learnt too fast and it reached the minimum value in the epoch number five. From there it started to overfit."
   ]
  },
  {
   "cell_type": "code",
   "execution_count": 41,
   "metadata": {},
   "outputs": [],
   "source": [
    "preds = model.predict_classes(testX.reshape((testX.shape[0],testX.shape[1])))"
   ]
  },
  {
   "cell_type": "code",
   "execution_count": 42,
   "metadata": {},
   "outputs": [],
   "source": [
    "# convert predictions into text (English)\n",
    "preds_text = []\n",
    "for i in preds:\n",
    "    temp = []\n",
    "    for j in range(len(i)):\n",
    "        t = get_word(i[j], eng_tokenizer)\n",
    "        if j > 0:\n",
    "            if (t == get_word(i[j-1], eng_tokenizer)) or (t == None):\n",
    "                temp.append('')\n",
    "            else:\n",
    "                temp.append(t)\n",
    "             \n",
    "        else:\n",
    "            if(t == None):\n",
    "                temp.append('')\n",
    "            else:\n",
    "                temp.append(t)            \n",
    "        \n",
    "    preds_text.append(' '.join(temp))"
   ]
  },
  {
   "cell_type": "code",
   "execution_count": 43,
   "metadata": {},
   "outputs": [],
   "source": [
    "pred_df = pd.DataFrame({'actual' : test[:,0], 'predicted' : preds_text})"
   ]
  },
  {
   "cell_type": "code",
   "execution_count": 44,
   "metadata": {
    "collapsed": true,
    "jupyter": {
     "outputs_hidden": true
    }
   },
   "outputs": [
    {
     "data": {
      "text/html": [
       "<div>\n",
       "<style scoped>\n",
       "    .dataframe tbody tr th:only-of-type {\n",
       "        vertical-align: middle;\n",
       "    }\n",
       "\n",
       "    .dataframe tbody tr th {\n",
       "        vertical-align: top;\n",
       "    }\n",
       "\n",
       "    .dataframe thead th {\n",
       "        text-align: right;\n",
       "    }\n",
       "</style>\n",
       "<table border=\"1\" class=\"dataframe\">\n",
       "  <thead>\n",
       "    <tr style=\"text-align: right;\">\n",
       "      <th></th>\n",
       "      <th>actual</th>\n",
       "      <th>predicted</th>\n",
       "    </tr>\n",
       "  </thead>\n",
       "  <tbody>\n",
       "    <tr>\n",
       "      <th>1078</th>\n",
       "      <td>i like beans</td>\n",
       "      <td>i like honey</td>\n",
       "    </tr>\n",
       "    <tr>\n",
       "      <th>4185</th>\n",
       "      <td>i bought a few stamps</td>\n",
       "      <td>i need a lot</td>\n",
       "    </tr>\n",
       "    <tr>\n",
       "      <th>1642</th>\n",
       "      <td>she peeled him an apple</td>\n",
       "      <td>she hit a  to</td>\n",
       "    </tr>\n",
       "    <tr>\n",
       "      <th>8831</th>\n",
       "      <td>he is hated</td>\n",
       "      <td>hes is coming</td>\n",
       "    </tr>\n",
       "    <tr>\n",
       "      <th>2275</th>\n",
       "      <td>where are the goats</td>\n",
       "      <td>where are the soap</td>\n",
       "    </tr>\n",
       "    <tr>\n",
       "      <th>6673</th>\n",
       "      <td>how are you going</td>\n",
       "      <td>how do you going to</td>\n",
       "    </tr>\n",
       "    <tr>\n",
       "      <th>7160</th>\n",
       "      <td>we still have to do that</td>\n",
       "      <td>we must do to do it</td>\n",
       "    </tr>\n",
       "    <tr>\n",
       "      <th>6057</th>\n",
       "      <td>lets come back</td>\n",
       "      <td>lets knock back</td>\n",
       "    </tr>\n",
       "    <tr>\n",
       "      <th>94</th>\n",
       "      <td>can you speak more slowly</td>\n",
       "      <td>can this speak slowly</td>\n",
       "    </tr>\n",
       "    <tr>\n",
       "      <th>2034</th>\n",
       "      <td>its monday you know</td>\n",
       "      <td>its right know you</td>\n",
       "    </tr>\n",
       "    <tr>\n",
       "      <th>6115</th>\n",
       "      <td>were out of danger</td>\n",
       "      <td>were out of danger</td>\n",
       "    </tr>\n",
       "    <tr>\n",
       "      <th>6267</th>\n",
       "      <td>he found it</td>\n",
       "      <td>he explain him down</td>\n",
       "    </tr>\n",
       "    <tr>\n",
       "      <th>4936</th>\n",
       "      <td>did i write that</td>\n",
       "      <td>do i that</td>\n",
       "    </tr>\n",
       "    <tr>\n",
       "      <th>651</th>\n",
       "      <td>i cant stand the cold</td>\n",
       "      <td>i cant know the cold</td>\n",
       "    </tr>\n",
       "    <tr>\n",
       "      <th>6469</th>\n",
       "      <td>he tends to be arrogant</td>\n",
       "      <td>he tends like cookies</td>\n",
       "    </tr>\n",
       "  </tbody>\n",
       "</table>\n",
       "</div>"
      ],
      "text/plain": [
       "                         actual                  predicted\n",
       "1078               i like beans          i like honey     \n",
       "4185      i bought a few stamps           i need a lot    \n",
       "1642    she peeled him an apple           she hit a  to   \n",
       "8831                he is hated         hes is coming     \n",
       "2275        where are the goats     where are the soap    \n",
       "6673          how are you going     how do you going to   \n",
       "7160   we still have to do that      we must do to do it  \n",
       "6057             lets come back       lets knock back     \n",
       "94    can you speak more slowly  can this speak slowly    \n",
       "2034        its monday you know     its right know you    \n",
       "6115         were out of danger     were out of danger    \n",
       "6267                he found it    he explain him down    \n",
       "4936           did i write that             do i that     \n",
       "651       i cant stand the cold    i cant know the cold   \n",
       "6469    he tends to be arrogant  he tends like cookies    "
      ]
     },
     "execution_count": 44,
     "metadata": {},
     "output_type": "execute_result"
    }
   ],
   "source": [
    "pred_df.sample(15)"
   ]
  },
  {
   "cell_type": "markdown",
   "metadata": {},
   "source": [
    "#### **Now we are going to introduce Dropout in the model**"
   ]
  },
  {
   "cell_type": "markdown",
   "metadata": {},
   "source": [
    "The goal of the dropout is to avoid the overfitting. So it should help the model to reach a better result."
   ]
  },
  {
   "cell_type": "code",
   "execution_count": 42,
   "metadata": {},
   "outputs": [],
   "source": [
    "# build NMT model\n",
    "def build_model_II(in_vocab, out_vocab, in_timesteps, out_timesteps, units):\n",
    "    model = Sequential()\n",
    "    model.add(Embedding(in_vocab, units, input_length=in_timesteps, mask_zero=True))\n",
    "    model.add(LSTM(units))\n",
    "    model.add(RepeatVector(out_timesteps))  \n",
    "    model.add(Dropout(0.2))\n",
    "    model.add(LSTM(units, return_sequences=True))\n",
    "    model.add(Dropout(0.2))\n",
    "    model.add(Dense(out_vocab, activation='softmax'))\n",
    "    return model"
   ]
  },
  {
   "cell_type": "code",
   "execution_count": 48,
   "metadata": {},
   "outputs": [],
   "source": [
    "from keras.layers import Dropout\n",
    "model = build_model_II(spa_vocab_size, eng_vocab_size, spa_length, eng_length, 512)\n",
    "rms = optimizers.RMSprop(lr=0.001)\n",
    "model.compile(optimizer=rms, loss='sparse_categorical_crossentropy')"
   ]
  },
  {
   "cell_type": "code",
   "execution_count": 50,
   "metadata": {
    "collapsed": true,
    "jupyter": {
     "outputs_hidden": true
    }
   },
   "outputs": [
    {
     "name": "stdout",
     "output_type": "stream",
     "text": [
      "Train on 32000 samples, validate on 8000 samples\n",
      "Epoch 1/30\n",
      "32000/32000 [==============================] - 549s 17ms/step - loss: 3.9423 - val_loss: 3.3546\n",
      "\n",
      "Epoch 00001: val_loss improved from inf to 3.35462, saving model to model.h1.24_jan_19\n",
      "Epoch 2/30\n",
      "32000/32000 [==============================] - 523s 16ms/step - loss: 3.2494 - val_loss: 3.2047\n",
      "\n",
      "Epoch 00002: val_loss improved from 3.35462 to 3.20468, saving model to model.h1.24_jan_19\n",
      "Epoch 3/30\n",
      "32000/32000 [==============================] - 519s 16ms/step - loss: 3.0989 - val_loss: 3.0837\n",
      "\n",
      "Epoch 00003: val_loss improved from 3.20468 to 3.08365, saving model to model.h1.24_jan_19\n",
      "Epoch 4/30\n",
      "32000/32000 [==============================] - 283s 9ms/step - loss: 2.9744 - val_loss: 3.0064\n",
      "\n",
      "Epoch 00004: val_loss improved from 3.08365 to 3.00644, saving model to model.h1.24_jan_19\n",
      "Epoch 5/30\n",
      "32000/32000 [==============================] - 196s 6ms/step - loss: 2.8507 - val_loss: 2.8837\n",
      "\n",
      "Epoch 00005: val_loss improved from 3.00644 to 2.88368, saving model to model.h1.24_jan_19\n",
      "Epoch 6/30\n",
      "32000/32000 [==============================] - 199s 6ms/step - loss: 2.6989 - val_loss: 2.7715\n",
      "\n",
      "Epoch 00006: val_loss improved from 2.88368 to 2.77153, saving model to model.h1.24_jan_19\n",
      "Epoch 7/30\n",
      "32000/32000 [==============================] - 200s 6ms/step - loss: 2.5513 - val_loss: 2.6399\n",
      "\n",
      "Epoch 00007: val_loss improved from 2.77153 to 2.63995, saving model to model.h1.24_jan_19\n",
      "Epoch 8/30\n",
      "32000/32000 [==============================] - 200s 6ms/step - loss: 2.4023 - val_loss: 2.5178\n",
      "\n",
      "Epoch 00008: val_loss improved from 2.63995 to 2.51777, saving model to model.h1.24_jan_19\n",
      "Epoch 9/30\n",
      "32000/32000 [==============================] - 201s 6ms/step - loss: 2.2688 - val_loss: 2.4297\n",
      "\n",
      "Epoch 00009: val_loss improved from 2.51777 to 2.42972, saving model to model.h1.24_jan_19\n",
      "Epoch 10/30\n",
      "32000/32000 [==============================] - 201s 6ms/step - loss: 2.1506 - val_loss: 2.3705\n",
      "\n",
      "Epoch 00010: val_loss improved from 2.42972 to 2.37052, saving model to model.h1.24_jan_19\n",
      "Epoch 11/30\n",
      "32000/32000 [==============================] - 201s 6ms/step - loss: 2.0439 - val_loss: 2.2842\n",
      "\n",
      "Epoch 00011: val_loss improved from 2.37052 to 2.28420, saving model to model.h1.24_jan_19\n",
      "Epoch 12/30\n",
      "32000/32000 [==============================] - 201s 6ms/step - loss: 1.9407 - val_loss: 2.2307\n",
      "\n",
      "Epoch 00012: val_loss improved from 2.28420 to 2.23069, saving model to model.h1.24_jan_19\n",
      "Epoch 13/30\n",
      "32000/32000 [==============================] - 201s 6ms/step - loss: 1.8465 - val_loss: 2.1702\n",
      "\n",
      "Epoch 00013: val_loss improved from 2.23069 to 2.17022, saving model to model.h1.24_jan_19\n",
      "Epoch 14/30\n",
      "32000/32000 [==============================] - 202s 6ms/step - loss: 1.7593 - val_loss: 2.1339\n",
      "\n",
      "Epoch 00014: val_loss improved from 2.17022 to 2.13394, saving model to model.h1.24_jan_19\n",
      "Epoch 15/30\n",
      "32000/32000 [==============================] - 202s 6ms/step - loss: 1.6764 - val_loss: 2.0877\n",
      "\n",
      "Epoch 00015: val_loss improved from 2.13394 to 2.08775, saving model to model.h1.24_jan_19\n",
      "Epoch 16/30\n",
      "32000/32000 [==============================] - 202s 6ms/step - loss: 1.5988 - val_loss: 2.0451\n",
      "\n",
      "Epoch 00016: val_loss improved from 2.08775 to 2.04507, saving model to model.h1.24_jan_19\n",
      "Epoch 17/30\n",
      "32000/32000 [==============================] - 202s 6ms/step - loss: 1.5179 - val_loss: 2.0020\n",
      "\n",
      "Epoch 00017: val_loss improved from 2.04507 to 2.00204, saving model to model.h1.24_jan_19\n",
      "Epoch 18/30\n",
      "32000/32000 [==============================] - 202s 6ms/step - loss: 1.4522 - val_loss: 1.9590\n",
      "\n",
      "Epoch 00018: val_loss improved from 2.00204 to 1.95896, saving model to model.h1.24_jan_19\n",
      "Epoch 19/30\n",
      "32000/32000 [==============================] - 206s 6ms/step - loss: 1.3825 - val_loss: 1.9318\n",
      "\n",
      "Epoch 00019: val_loss improved from 1.95896 to 1.93179, saving model to model.h1.24_jan_19\n",
      "Epoch 20/30\n",
      "32000/32000 [==============================] - 202s 6ms/step - loss: 1.3160 - val_loss: 1.8967\n",
      "\n",
      "Epoch 00020: val_loss improved from 1.93179 to 1.89675, saving model to model.h1.24_jan_19\n",
      "Epoch 21/30\n",
      "32000/32000 [==============================] - 202s 6ms/step - loss: 1.2537 - val_loss: 1.8885\n",
      "\n",
      "Epoch 00021: val_loss improved from 1.89675 to 1.88853, saving model to model.h1.24_jan_19\n",
      "Epoch 22/30\n",
      "32000/32000 [==============================] - 203s 6ms/step - loss: 1.1914 - val_loss: 1.8496\n",
      "\n",
      "Epoch 00022: val_loss improved from 1.88853 to 1.84957, saving model to model.h1.24_jan_19\n",
      "Epoch 23/30\n",
      "32000/32000 [==============================] - 202s 6ms/step - loss: 1.1347 - val_loss: 1.8330\n",
      "\n",
      "Epoch 00023: val_loss improved from 1.84957 to 1.83300, saving model to model.h1.24_jan_19\n",
      "Epoch 24/30\n",
      "32000/32000 [==============================] - 202s 6ms/step - loss: 1.0773 - val_loss: 1.8249\n",
      "\n",
      "Epoch 00024: val_loss improved from 1.83300 to 1.82494, saving model to model.h1.24_jan_19\n",
      "Epoch 25/30\n",
      "32000/32000 [==============================] - 203s 6ms/step - loss: 1.0248 - val_loss: 1.8039\n",
      "\n",
      "Epoch 00025: val_loss improved from 1.82494 to 1.80390, saving model to model.h1.24_jan_19\n",
      "Epoch 26/30\n",
      "32000/32000 [==============================] - 203s 6ms/step - loss: 0.9742 - val_loss: 1.7956\n",
      "\n",
      "Epoch 00026: val_loss improved from 1.80390 to 1.79558, saving model to model.h1.24_jan_19\n",
      "Epoch 27/30\n",
      "32000/32000 [==============================] - 205s 6ms/step - loss: 0.9283 - val_loss: 1.7787\n",
      "\n",
      "Epoch 00027: val_loss improved from 1.79558 to 1.77867, saving model to model.h1.24_jan_19\n",
      "Epoch 28/30\n",
      "32000/32000 [==============================] - 203s 6ms/step - loss: 0.8817 - val_loss: 1.7427\n",
      "\n",
      "Epoch 00028: val_loss improved from 1.77867 to 1.74267, saving model to model.h1.24_jan_19\n",
      "Epoch 29/30\n",
      "32000/32000 [==============================] - 203s 6ms/step - loss: 0.8368 - val_loss: 1.7366\n",
      "\n",
      "Epoch 00029: val_loss improved from 1.74267 to 1.73658, saving model to model.h1.24_jan_19\n",
      "Epoch 30/30\n",
      "32000/32000 [==============================] - 203s 6ms/step - loss: 0.7970 - val_loss: 1.7249\n",
      "\n",
      "Epoch 00030: val_loss improved from 1.73658 to 1.72490, saving model to model.h1.24_jan_19\n"
     ]
    }
   ],
   "source": [
    "filename = 'model.h1.24_jan_19'\n",
    "checkpoint = ModelCheckpoint(filename, monitor='val_loss', verbose=1, save_best_only=True, mode='min')\n",
    "\n",
    "history = model.fit(trainX, trainY.reshape(trainY.shape[0], trainY.shape[1], 1), \n",
    "          epochs=30, batch_size=512, \n",
    "          validation_split = 0.2,\n",
    "          callbacks=[checkpoint], verbose=1)"
   ]
  },
  {
   "cell_type": "code",
   "execution_count": 51,
   "metadata": {},
   "outputs": [
    {
     "data": {
      "image/png": "[encoded data removed]",
      "text/plain": [
       "<Figure size 432x288 with 1 Axes>"
      ]
     },
     "metadata": {
      "needs_background": "light"
     },
     "output_type": "display_data"
    }
   ],
   "source": [
    "plt.plot(history.history['loss'])\n",
    "plt.plot(history.history['val_loss'])\n",
    "plt.legend(['train','validation'])\n",
    "plt.show()"
   ]
  },
  {
   "cell_type": "markdown",
   "metadata": {},
   "source": [
    "The value obtained with this model is 1.72490. It is the best result for the moment. And seeing the graph it seems that increasing the number of epochs the result will improve."
   ]
  },
  {
   "cell_type": "markdown",
   "metadata": {},
   "source": [
    "#### **Now let's increase the number of layers**"
   ]
  },
  {
   "cell_type": "code",
   "execution_count": 33,
   "metadata": {},
   "outputs": [],
   "source": [
    "# build NMT model\n",
    "def build_model_VII(in_vocab, out_vocab, in_timesteps, out_timesteps, units):\n",
    "    model = Sequential()\n",
    "    model.add(Embedding(in_vocab, units, input_length=in_timesteps, mask_zero=True))\n",
    "    model.add(LSTM(units))\n",
    "    model.add(RepeatVector(out_timesteps))  \n",
    "    model.add(Dropout(0.2))\n",
    "    model.add(LSTM(units, return_sequences=True))\n",
    "    model.add(Dropout(0.2))\n",
    "    model.add(LSTM(units))\n",
    "    model.add(RepeatVector(out_timesteps))  \n",
    "    model.add(Dropout(0.2))\n",
    "    model.add(LSTM(units, return_sequences=True))\n",
    "    model.add(Dropout(0.2))\n",
    "    model.add(Dense(out_vocab, activation='softmax'))\n",
    "    return model"
   ]
  },
  {
   "cell_type": "code",
   "execution_count": 34,
   "metadata": {},
   "outputs": [],
   "source": [
    "from keras.layers import Dropout\n",
    "model = build_model_VII(spa_vocab_size, eng_vocab_size, spa_length, eng_length, 512)\n",
    "rms = optimizers.RMSprop(lr=0.001)\n",
    "model.compile(optimizer=rms, loss='sparse_categorical_crossentropy')"
   ]
  },
  {
   "cell_type": "code",
   "execution_count": 35,
   "metadata": {
    "collapsed": true,
    "jupyter": {
     "outputs_hidden": true
    }
   },
   "outputs": [
    {
     "name": "stdout",
     "output_type": "stream",
     "text": [
      "Train on 32000 samples, validate on 8000 samples\n",
      "Epoch 1/30\n",
      "32000/32000 [==============================] - 277s 9ms/step - loss: 3.8548 - val_loss: 3.4160\n",
      "\n",
      "Epoch 00001: val_loss improved from inf to 3.41598, saving model to model.h1.24_jan_19\n",
      "Epoch 2/30\n",
      "32000/32000 [==============================] - 281s 9ms/step - loss: 3.2843 - val_loss: 3.2397\n",
      "\n",
      "Epoch 00002: val_loss improved from 3.41598 to 3.23973, saving model to model.h1.24_jan_19\n",
      "Epoch 3/30\n",
      "32000/32000 [==============================] - 295s 9ms/step - loss: 3.1604 - val_loss: 3.2476\n",
      "\n",
      "Epoch 00003: val_loss did not improve from 3.23973\n",
      "Epoch 4/30\n",
      "32000/32000 [==============================] - 290s 9ms/step - loss: 3.0563 - val_loss: 3.0712\n",
      "\n",
      "Epoch 00004: val_loss improved from 3.23973 to 3.07116, saving model to model.h1.24_jan_19\n",
      "Epoch 5/30\n",
      "32000/32000 [==============================] - 291s 9ms/step - loss: 2.9236 - val_loss: 3.0030\n",
      "\n",
      "Epoch 00005: val_loss improved from 3.07116 to 3.00296, saving model to model.h1.24_jan_19\n",
      "Epoch 6/30\n",
      "32000/32000 [==============================] - 292s 9ms/step - loss: 2.8009 - val_loss: 2.8591\n",
      "\n",
      "Epoch 00006: val_loss improved from 3.00296 to 2.85911, saving model to model.h1.24_jan_19\n",
      "Epoch 7/30\n",
      "32000/32000 [==============================] - 327s 10ms/step - loss: 2.6832 - val_loss: 2.7740\n",
      "\n",
      "Epoch 00007: val_loss improved from 2.85911 to 2.77403, saving model to model.h1.24_jan_19\n",
      "Epoch 8/30\n",
      "32000/32000 [==============================] - 292s 9ms/step - loss: 2.5790 - val_loss: 2.6959\n",
      "\n",
      "Epoch 00008: val_loss improved from 2.77403 to 2.69590, saving model to model.h1.24_jan_19\n",
      "Epoch 9/30\n",
      "32000/32000 [==============================] - 292s 9ms/step - loss: 2.4826 - val_loss: 2.6344\n",
      "\n",
      "Epoch 00009: val_loss improved from 2.69590 to 2.63439, saving model to model.h1.24_jan_19\n",
      "Epoch 10/30\n",
      "32000/32000 [==============================] - 289s 9ms/step - loss: 2.3964 - val_loss: 2.6129\n",
      "\n",
      "Epoch 00010: val_loss improved from 2.63439 to 2.61287, saving model to model.h1.24_jan_19\n",
      "Epoch 11/30\n",
      "32000/32000 [==============================] - 293s 9ms/step - loss: 2.3120 - val_loss: 2.5183\n",
      "\n",
      "Epoch 00011: val_loss improved from 2.61287 to 2.51828, saving model to model.h1.24_jan_19\n",
      "Epoch 12/30\n",
      "32000/32000 [==============================] - 293s 9ms/step - loss: 2.2277 - val_loss: 2.4778\n",
      "\n",
      "Epoch 00012: val_loss improved from 2.51828 to 2.47776, saving model to model.h1.24_jan_19\n",
      "Epoch 13/30\n",
      "32000/32000 [==============================] - 317s 10ms/step - loss: 2.1485 - val_loss: 2.4483\n",
      "\n",
      "Epoch 00013: val_loss improved from 2.47776 to 2.44826, saving model to model.h1.24_jan_19\n",
      "Epoch 14/30\n",
      "32000/32000 [==============================] - 310s 10ms/step - loss: 2.0730 - val_loss: 2.3922\n",
      "\n",
      "Epoch 00014: val_loss improved from 2.44826 to 2.39217, saving model to model.h1.24_jan_19\n",
      "Epoch 15/30\n",
      "32000/32000 [==============================] - 298s 9ms/step - loss: 2.0030 - val_loss: 2.3889\n",
      "\n",
      "Epoch 00015: val_loss improved from 2.39217 to 2.38886, saving model to model.h1.24_jan_19\n",
      "Epoch 16/30\n",
      "32000/32000 [==============================] - 290s 9ms/step - loss: 1.9387 - val_loss: 2.3460\n",
      "\n",
      "Epoch 00016: val_loss improved from 2.38886 to 2.34603, saving model to model.h1.24_jan_19\n",
      "Epoch 17/30\n",
      "32000/32000 [==============================] - 294s 9ms/step - loss: 1.8754 - val_loss: 2.2927\n",
      "\n",
      "Epoch 00017: val_loss improved from 2.34603 to 2.29266, saving model to model.h1.24_jan_19\n",
      "Epoch 18/30\n",
      "32000/32000 [==============================] - 295s 9ms/step - loss: 1.8175 - val_loss: 2.2560\n",
      "\n",
      "Epoch 00018: val_loss improved from 2.29266 to 2.25605, saving model to model.h1.24_jan_19\n",
      "Epoch 19/30\n",
      "32000/32000 [==============================] - 298s 9ms/step - loss: 1.7606 - val_loss: 2.2485\n",
      "\n",
      "Epoch 00019: val_loss improved from 2.25605 to 2.24845, saving model to model.h1.24_jan_19\n",
      "Epoch 20/30\n",
      "32000/32000 [==============================] - 296s 9ms/step - loss: 1.7074 - val_loss: 2.2268\n",
      "\n",
      "Epoch 00020: val_loss improved from 2.24845 to 2.22675, saving model to model.h1.24_jan_19\n",
      "Epoch 21/30\n",
      "32000/32000 [==============================] - 289s 9ms/step - loss: 1.6586 - val_loss: 2.2141\n",
      "\n",
      "Epoch 00021: val_loss improved from 2.22675 to 2.21411, saving model to model.h1.24_jan_19\n",
      "Epoch 22/30\n",
      "32000/32000 [==============================] - 303s 9ms/step - loss: 1.6062 - val_loss: 2.1991\n",
      "\n",
      "Epoch 00022: val_loss improved from 2.21411 to 2.19910, saving model to model.h1.24_jan_19\n",
      "Epoch 23/30\n",
      "32000/32000 [==============================] - 299s 9ms/step - loss: 1.5584 - val_loss: 2.1777\n",
      "\n",
      "Epoch 00023: val_loss improved from 2.19910 to 2.17768, saving model to model.h1.24_jan_19\n",
      "Epoch 24/30\n",
      "32000/32000 [==============================] - 290s 9ms/step - loss: 1.5173 - val_loss: 2.1674\n",
      "\n",
      "Epoch 00024: val_loss improved from 2.17768 to 2.16736, saving model to model.h1.24_jan_19\n",
      "Epoch 25/30\n",
      "32000/32000 [==============================] - 290s 9ms/step - loss: 1.4709 - val_loss: 2.1499\n",
      "\n",
      "Epoch 00025: val_loss improved from 2.16736 to 2.14987, saving model to model.h1.24_jan_19\n",
      "Epoch 26/30\n",
      "32000/32000 [==============================] - 310s 10ms/step - loss: 1.4294 - val_loss: 2.1313\n",
      "\n",
      "Epoch 00026: val_loss improved from 2.14987 to 2.13130, saving model to model.h1.24_jan_19\n",
      "Epoch 27/30\n",
      "32000/32000 [==============================] - 323s 10ms/step - loss: 1.3852 - val_loss: 2.1365\n",
      "\n",
      "Epoch 00027: val_loss did not improve from 2.13130\n",
      "Epoch 28/30\n",
      "32000/32000 [==============================] - 314s 10ms/step - loss: 1.3462 - val_loss: 2.1205\n",
      "\n",
      "Epoch 00028: val_loss improved from 2.13130 to 2.12053, saving model to model.h1.24_jan_19\n",
      "Epoch 29/30\n",
      "32000/32000 [==============================] - 295s 9ms/step - loss: 1.3050 - val_loss: 2.1228\n",
      "\n",
      "Epoch 00029: val_loss did not improve from 2.12053\n",
      "Epoch 30/30\n",
      "32000/32000 [==============================] - 295s 9ms/step - loss: 1.2657 - val_loss: 2.1329\n",
      "\n",
      "Epoch 00030: val_loss did not improve from 2.12053\n"
     ]
    }
   ],
   "source": [
    "filename = 'model.h1.24_jan_19'\n",
    "checkpoint = ModelCheckpoint(filename, monitor='val_loss', verbose=1, save_best_only=True, mode='min')\n",
    "\n",
    "history = model.fit(trainX, trainY.reshape(trainY.shape[0], trainY.shape[1], 1), \n",
    "          epochs=30, batch_size=512, \n",
    "          validation_split = 0.2,\n",
    "          callbacks=[checkpoint], verbose=1)"
   ]
  },
  {
   "cell_type": "code",
   "execution_count": 36,
   "metadata": {},
   "outputs": [
    {
     "data": {
      "image/png": "[encoded data removed]",
      "text/plain": [
       "<Figure size 432x288 with 1 Axes>"
      ]
     },
     "metadata": {
      "needs_background": "light"
     },
     "output_type": "display_data"
    }
   ],
   "source": [
    "plt.plot(history.history['loss'])\n",
    "plt.plot(history.history['val_loss'])\n",
    "plt.legend(['train','validation'])\n",
    "plt.show()"
   ]
  },
  {
   "cell_type": "markdown",
   "metadata": {},
   "source": [
    "Increasing to 5 the number of layers increased the loss"
   ]
  },
  {
   "cell_type": "code",
   "execution_count": 37,
   "metadata": {},
   "outputs": [],
   "source": [
    "preds = model.predict_classes(testX.reshape((testX.shape[0],testX.shape[1])))"
   ]
  },
  {
   "cell_type": "code",
   "execution_count": 38,
   "metadata": {},
   "outputs": [],
   "source": [
    "# convert predictions into text (English)\n",
    "preds_text = []\n",
    "for i in preds:\n",
    "    temp = []\n",
    "    for j in range(len(i)):\n",
    "        t = get_word(i[j], eng_tokenizer)\n",
    "        if j > 0:\n",
    "            if (t == get_word(i[j-1], eng_tokenizer)) or (t == None):\n",
    "                temp.append('')\n",
    "            else:\n",
    "                temp.append(t)\n",
    "             \n",
    "        else:\n",
    "            if(t == None):\n",
    "                temp.append('')\n",
    "            else:\n",
    "                temp.append(t)            \n",
    "        \n",
    "    preds_text.append(' '.join(temp))"
   ]
  },
  {
   "cell_type": "code",
   "execution_count": 39,
   "metadata": {},
   "outputs": [],
   "source": [
    "pred_df = pd.DataFrame({'actual' : test[:,0], 'predicted' : preds_text})"
   ]
  },
  {
   "cell_type": "code",
   "execution_count": 40,
   "metadata": {
    "collapsed": true,
    "jupyter": {
     "outputs_hidden": true
    }
   },
   "outputs": [
    {
     "data": {
      "text/html": [
       "<div>\n",
       "<style scoped>\n",
       "    .dataframe tbody tr th:only-of-type {\n",
       "        vertical-align: middle;\n",
       "    }\n",
       "\n",
       "    .dataframe tbody tr th {\n",
       "        vertical-align: top;\n",
       "    }\n",
       "\n",
       "    .dataframe thead th {\n",
       "        text-align: right;\n",
       "    }\n",
       "</style>\n",
       "<table border=\"1\" class=\"dataframe\">\n",
       "  <thead>\n",
       "    <tr style=\"text-align: right;\">\n",
       "      <th></th>\n",
       "      <th>actual</th>\n",
       "      <th>predicted</th>\n",
       "    </tr>\n",
       "  </thead>\n",
       "  <tbody>\n",
       "    <tr>\n",
       "      <th>8154</th>\n",
       "      <td>whats the word</td>\n",
       "      <td>whats the</td>\n",
       "    </tr>\n",
       "    <tr>\n",
       "      <th>5048</th>\n",
       "      <td>i left you a message</td>\n",
       "      <td>we made a</td>\n",
       "    </tr>\n",
       "    <tr>\n",
       "      <th>6797</th>\n",
       "      <td>we love you</td>\n",
       "      <td>we love you</td>\n",
       "    </tr>\n",
       "    <tr>\n",
       "      <th>9380</th>\n",
       "      <td>i didnt spend a penny</td>\n",
       "      <td>i didnt had a penny</td>\n",
       "    </tr>\n",
       "    <tr>\n",
       "      <th>6291</th>\n",
       "      <td>the car moved very slowly</td>\n",
       "      <td>my shoes is my</td>\n",
       "    </tr>\n",
       "    <tr>\n",
       "      <th>9171</th>\n",
       "      <td>youd better not do it</td>\n",
       "      <td>dont worry like</td>\n",
       "    </tr>\n",
       "    <tr>\n",
       "      <th>220</th>\n",
       "      <td>i never cry</td>\n",
       "      <td>i never like</td>\n",
       "    </tr>\n",
       "    <tr>\n",
       "      <th>667</th>\n",
       "      <td>he lost face</td>\n",
       "      <td>he kept begun</td>\n",
       "    </tr>\n",
       "    <tr>\n",
       "      <th>2882</th>\n",
       "      <td>am i really that bad</td>\n",
       "      <td>is it really</td>\n",
       "    </tr>\n",
       "    <tr>\n",
       "      <th>3032</th>\n",
       "      <td>anybody can read it</td>\n",
       "      <td>maybe can know</td>\n",
       "    </tr>\n",
       "    <tr>\n",
       "      <th>82</th>\n",
       "      <td>give me time to relax</td>\n",
       "      <td>give me some  of</td>\n",
       "    </tr>\n",
       "    <tr>\n",
       "      <th>2753</th>\n",
       "      <td>i like to dance with mary</td>\n",
       "      <td>i like to and tom</td>\n",
       "    </tr>\n",
       "    <tr>\n",
       "      <th>7043</th>\n",
       "      <td>they lost their property</td>\n",
       "      <td>they found your letter</td>\n",
       "    </tr>\n",
       "    <tr>\n",
       "      <th>7409</th>\n",
       "      <td>im never late for school</td>\n",
       "      <td>i never be to school</td>\n",
       "    </tr>\n",
       "    <tr>\n",
       "      <th>6699</th>\n",
       "      <td>you can start right now</td>\n",
       "      <td>you should come here</td>\n",
       "    </tr>\n",
       "  </tbody>\n",
       "</table>\n",
       "</div>"
      ],
      "text/plain": [
       "                         actual                   predicted\n",
       "8154             whats the word             whats the      \n",
       "5048       i left you a message              we made a     \n",
       "6797                we love you            we love you     \n",
       "9380      i didnt spend a penny      i didnt had a penny   \n",
       "6291  the car moved very slowly          my shoes is my    \n",
       "9171      youd better not do it        dont worry like     \n",
       "220                 i never cry           i never like     \n",
       "667                he lost face          he kept begun     \n",
       "2882       am i really that bad           is it really     \n",
       "3032        anybody can read it         maybe can know     \n",
       "82        give me time to relax         give me some  of   \n",
       "2753  i like to dance with mary        i like to and tom   \n",
       "7043   they lost their property  they found your letter    \n",
       "7409   im never late for school     i never be to school   \n",
       "6699    you can start right now    you should come here    "
      ]
     },
     "execution_count": 40,
     "metadata": {},
     "output_type": "execute_result"
    }
   ],
   "source": [
    "pred_df.sample(15)"
   ]
  },
  {
   "cell_type": "markdown",
   "metadata": {},
   "source": [
    "#### **Let's reduce de batch size to 256**"
   ]
  },
  {
   "cell_type": "code",
   "execution_count": 43,
   "metadata": {},
   "outputs": [],
   "source": [
    "from keras.layers import Dropout\n",
    "model = build_model_II(spa_vocab_size, eng_vocab_size, spa_length, eng_length, 512)\n",
    "rms = optimizers.RMSprop(lr=0.001)\n",
    "model.compile(optimizer=rms, loss='sparse_categorical_crossentropy')"
   ]
  },
  {
   "cell_type": "code",
   "execution_count": 44,
   "metadata": {
    "collapsed": true,
    "jupyter": {
     "outputs_hidden": true
    }
   },
   "outputs": [
    {
     "name": "stdout",
     "output_type": "stream",
     "text": [
      "Train on 32000 samples, validate on 8000 samples\n",
      "Epoch 1/30\n",
      "32000/32000 [==============================] - 217s 7ms/step - loss: 3.6637 - val_loss: 3.3225\n",
      "\n",
      "Epoch 00001: val_loss improved from inf to 3.32250, saving model to model.h1.24_jan_19\n",
      "Epoch 2/30\n",
      "32000/32000 [==============================] - 220s 7ms/step - loss: 3.1234 - val_loss: 3.0386\n",
      "\n",
      "Epoch 00002: val_loss improved from 3.32250 to 3.03862, saving model to model.h1.24_jan_19\n",
      "Epoch 3/30\n",
      "32000/32000 [==============================] - 234s 7ms/step - loss: 2.8719 - val_loss: 2.8328\n",
      "\n",
      "Epoch 00003: val_loss improved from 3.03862 to 2.83281, saving model to model.h1.24_jan_19\n",
      "Epoch 4/30\n",
      "32000/32000 [==============================] - 229s 7ms/step - loss: 2.6011 - val_loss: 2.5778\n",
      "\n",
      "Epoch 00004: val_loss improved from 2.83281 to 2.57784, saving model to model.h1.24_jan_19\n",
      "Epoch 5/30\n",
      "32000/32000 [==============================] - 231s 7ms/step - loss: 2.3888 - val_loss: 2.4404\n",
      "\n",
      "Epoch 00005: val_loss improved from 2.57784 to 2.44036, saving model to model.h1.24_jan_19\n",
      "Epoch 6/30\n",
      "32000/32000 [==============================] - 225s 7ms/step - loss: 2.2175 - val_loss: 2.3234\n",
      "\n",
      "Epoch 00006: val_loss improved from 2.44036 to 2.32337, saving model to model.h1.24_jan_19\n",
      "Epoch 7/30\n",
      "32000/32000 [==============================] - 221s 7ms/step - loss: 2.0720 - val_loss: 2.2196\n",
      "\n",
      "Epoch 00007: val_loss improved from 2.32337 to 2.21962, saving model to model.h1.24_jan_19\n",
      "Epoch 8/30\n",
      "32000/32000 [==============================] - 224s 7ms/step - loss: 1.9394 - val_loss: 2.1716\n",
      "\n",
      "Epoch 00008: val_loss improved from 2.21962 to 2.17164, saving model to model.h1.24_jan_19\n",
      "Epoch 9/30\n",
      "32000/32000 [==============================] - 223s 7ms/step - loss: 1.8184 - val_loss: 2.0732\n",
      "\n",
      "Epoch 00009: val_loss improved from 2.17164 to 2.07323, saving model to model.h1.24_jan_19\n",
      "Epoch 10/30\n",
      "32000/32000 [==============================] - 221s 7ms/step - loss: 1.7057 - val_loss: 2.0054\n",
      "\n",
      "Epoch 00010: val_loss improved from 2.07323 to 2.00543, saving model to model.h1.24_jan_19\n",
      "Epoch 11/30\n",
      "32000/32000 [==============================] - 221s 7ms/step - loss: 1.6019 - val_loss: 1.9615\n",
      "\n",
      "Epoch 00011: val_loss improved from 2.00543 to 1.96148, saving model to model.h1.24_jan_19\n",
      "Epoch 12/30\n",
      "32000/32000 [==============================] - 220s 7ms/step - loss: 1.5048 - val_loss: 1.9184\n",
      "\n",
      "Epoch 00012: val_loss improved from 1.96148 to 1.91839, saving model to model.h1.24_jan_19\n",
      "Epoch 13/30\n",
      "32000/32000 [==============================] - 219s 7ms/step - loss: 1.4140 - val_loss: 1.8629\n",
      "\n",
      "Epoch 00013: val_loss improved from 1.91839 to 1.86290, saving model to model.h1.24_jan_19\n",
      "Epoch 14/30\n",
      "32000/32000 [==============================] - 220s 7ms/step - loss: 1.3287 - val_loss: 1.8349\n",
      "\n",
      "Epoch 00014: val_loss improved from 1.86290 to 1.83494, saving model to model.h1.24_jan_19\n",
      "Epoch 15/30\n",
      "32000/32000 [==============================] - 218s 7ms/step - loss: 1.2510 - val_loss: 1.8172\n",
      "\n",
      "Epoch 00015: val_loss improved from 1.83494 to 1.81718, saving model to model.h1.24_jan_19\n",
      "Epoch 16/30\n",
      "32000/32000 [==============================] - 219s 7ms/step - loss: 1.1793 - val_loss: 1.8054\n",
      "\n",
      "Epoch 00016: val_loss improved from 1.81718 to 1.80543, saving model to model.h1.24_jan_19\n",
      "Epoch 17/30\n",
      "32000/32000 [==============================] - 218s 7ms/step - loss: 1.1113 - val_loss: 1.7566\n",
      "\n",
      "Epoch 00017: val_loss improved from 1.80543 to 1.75661, saving model to model.h1.24_jan_19\n",
      "Epoch 18/30\n",
      "32000/32000 [==============================] - 218s 7ms/step - loss: 1.0500 - val_loss: 1.7463\n",
      "\n",
      "Epoch 00018: val_loss improved from 1.75661 to 1.74625, saving model to model.h1.24_jan_19\n",
      "Epoch 19/30\n",
      "32000/32000 [==============================] - 218s 7ms/step - loss: 0.9903 - val_loss: 1.7299\n",
      "\n",
      "Epoch 00019: val_loss improved from 1.74625 to 1.72989, saving model to model.h1.24_jan_19\n",
      "Epoch 20/30\n",
      "32000/32000 [==============================] - 218s 7ms/step - loss: 0.9346 - val_loss: 1.7152\n",
      "\n",
      "Epoch 00020: val_loss improved from 1.72989 to 1.71516, saving model to model.h1.24_jan_19\n",
      "Epoch 21/30\n",
      "32000/32000 [==============================] - 217s 7ms/step - loss: 0.8839 - val_loss: 1.7092\n",
      "\n",
      "Epoch 00021: val_loss improved from 1.71516 to 1.70917, saving model to model.h1.24_jan_19\n",
      "Epoch 22/30\n",
      "32000/32000 [==============================] - 217s 7ms/step - loss: 0.8342 - val_loss: 1.7071\n",
      "\n",
      "Epoch 00022: val_loss improved from 1.70917 to 1.70711, saving model to model.h1.24_jan_19\n",
      "Epoch 23/30\n",
      "32000/32000 [==============================] - 218s 7ms/step - loss: 0.7897 - val_loss: 1.6942\n",
      "\n",
      "Epoch 00023: val_loss improved from 1.70711 to 1.69417, saving model to model.h1.24_jan_19\n",
      "Epoch 24/30\n",
      "32000/32000 [==============================] - 218s 7ms/step - loss: 0.7453 - val_loss: 1.6843\n",
      "\n",
      "Epoch 00024: val_loss improved from 1.69417 to 1.68433, saving model to model.h1.24_jan_19\n",
      "Epoch 25/30\n",
      "32000/32000 [==============================] - 217s 7ms/step - loss: 0.7048 - val_loss: 1.6855\n",
      "\n",
      "Epoch 00025: val_loss did not improve from 1.68433\n",
      "Epoch 26/30\n",
      "32000/32000 [==============================] - 217s 7ms/step - loss: 0.6693 - val_loss: 1.6907\n",
      "\n",
      "Epoch 00026: val_loss did not improve from 1.68433\n",
      "Epoch 27/30\n",
      "32000/32000 [==============================] - 217s 7ms/step - loss: 0.6319 - val_loss: 1.6928\n",
      "\n",
      "Epoch 00027: val_loss did not improve from 1.68433\n",
      "Epoch 28/30\n",
      "32000/32000 [==============================] - 217s 7ms/step - loss: 0.6013 - val_loss: 1.6879\n",
      "\n",
      "Epoch 00028: val_loss did not improve from 1.68433\n",
      "Epoch 29/30\n",
      "32000/32000 [==============================] - 217s 7ms/step - loss: 0.5686 - val_loss: 1.6963\n",
      "\n",
      "Epoch 00029: val_loss did not improve from 1.68433\n",
      "Epoch 30/30\n",
      "32000/32000 [==============================] - 217s 7ms/step - loss: 0.5388 - val_loss: 1.7069\n",
      "\n",
      "Epoch 00030: val_loss did not improve from 1.68433\n"
     ]
    }
   ],
   "source": [
    "filename = 'model.h1.24_jan_19'\n",
    "checkpoint = ModelCheckpoint(filename, monitor='val_loss', verbose=1, save_best_only=True, mode='min')\n",
    "\n",
    "history = model.fit(trainX, trainY.reshape(trainY.shape[0], trainY.shape[1], 1), \n",
    "          epochs=30, batch_size=256, \n",
    "          validation_split = 0.2,\n",
    "          callbacks=[checkpoint], verbose=1)"
   ]
  },
  {
   "cell_type": "code",
   "execution_count": 45,
   "metadata": {},
   "outputs": [
    {
     "data": {
      "image/png": "[encoded data removed]",
      "text/plain": [
       "<Figure size 432x288 with 1 Axes>"
      ]
     },
     "metadata": {
      "needs_background": "light"
     },
     "output_type": "display_data"
    }
   ],
   "source": [
    "plt.plot(history.history['loss'])\n",
    "plt.plot(history.history['val_loss'])\n",
    "plt.legend(['train','validation'])\n",
    "plt.show()"
   ]
  },
  {
   "cell_type": "markdown",
   "metadata": {},
   "source": [
    "Reducing the batch size has decreased the validation loss to 1.68433."
   ]
  },
  {
   "cell_type": "code",
   "execution_count": 46,
   "metadata": {},
   "outputs": [],
   "source": [
    "preds = model.predict_classes(testX.reshape((testX.shape[0],testX.shape[1])))"
   ]
  },
  {
   "cell_type": "code",
   "execution_count": 47,
   "metadata": {},
   "outputs": [],
   "source": [
    "# convert predictions into text (English)\n",
    "preds_text = []\n",
    "for i in preds:\n",
    "    temp = []\n",
    "    for j in range(len(i)):\n",
    "        t = get_word(i[j], eng_tokenizer)\n",
    "        if j > 0:\n",
    "            if (t == get_word(i[j-1], eng_tokenizer)) or (t == None):\n",
    "                temp.append('')\n",
    "            else:\n",
    "                temp.append(t)\n",
    "             \n",
    "        else:\n",
    "            if(t == None):\n",
    "                temp.append('')\n",
    "            else:\n",
    "                temp.append(t)            \n",
    "        \n",
    "    preds_text.append(' '.join(temp))"
   ]
  },
  {
   "cell_type": "code",
   "execution_count": 48,
   "metadata": {},
   "outputs": [],
   "source": [
    "pred_df = pd.DataFrame({'actual' : test[:,0], 'predicted' : preds_text})"
   ]
  },
  {
   "cell_type": "code",
   "execution_count": 49,
   "metadata": {
    "collapsed": true,
    "jupyter": {
     "outputs_hidden": true
    }
   },
   "outputs": [
    {
     "data": {
      "text/html": [
       "<div>\n",
       "<style scoped>\n",
       "    .dataframe tbody tr th:only-of-type {\n",
       "        vertical-align: middle;\n",
       "    }\n",
       "\n",
       "    .dataframe tbody tr th {\n",
       "        vertical-align: top;\n",
       "    }\n",
       "\n",
       "    .dataframe thead th {\n",
       "        text-align: right;\n",
       "    }\n",
       "</style>\n",
       "<table border=\"1\" class=\"dataframe\">\n",
       "  <thead>\n",
       "    <tr style=\"text-align: right;\">\n",
       "      <th></th>\n",
       "      <th>actual</th>\n",
       "      <th>predicted</th>\n",
       "    </tr>\n",
       "  </thead>\n",
       "  <tbody>\n",
       "    <tr>\n",
       "      <th>1055</th>\n",
       "      <td>its too dangerous</td>\n",
       "      <td>its too dangerous</td>\n",
       "    </tr>\n",
       "    <tr>\n",
       "      <th>8802</th>\n",
       "      <td>tom is on hold</td>\n",
       "      <td>tom is on the phone</td>\n",
       "    </tr>\n",
       "    <tr>\n",
       "      <th>9169</th>\n",
       "      <td>give some meat to the dog</td>\n",
       "      <td>give me a cat dog</td>\n",
       "    </tr>\n",
       "    <tr>\n",
       "      <th>2564</th>\n",
       "      <td>youre so predictable</td>\n",
       "      <td>youre so</td>\n",
       "    </tr>\n",
       "    <tr>\n",
       "      <th>3688</th>\n",
       "      <td>ask her what she has done</td>\n",
       "      <td>let what  it did</td>\n",
       "    </tr>\n",
       "    <tr>\n",
       "      <th>4867</th>\n",
       "      <td>tom is a quadriplegic</td>\n",
       "      <td>tom is vulnerable</td>\n",
       "    </tr>\n",
       "    <tr>\n",
       "      <th>410</th>\n",
       "      <td>who gave you that</td>\n",
       "      <td>who asked you that</td>\n",
       "    </tr>\n",
       "    <tr>\n",
       "      <th>152</th>\n",
       "      <td>how do you do</td>\n",
       "      <td>how are you</td>\n",
       "    </tr>\n",
       "    <tr>\n",
       "      <th>6526</th>\n",
       "      <td>she teaches us french</td>\n",
       "      <td>we teaches french</td>\n",
       "    </tr>\n",
       "    <tr>\n",
       "      <th>9430</th>\n",
       "      <td>shes a real gossip</td>\n",
       "      <td>she is a real true</td>\n",
       "    </tr>\n",
       "    <tr>\n",
       "      <th>1452</th>\n",
       "      <td>tom is a freelance writer</td>\n",
       "      <td>tom is a writer strong</td>\n",
       "    </tr>\n",
       "    <tr>\n",
       "      <th>8052</th>\n",
       "      <td>i think im just tired</td>\n",
       "      <td>i think im were</td>\n",
       "    </tr>\n",
       "    <tr>\n",
       "      <th>2283</th>\n",
       "      <td>what a good shot</td>\n",
       "      <td>what a of</td>\n",
       "    </tr>\n",
       "    <tr>\n",
       "      <th>9233</th>\n",
       "      <td>may i swim in the lake</td>\n",
       "      <td>may i on in the</td>\n",
       "    </tr>\n",
       "    <tr>\n",
       "      <th>1745</th>\n",
       "      <td>this is the last game</td>\n",
       "      <td>this is the last</td>\n",
       "    </tr>\n",
       "  </tbody>\n",
       "</table>\n",
       "</div>"
      ],
      "text/plain": [
       "                         actual                  predicted\n",
       "1055          its too dangerous     its too dangerous     \n",
       "8802             tom is on hold     tom is on the phone   \n",
       "9169  give some meat to the dog       give me a cat dog   \n",
       "2564       youre so predictable             youre so      \n",
       "3688  ask her what she has done        let what  it did   \n",
       "4867      tom is a quadriplegic     tom is vulnerable     \n",
       "410           who gave you that     who asked you that    \n",
       "152               how do you do           how are you     \n",
       "6526      she teaches us french     we teaches french     \n",
       "9430         shes a real gossip      she is a real true   \n",
       "1452  tom is a freelance writer  tom is a writer strong   \n",
       "8052      i think im just tired        i think im were    \n",
       "2283           what a good shot             what a of     \n",
       "9233     may i swim in the lake         may i on in the   \n",
       "1745      this is the last game       this is the last    "
      ]
     },
     "execution_count": 49,
     "metadata": {},
     "output_type": "execute_result"
    }
   ],
   "source": [
    "pred_df.sample(15)"
   ]
  },
  {
   "cell_type": "markdown",
   "metadata": {},
   "source": [
    "#### **Let's increase it to 1028**"
   ]
  },
  {
   "cell_type": "code",
   "execution_count": 50,
   "metadata": {},
   "outputs": [],
   "source": [
    "from keras.layers import Dropout\n",
    "model = build_model_II(spa_vocab_size, eng_vocab_size, spa_length, eng_length, 512)\n",
    "rms = optimizers.RMSprop(lr=0.001)\n",
    "model.compile(optimizer=rms, loss='sparse_categorical_crossentropy')"
   ]
  },
  {
   "cell_type": "code",
   "execution_count": 51,
   "metadata": {
    "collapsed": true,
    "jupyter": {
     "outputs_hidden": true
    }
   },
   "outputs": [
    {
     "name": "stdout",
     "output_type": "stream",
     "text": [
      "Train on 32000 samples, validate on 8000 samples\n",
      "Epoch 1/30\n",
      "32000/32000 [==============================] - 207s 6ms/step - loss: 4.4383 - val_loss: 3.5310\n",
      "\n",
      "Epoch 00001: val_loss improved from inf to 3.53096, saving model to model.h1.24_jan_19\n",
      "Epoch 2/30\n",
      "32000/32000 [==============================] - 201s 6ms/step - loss: 3.4267 - val_loss: 3.4483\n",
      "\n",
      "Epoch 00002: val_loss improved from 3.53096 to 3.44834, saving model to model.h1.24_jan_19\n",
      "Epoch 3/30\n",
      "32000/32000 [==============================] - 201s 6ms/step - loss: 3.2813 - val_loss: 3.2974\n",
      "\n",
      "Epoch 00003: val_loss improved from 3.44834 to 3.29745, saving model to model.h1.24_jan_19\n",
      "Epoch 4/30\n",
      "32000/32000 [==============================] - 202s 6ms/step - loss: 3.1944 - val_loss: 3.2521\n",
      "\n",
      "Epoch 00004: val_loss improved from 3.29745 to 3.25212, saving model to model.h1.24_jan_19\n",
      "Epoch 5/30\n",
      "32000/32000 [==============================] - 198s 6ms/step - loss: 3.1245 - val_loss: 3.1837\n",
      "\n",
      "Epoch 00005: val_loss improved from 3.25212 to 3.18367, saving model to model.h1.24_jan_19\n",
      "Epoch 6/30\n",
      "32000/32000 [==============================] - 198s 6ms/step - loss: 3.0420 - val_loss: 3.0859\n",
      "\n",
      "Epoch 00006: val_loss improved from 3.18367 to 3.08591, saving model to model.h1.24_jan_19\n",
      "Epoch 7/30\n",
      "32000/32000 [==============================] - 198s 6ms/step - loss: 2.9670 - val_loss: 3.0599\n",
      "\n",
      "Epoch 00007: val_loss improved from 3.08591 to 3.05990, saving model to model.h1.24_jan_19\n",
      "Epoch 8/30\n",
      "32000/32000 [==============================] - 345s 11ms/step - loss: 2.9169 - val_loss: 3.0302\n",
      "\n",
      "Epoch 00008: val_loss improved from 3.05990 to 3.03015, saving model to model.h1.24_jan_19\n",
      "Epoch 9/30\n",
      "32000/32000 [==============================] - 509s 16ms/step - loss: 2.8592 - val_loss: 2.9865\n",
      "\n",
      "Epoch 00009: val_loss improved from 3.03015 to 2.98648, saving model to model.h1.24_jan_19\n",
      "Epoch 10/30\n",
      "32000/32000 [==============================] - 529s 17ms/step - loss: 2.7998 - val_loss: 2.9345\n",
      "\n",
      "Epoch 00010: val_loss improved from 2.98648 to 2.93448, saving model to model.h1.24_jan_19\n",
      "Epoch 11/30\n",
      "32000/32000 [==============================] - 521s 16ms/step - loss: 2.7166 - val_loss: 2.8841\n",
      "\n",
      "Epoch 00011: val_loss improved from 2.93448 to 2.88408, saving model to model.h1.24_jan_19\n",
      "Epoch 12/30\n",
      "32000/32000 [==============================] - 543s 17ms/step - loss: 2.6364 - val_loss: 2.7962\n",
      "\n",
      "Epoch 00012: val_loss improved from 2.88408 to 2.79624, saving model to model.h1.24_jan_19\n",
      "Epoch 13/30\n",
      "32000/32000 [==============================] - 325s 10ms/step - loss: 2.5607 - val_loss: 2.7831\n",
      "\n",
      "Epoch 00013: val_loss improved from 2.79624 to 2.78310, saving model to model.h1.24_jan_19\n",
      "Epoch 14/30\n",
      "32000/32000 [==============================] - 186s 6ms/step - loss: 2.4895 - val_loss: 2.6950\n",
      "\n",
      "Epoch 00014: val_loss improved from 2.78310 to 2.69498, saving model to model.h1.24_jan_19\n",
      "Epoch 15/30\n",
      "32000/32000 [==============================] - 190s 6ms/step - loss: 2.4154 - val_loss: 2.6464\n",
      "\n",
      "Epoch 00015: val_loss improved from 2.69498 to 2.64637, saving model to model.h1.24_jan_19\n",
      "Epoch 16/30\n",
      "32000/32000 [==============================] - 192s 6ms/step - loss: 2.3422 - val_loss: 2.5729\n",
      "\n",
      "Epoch 00016: val_loss improved from 2.64637 to 2.57288, saving model to model.h1.24_jan_19\n",
      "Epoch 17/30\n",
      "32000/32000 [==============================] - 192s 6ms/step - loss: 2.2727 - val_loss: 2.5448\n",
      "\n",
      "Epoch 00017: val_loss improved from 2.57288 to 2.54476, saving model to model.h1.24_jan_19\n",
      "Epoch 18/30\n",
      "32000/32000 [==============================] - 192s 6ms/step - loss: 2.2039 - val_loss: 2.5354\n",
      "\n",
      "Epoch 00018: val_loss improved from 2.54476 to 2.53541, saving model to model.h1.24_jan_19\n",
      "Epoch 19/30\n",
      "32000/32000 [==============================] - 192s 6ms/step - loss: 2.1382 - val_loss: 2.4503\n",
      "\n",
      "Epoch 00019: val_loss improved from 2.53541 to 2.45033, saving model to model.h1.24_jan_19\n",
      "Epoch 20/30\n",
      "32000/32000 [==============================] - 193s 6ms/step - loss: 2.0791 - val_loss: 2.4223\n",
      "\n",
      "Epoch 00020: val_loss improved from 2.45033 to 2.42228, saving model to model.h1.24_jan_19\n",
      "Epoch 21/30\n",
      "32000/32000 [==============================] - 193s 6ms/step - loss: 2.0176 - val_loss: 2.3749\n",
      "\n",
      "Epoch 00021: val_loss improved from 2.42228 to 2.37495, saving model to model.h1.24_jan_19\n",
      "Epoch 22/30\n",
      "32000/32000 [==============================] - 193s 6ms/step - loss: 1.9618 - val_loss: 2.3385\n",
      "\n",
      "Epoch 00022: val_loss improved from 2.37495 to 2.33853, saving model to model.h1.24_jan_19\n",
      "Epoch 23/30\n",
      "32000/32000 [==============================] - 193s 6ms/step - loss: 1.9046 - val_loss: 2.3143\n",
      "\n",
      "Epoch 00023: val_loss improved from 2.33853 to 2.31430, saving model to model.h1.24_jan_19\n",
      "Epoch 24/30\n",
      "32000/32000 [==============================] - 193s 6ms/step - loss: 1.8486 - val_loss: 2.2798\n",
      "\n",
      "Epoch 00024: val_loss improved from 2.31430 to 2.27981, saving model to model.h1.24_jan_19\n",
      "Epoch 25/30\n",
      "32000/32000 [==============================] - 193s 6ms/step - loss: 1.7972 - val_loss: 2.2722\n",
      "\n",
      "Epoch 00025: val_loss improved from 2.27981 to 2.27219, saving model to model.h1.24_jan_19\n",
      "Epoch 26/30\n",
      "32000/32000 [==============================] - 193s 6ms/step - loss: 1.7460 - val_loss: 2.2353\n",
      "\n",
      "Epoch 00026: val_loss improved from 2.27219 to 2.23530, saving model to model.h1.24_jan_19\n",
      "Epoch 27/30\n",
      "32000/32000 [==============================] - 193s 6ms/step - loss: 1.6944 - val_loss: 2.2021\n",
      "\n",
      "Epoch 00027: val_loss improved from 2.23530 to 2.20215, saving model to model.h1.24_jan_19\n",
      "Epoch 28/30\n",
      "32000/32000 [==============================] - 193s 6ms/step - loss: 1.6453 - val_loss: 2.1730\n",
      "\n",
      "Epoch 00028: val_loss improved from 2.20215 to 2.17299, saving model to model.h1.24_jan_19\n",
      "Epoch 29/30\n",
      "32000/32000 [==============================] - 193s 6ms/step - loss: 1.5982 - val_loss: 2.1509\n",
      "\n",
      "Epoch 00029: val_loss improved from 2.17299 to 2.15088, saving model to model.h1.24_jan_19\n",
      "Epoch 30/30\n",
      "32000/32000 [==============================] - 194s 6ms/step - loss: 1.5524 - val_loss: 2.1428\n",
      "\n",
      "Epoch 00030: val_loss improved from 2.15088 to 2.14283, saving model to model.h1.24_jan_19\n"
     ]
    }
   ],
   "source": [
    "filename = 'model.h1.24_jan_19'\n",
    "checkpoint = ModelCheckpoint(filename, monitor='val_loss', verbose=1, save_best_only=True, mode='min')\n",
    "\n",
    "history = model.fit(trainX, trainY.reshape(trainY.shape[0], trainY.shape[1], 1), \n",
    "          epochs=30, batch_size=1028, \n",
    "          validation_split = 0.2,\n",
    "          callbacks=[checkpoint], verbose=1)"
   ]
  },
  {
   "cell_type": "code",
   "execution_count": 52,
   "metadata": {},
   "outputs": [
    {
     "data": {
      "image/png": "[encoded data removed]",
      "text/plain": [
       "<Figure size 432x288 with 1 Axes>"
      ]
     },
     "metadata": {
      "needs_background": "light"
     },
     "output_type": "display_data"
    }
   ],
   "source": [
    "plt.plot(history.history['loss'])\n",
    "plt.plot(history.history['val_loss'])\n",
    "plt.legend(['train','validation'])\n",
    "plt.show()"
   ]
  },
  {
   "cell_type": "markdown",
   "metadata": {},
   "source": [
    "Inreasing the batch size has increased the validation loss to 2.14283."
   ]
  },
  {
   "cell_type": "code",
   "execution_count": 53,
   "metadata": {},
   "outputs": [],
   "source": [
    "preds = model.predict_classes(testX.reshape((testX.shape[0],testX.shape[1])))"
   ]
  },
  {
   "cell_type": "code",
   "execution_count": 54,
   "metadata": {},
   "outputs": [],
   "source": [
    "# convert predictions into text (English)\n",
    "preds_text = []\n",
    "for i in preds:\n",
    "    temp = []\n",
    "    for j in range(len(i)):\n",
    "        t = get_word(i[j], eng_tokenizer)\n",
    "        if j > 0:\n",
    "            if (t == get_word(i[j-1], eng_tokenizer)) or (t == None):\n",
    "                temp.append('')\n",
    "            else:\n",
    "                temp.append(t)\n",
    "             \n",
    "        else:\n",
    "            if(t == None):\n",
    "                temp.append('')\n",
    "            else:\n",
    "                temp.append(t)            \n",
    "        \n",
    "    preds_text.append(' '.join(temp))"
   ]
  },
  {
   "cell_type": "code",
   "execution_count": 55,
   "metadata": {},
   "outputs": [],
   "source": [
    "pred_df = pd.DataFrame({'actual' : test[:,0], 'predicted' : preds_text})"
   ]
  },
  {
   "cell_type": "code",
   "execution_count": 56,
   "metadata": {
    "collapsed": true,
    "jupyter": {
     "outputs_hidden": true
    }
   },
   "outputs": [
    {
     "data": {
      "text/html": [
       "<div>\n",
       "<style scoped>\n",
       "    .dataframe tbody tr th:only-of-type {\n",
       "        vertical-align: middle;\n",
       "    }\n",
       "\n",
       "    .dataframe tbody tr th {\n",
       "        vertical-align: top;\n",
       "    }\n",
       "\n",
       "    .dataframe thead th {\n",
       "        text-align: right;\n",
       "    }\n",
       "</style>\n",
       "<table border=\"1\" class=\"dataframe\">\n",
       "  <thead>\n",
       "    <tr style=\"text-align: right;\">\n",
       "      <th></th>\n",
       "      <th>actual</th>\n",
       "      <th>predicted</th>\n",
       "    </tr>\n",
       "  </thead>\n",
       "  <tbody>\n",
       "    <tr>\n",
       "      <th>3527</th>\n",
       "      <td>ive won</td>\n",
       "      <td>i</td>\n",
       "    </tr>\n",
       "    <tr>\n",
       "      <th>5410</th>\n",
       "      <td>ill call him tonight</td>\n",
       "      <td>ill go to</td>\n",
       "    </tr>\n",
       "    <tr>\n",
       "      <th>4492</th>\n",
       "      <td>hurry up please</td>\n",
       "      <td>please sit a</td>\n",
       "    </tr>\n",
       "    <tr>\n",
       "      <th>3335</th>\n",
       "      <td>tom is so gullible</td>\n",
       "      <td>tom is</td>\n",
       "    </tr>\n",
       "    <tr>\n",
       "      <th>1204</th>\n",
       "      <td>i am suspicious of him</td>\n",
       "      <td>i was him</td>\n",
       "    </tr>\n",
       "    <tr>\n",
       "      <th>6353</th>\n",
       "      <td>tom personally invited me</td>\n",
       "      <td>tom asked to</td>\n",
       "    </tr>\n",
       "    <tr>\n",
       "      <th>5253</th>\n",
       "      <td>tom danced with mary</td>\n",
       "      <td>tom likes mary</td>\n",
       "    </tr>\n",
       "    <tr>\n",
       "      <th>4477</th>\n",
       "      <td>she tried to kill herself</td>\n",
       "      <td>she attempted</td>\n",
       "    </tr>\n",
       "    <tr>\n",
       "      <th>5655</th>\n",
       "      <td>has the world gone mad</td>\n",
       "      <td>was  beautiful</td>\n",
       "    </tr>\n",
       "    <tr>\n",
       "      <th>2293</th>\n",
       "      <td>she betrayed you</td>\n",
       "      <td>she betrayed him</td>\n",
       "    </tr>\n",
       "    <tr>\n",
       "      <th>8652</th>\n",
       "      <td>tom cant leave us now</td>\n",
       "      <td>tom cant be</td>\n",
       "    </tr>\n",
       "    <tr>\n",
       "      <th>5615</th>\n",
       "      <td>what are you cooking</td>\n",
       "      <td>what are you</td>\n",
       "    </tr>\n",
       "    <tr>\n",
       "      <th>3184</th>\n",
       "      <td>thats really sad</td>\n",
       "      <td>its is really</td>\n",
       "    </tr>\n",
       "    <tr>\n",
       "      <th>8686</th>\n",
       "      <td>hes afraid of dogs</td>\n",
       "      <td>he is afraid of</td>\n",
       "    </tr>\n",
       "    <tr>\n",
       "      <th>9037</th>\n",
       "      <td>the cat ruined my sofa</td>\n",
       "      <td>my car was my the</td>\n",
       "    </tr>\n",
       "  </tbody>\n",
       "</table>\n",
       "</div>"
      ],
      "text/plain": [
       "                         actual              predicted\n",
       "3527                    ive won               i       \n",
       "5410       ill call him tonight         ill go to     \n",
       "4492            hurry up please      please sit a     \n",
       "3335         tom is so gullible           tom is      \n",
       "1204     i am suspicious of him         i was him     \n",
       "6353  tom personally invited me      tom asked to     \n",
       "5253       tom danced with mary    tom likes mary     \n",
       "4477  she tried to kill herself    she attempted      \n",
       "5655     has the world gone mad    was  beautiful     \n",
       "2293           she betrayed you  she betrayed him     \n",
       "8652      tom cant leave us now       tom cant be     \n",
       "5615       what are you cooking      what are you     \n",
       "3184           thats really sad     its is really     \n",
       "8686         hes afraid of dogs    he is afraid of    \n",
       "9037     the cat ruined my sofa   my car was my the   "
      ]
     },
     "execution_count": 56,
     "metadata": {},
     "output_type": "execute_result"
    }
   ],
   "source": [
    "pred_df.sample(15)"
   ]
  },
  {
   "cell_type": "markdown",
   "metadata": {},
   "source": [
    "#### **Before changing the type of network we are going to try to beat the mark reached with 1024 units, adding dropout**"
   ]
  },
  {
   "cell_type": "code",
   "execution_count": 38,
   "metadata": {},
   "outputs": [],
   "source": [
    "from keras.layers import Dropout\n",
    "model = build_model_II(spa_vocab_size, eng_vocab_size, spa_length, eng_length, 1024)\n",
    "rms = optimizers.RMSprop(lr=0.001)\n",
    "model.compile(optimizer=rms, loss='sparse_categorical_crossentropy')"
   ]
  },
  {
   "cell_type": "code",
   "execution_count": 39,
   "metadata": {
    "collapsed": true,
    "jupyter": {
     "outputs_hidden": true
    }
   },
   "outputs": [
    {
     "name": "stdout",
     "output_type": "stream",
     "text": [
      "Train on 32000 samples, validate on 8000 samples\n",
      "Epoch 1/30\n",
      "32000/32000 [==============================] - 438s 14ms/step - loss: 3.8731 - val_loss: 3.3065\n",
      "\n",
      "Epoch 00001: val_loss improved from inf to 3.30646, saving model to model.h1.24_jan_19\n",
      "Epoch 2/30\n",
      "32000/32000 [==============================] - 464s 15ms/step - loss: 3.1739 - val_loss: 3.1006\n",
      "\n",
      "Epoch 00002: val_loss improved from 3.30646 to 3.10065, saving model to model.h1.24_jan_19\n",
      "Epoch 3/30\n",
      "32000/32000 [==============================] - 463s 14ms/step - loss: 2.8923 - val_loss: 2.8928\n",
      "\n",
      "Epoch 00003: val_loss improved from 3.10065 to 2.89280, saving model to model.h1.24_jan_19\n",
      "Epoch 4/30\n",
      "32000/32000 [==============================] - 466s 15ms/step - loss: 2.6302 - val_loss: 2.6403\n",
      "\n",
      "Epoch 00004: val_loss improved from 2.89280 to 2.64033, saving model to model.h1.24_jan_19\n",
      "Epoch 5/30\n",
      "32000/32000 [==============================] - 455s 14ms/step - loss: 2.4061 - val_loss: 2.4594\n",
      "\n",
      "Epoch 00005: val_loss improved from 2.64033 to 2.45942, saving model to model.h1.24_jan_19\n",
      "Epoch 6/30\n",
      "32000/32000 [==============================] - 457s 14ms/step - loss: 2.1931 - val_loss: 2.3224\n",
      "\n",
      "Epoch 00006: val_loss improved from 2.45942 to 2.32242, saving model to model.h1.24_jan_19\n",
      "Epoch 7/30\n",
      "32000/32000 [==============================] - 469s 15ms/step - loss: 2.0058 - val_loss: 2.2065\n",
      "\n",
      "Epoch 00007: val_loss improved from 2.32242 to 2.20649, saving model to model.h1.24_jan_19\n",
      "Epoch 8/30\n",
      "32000/32000 [==============================] - 476s 15ms/step - loss: 1.8352 - val_loss: 2.1135\n",
      "\n",
      "Epoch 00008: val_loss improved from 2.20649 to 2.11346, saving model to model.h1.24_jan_19\n",
      "Epoch 9/30\n",
      "32000/32000 [==============================] - 461s 14ms/step - loss: 1.6770 - val_loss: 2.0224\n",
      "\n",
      "Epoch 00009: val_loss improved from 2.11346 to 2.02238, saving model to model.h1.24_jan_19\n",
      "Epoch 10/30\n",
      "32000/32000 [==============================] - 477s 15ms/step - loss: 1.5351 - val_loss: 1.9648\n",
      "\n",
      "Epoch 00010: val_loss improved from 2.02238 to 1.96479, saving model to model.h1.24_jan_19\n",
      "Epoch 11/30\n",
      "32000/32000 [==============================] - 460s 14ms/step - loss: 1.4088 - val_loss: 1.8972\n",
      "\n",
      "Epoch 00011: val_loss improved from 1.96479 to 1.89720, saving model to model.h1.24_jan_19\n",
      "Epoch 12/30\n",
      "32000/32000 [==============================] - 448s 14ms/step - loss: 1.2899 - val_loss: 1.8550\n",
      "\n",
      "Epoch 00012: val_loss improved from 1.89720 to 1.85504, saving model to model.h1.24_jan_19\n",
      "Epoch 13/30\n",
      "32000/32000 [==============================] - 514s 16ms/step - loss: 1.1748 - val_loss: 1.8204\n",
      "\n",
      "Epoch 00013: val_loss improved from 1.85504 to 1.82040, saving model to model.h1.24_jan_19\n",
      "Epoch 14/30\n",
      "32000/32000 [==============================] - 460s 14ms/step - loss: 1.0706 - val_loss: 1.7742\n",
      "\n",
      "Epoch 00014: val_loss improved from 1.82040 to 1.77418, saving model to model.h1.24_jan_19\n",
      "Epoch 15/30\n",
      "32000/32000 [==============================] - 459s 14ms/step - loss: 0.9715 - val_loss: 1.7450\n",
      "\n",
      "Epoch 00015: val_loss improved from 1.77418 to 1.74496, saving model to model.h1.24_jan_19\n",
      "Epoch 16/30\n",
      "32000/32000 [==============================] - 461s 14ms/step - loss: 0.8787 - val_loss: 1.7440\n",
      "\n",
      "Epoch 00016: val_loss improved from 1.74496 to 1.74405, saving model to model.h1.24_jan_19\n",
      "Epoch 17/30\n",
      "32000/32000 [==============================] - 459s 14ms/step - loss: 0.7957 - val_loss: 1.6911\n",
      "\n",
      "Epoch 00017: val_loss improved from 1.74405 to 1.69109, saving model to model.h1.24_jan_19\n",
      "Epoch 18/30\n",
      "32000/32000 [==============================] - 457s 14ms/step - loss: 0.7117 - val_loss: 1.6854\n",
      "\n",
      "Epoch 00018: val_loss improved from 1.69109 to 1.68541, saving model to model.h1.24_jan_19\n",
      "Epoch 19/30\n",
      "32000/32000 [==============================] - 469s 15ms/step - loss: 0.6396 - val_loss: 1.6711\n",
      "\n",
      "Epoch 00019: val_loss improved from 1.68541 to 1.67108, saving model to model.h1.24_jan_19\n",
      "Epoch 20/30\n",
      "32000/32000 [==============================] - 485s 15ms/step - loss: 0.5746 - val_loss: 1.6677\n",
      "\n",
      "Epoch 00020: val_loss improved from 1.67108 to 1.66774, saving model to model.h1.24_jan_19\n",
      "Epoch 21/30\n",
      "32000/32000 [==============================] - 463s 14ms/step - loss: 0.5127 - val_loss: 1.6545\n",
      "\n",
      "Epoch 00021: val_loss improved from 1.66774 to 1.65448, saving model to model.h1.24_jan_19\n",
      "Epoch 22/30\n",
      "32000/32000 [==============================] - 468s 15ms/step - loss: 0.4596 - val_loss: 1.6534\n",
      "\n",
      "Epoch 00022: val_loss improved from 1.65448 to 1.65337, saving model to model.h1.24_jan_19\n",
      "Epoch 23/30\n",
      "32000/32000 [==============================] - 450s 14ms/step - loss: 0.4081 - val_loss: 1.6650\n",
      "\n",
      "Epoch 00023: val_loss did not improve from 1.65337\n",
      "Epoch 24/30\n",
      "32000/32000 [==============================] - 450s 14ms/step - loss: 0.3656 - val_loss: 1.6621\n",
      "\n",
      "Epoch 00024: val_loss did not improve from 1.65337\n",
      "Epoch 25/30\n",
      "32000/32000 [==============================] - 451s 14ms/step - loss: 0.3244 - val_loss: 1.6695\n",
      "\n",
      "Epoch 00025: val_loss did not improve from 1.65337\n",
      "Epoch 26/30\n",
      "32000/32000 [==============================] - 449s 14ms/step - loss: 0.2907 - val_loss: 1.6781\n",
      "\n",
      "Epoch 00026: val_loss did not improve from 1.65337\n",
      "Epoch 27/30\n",
      "32000/32000 [==============================] - 448s 14ms/step - loss: 0.2598 - val_loss: 1.6940\n",
      "\n",
      "Epoch 00027: val_loss did not improve from 1.65337\n",
      "Epoch 28/30\n",
      "32000/32000 [==============================] - 448s 14ms/step - loss: 0.2314 - val_loss: 1.7012\n",
      "\n",
      "Epoch 00028: val_loss did not improve from 1.65337\n",
      "Epoch 29/30\n",
      "32000/32000 [==============================] - 448s 14ms/step - loss: 0.2125 - val_loss: 1.7178\n",
      "\n",
      "Epoch 00029: val_loss did not improve from 1.65337\n",
      "Epoch 30/30\n",
      "32000/32000 [==============================] - 450s 14ms/step - loss: 0.1896 - val_loss: 1.7197\n",
      "\n",
      "Epoch 00030: val_loss did not improve from 1.65337\n"
     ]
    }
   ],
   "source": [
    "filename = 'model.h1.24_jan_19'\n",
    "checkpoint = ModelCheckpoint(filename, monitor='val_loss', verbose=1, save_best_only=True, mode='min')\n",
    "\n",
    "history = model.fit(trainX, trainY.reshape(trainY.shape[0], trainY.shape[1], 1), \n",
    "          epochs=30, batch_size=512, \n",
    "          validation_split = 0.2,\n",
    "          callbacks=[checkpoint], verbose=1)"
   ]
  },
  {
   "cell_type": "code",
   "execution_count": 45,
   "metadata": {},
   "outputs": [
    {
     "data": {
      "image/png": "[encoded data removed]",
      "text/plain": [
       "<Figure size 432x288 with 1 Axes>"
      ]
     },
     "metadata": {
      "needs_background": "light"
     },
     "output_type": "display_data"
    }
   ],
   "source": [
    "plt.plot(history.history['loss'])\n",
    "plt.plot(history.history['val_loss'])\n",
    "plt.legend(['train','validation'])\n",
    "plt.show()"
   ]
  },
  {
   "cell_type": "markdown",
   "metadata": {},
   "source": [
    "The validation loss reached the minimun, 1.65337."
   ]
  },
  {
   "cell_type": "code",
   "execution_count": 41,
   "metadata": {},
   "outputs": [],
   "source": [
    "preds = model.predict_classes(testX.reshape((testX.shape[0],testX.shape[1])))"
   ]
  },
  {
   "cell_type": "code",
   "execution_count": 42,
   "metadata": {},
   "outputs": [],
   "source": [
    "# convert predictions into text (English)\n",
    "preds_text = []\n",
    "for i in preds:\n",
    "    temp = []\n",
    "    for j in range(len(i)):\n",
    "        t = get_word(i[j], eng_tokenizer)\n",
    "        if j > 0:\n",
    "            if (t == get_word(i[j-1], eng_tokenizer)) or (t == None):\n",
    "                temp.append('')\n",
    "            else:\n",
    "                temp.append(t)\n",
    "             \n",
    "        else:\n",
    "            if(t == None):\n",
    "                temp.append('')\n",
    "            else:\n",
    "                temp.append(t)            \n",
    "        \n",
    "    preds_text.append(' '.join(temp))"
   ]
  },
  {
   "cell_type": "code",
   "execution_count": 43,
   "metadata": {},
   "outputs": [],
   "source": [
    "pred_df = pd.DataFrame({'actual' : test[:,0], 'predicted' : preds_text})"
   ]
  },
  {
   "cell_type": "code",
   "execution_count": 44,
   "metadata": {
    "collapsed": true,
    "jupyter": {
     "outputs_hidden": true
    }
   },
   "outputs": [
    {
     "data": {
      "text/html": [
       "<div>\n",
       "<style scoped>\n",
       "    .dataframe tbody tr th:only-of-type {\n",
       "        vertical-align: middle;\n",
       "    }\n",
       "\n",
       "    .dataframe tbody tr th {\n",
       "        vertical-align: top;\n",
       "    }\n",
       "\n",
       "    .dataframe thead th {\n",
       "        text-align: right;\n",
       "    }\n",
       "</style>\n",
       "<table border=\"1\" class=\"dataframe\">\n",
       "  <thead>\n",
       "    <tr style=\"text-align: right;\">\n",
       "      <th></th>\n",
       "      <th>actual</th>\n",
       "      <th>predicted</th>\n",
       "    </tr>\n",
       "  </thead>\n",
       "  <tbody>\n",
       "    <tr>\n",
       "      <th>1487</th>\n",
       "      <td>let me do this</td>\n",
       "      <td>let me do this</td>\n",
       "    </tr>\n",
       "    <tr>\n",
       "      <th>9146</th>\n",
       "      <td>how thrilling</td>\n",
       "      <td>how cute</td>\n",
       "    </tr>\n",
       "    <tr>\n",
       "      <th>8535</th>\n",
       "      <td>theyre tears of joy</td>\n",
       "      <td>theyre is paying of</td>\n",
       "    </tr>\n",
       "    <tr>\n",
       "      <th>5724</th>\n",
       "      <td>you must be kidding</td>\n",
       "      <td>you must be joking</td>\n",
       "    </tr>\n",
       "    <tr>\n",
       "      <th>7605</th>\n",
       "      <td>i dont smoke or drink</td>\n",
       "      <td>i neither drink nor smoke</td>\n",
       "    </tr>\n",
       "    <tr>\n",
       "      <th>3458</th>\n",
       "      <td>dont open the door</td>\n",
       "      <td>dont open the door</td>\n",
       "    </tr>\n",
       "    <tr>\n",
       "      <th>2212</th>\n",
       "      <td>im very relaxed</td>\n",
       "      <td>im very</td>\n",
       "    </tr>\n",
       "    <tr>\n",
       "      <th>7625</th>\n",
       "      <td>the girl hugged her doll</td>\n",
       "      <td>the girl bit her girl</td>\n",
       "    </tr>\n",
       "    <tr>\n",
       "      <th>207</th>\n",
       "      <td>i want to speak</td>\n",
       "      <td>i want to talk</td>\n",
       "    </tr>\n",
       "    <tr>\n",
       "      <th>5074</th>\n",
       "      <td>wait here</td>\n",
       "      <td>wait here</td>\n",
       "    </tr>\n",
       "    <tr>\n",
       "      <th>1771</th>\n",
       "      <td>we didnt talk yesterday</td>\n",
       "      <td>i didnt study</td>\n",
       "    </tr>\n",
       "    <tr>\n",
       "      <th>5514</th>\n",
       "      <td>do you think im lying</td>\n",
       "      <td>do you think im going</td>\n",
       "    </tr>\n",
       "    <tr>\n",
       "      <th>9263</th>\n",
       "      <td>christmas is soon</td>\n",
       "      <td>christmas is coming</td>\n",
       "    </tr>\n",
       "    <tr>\n",
       "      <th>6886</th>\n",
       "      <td>thats not possible</td>\n",
       "      <td>that is not possible</td>\n",
       "    </tr>\n",
       "    <tr>\n",
       "      <th>7115</th>\n",
       "      <td>they dug a grave</td>\n",
       "      <td>they found a ambulance</td>\n",
       "    </tr>\n",
       "  </tbody>\n",
       "</table>\n",
       "</div>"
      ],
      "text/plain": [
       "                        actual                     predicted\n",
       "1487            let me do this            let me do this    \n",
       "9146             how thrilling                how cute      \n",
       "8535       theyre tears of joy       theyre is paying of    \n",
       "5724       you must be kidding        you must be joking    \n",
       "7605     i dont smoke or drink  i neither drink nor smoke   \n",
       "3458        dont open the door        dont open the door    \n",
       "2212           im very relaxed                 im very      \n",
       "7625  the girl hugged her doll      the girl bit her girl   \n",
       "207            i want to speak            i want to talk    \n",
       "5074                 wait here               wait here      \n",
       "1771   we didnt talk yesterday            i didnt study     \n",
       "5514     do you think im lying      do you think im going   \n",
       "9263         christmas is soon      christmas is coming     \n",
       "6886        thats not possible      that is not possible    \n",
       "7115          they dug a grave    they found a ambulance    "
      ]
     },
     "execution_count": 44,
     "metadata": {},
     "output_type": "execute_result"
    }
   ],
   "source": [
    "pred_df.sample(15)"
   ]
  },
  {
   "cell_type": "markdown",
   "metadata": {},
   "source": [
    "### **Let's try with a RNN network**"
   ]
  },
  {
   "cell_type": "code",
   "execution_count": 34,
   "metadata": {},
   "outputs": [],
   "source": [
    "# build NMT model\n",
    "from keras.layers import RNN, SimpleRNN\n",
    "def build_model_III(in_vocab, out_vocab, in_timesteps, out_timesteps, units):\n",
    "    model = Sequential()\n",
    "    model.add(Embedding(in_vocab, units, input_length=in_timesteps, mask_zero=True))\n",
    "    model.add(SimpleRNN(units, return_sequences = True))\n",
    " #   model.add(RepeatVector(out_timesteps))  \n",
    "    model.add(SimpleRNN(units, return_sequences=True))\n",
    "    model.add(Dense(out_vocab, activation='softmax'))\n",
    "    return model"
   ]
  },
  {
   "cell_type": "code",
   "execution_count": 35,
   "metadata": {},
   "outputs": [],
   "source": [
    "from keras.layers import Dropout\n",
    "model = build_model_III(spa_vocab_size, eng_vocab_size, spa_length, eng_length, 512)\n",
    "rms = optimizers.RMSprop(lr=0.001)\n",
    "model.compile(optimizer=rms, loss='sparse_categorical_crossentropy')"
   ]
  },
  {
   "cell_type": "code",
   "execution_count": 36,
   "metadata": {
    "collapsed": true,
    "jupyter": {
     "outputs_hidden": true
    }
   },
   "outputs": [
    {
     "name": "stdout",
     "output_type": "stream",
     "text": [
      "Train on 32000 samples, validate on 8000 samples\n",
      "Epoch 1/30\n",
      "32000/32000 [==============================] - 145s 5ms/step - loss: 5.5971 - val_loss: 4.9285\n",
      "\n",
      "Epoch 00001: val_loss improved from inf to 4.92852, saving model to model.h1.24_jan_19\n",
      "Epoch 2/30\n",
      "32000/32000 [==============================] - 156s 5ms/step - loss: 4.5029 - val_loss: 4.3121\n",
      "\n",
      "Epoch 00002: val_loss improved from 4.92852 to 4.31215, saving model to model.h1.24_jan_19\n",
      "Epoch 3/30\n",
      "32000/32000 [==============================] - 157s 5ms/step - loss: 3.9311 - val_loss: 3.9892\n",
      "\n",
      "Epoch 00003: val_loss improved from 4.31215 to 3.98916, saving model to model.h1.24_jan_19\n",
      "Epoch 4/30\n",
      "32000/32000 [==============================] - 151s 5ms/step - loss: 3.5038 - val_loss: 3.7503\n",
      "\n",
      "Epoch 00004: val_loss improved from 3.98916 to 3.75028, saving model to model.h1.24_jan_19\n",
      "Epoch 5/30\n",
      "32000/32000 [==============================] - 158s 5ms/step - loss: 3.1680 - val_loss: 3.5551\n",
      "\n",
      "Epoch 00005: val_loss improved from 3.75028 to 3.55506, saving model to model.h1.24_jan_19\n",
      "Epoch 6/30\n",
      "32000/32000 [==============================] - 152s 5ms/step - loss: 2.8874 - val_loss: 3.4296\n",
      "\n",
      "Epoch 00006: val_loss improved from 3.55506 to 3.42955, saving model to model.h1.24_jan_19\n",
      "Epoch 7/30\n",
      "32000/32000 [==============================] - 171s 5ms/step - loss: 2.6459 - val_loss: 3.3217\n",
      "\n",
      "Epoch 00007: val_loss improved from 3.42955 to 3.32174, saving model to model.h1.24_jan_19\n",
      "Epoch 8/30\n",
      "32000/32000 [==============================] - 157s 5ms/step - loss: 2.4360 - val_loss: 3.2458\n",
      "\n",
      "Epoch 00008: val_loss improved from 3.32174 to 3.24579, saving model to model.h1.24_jan_19\n",
      "Epoch 9/30\n",
      "32000/32000 [==============================] - 159s 5ms/step - loss: 2.2562 - val_loss: 3.1823\n",
      "\n",
      "Epoch 00009: val_loss improved from 3.24579 to 3.18228, saving model to model.h1.24_jan_19\n",
      "Epoch 10/30\n",
      "32000/32000 [==============================] - 160s 5ms/step - loss: 2.0930 - val_loss: 3.1453\n",
      "\n",
      "Epoch 00010: val_loss improved from 3.18228 to 3.14534, saving model to model.h1.24_jan_19\n",
      "Epoch 11/30\n",
      "32000/32000 [==============================] - 161s 5ms/step - loss: 1.9508 - val_loss: 3.1261\n",
      "\n",
      "Epoch 00011: val_loss improved from 3.14534 to 3.12608, saving model to model.h1.24_jan_19\n",
      "Epoch 12/30\n",
      "32000/32000 [==============================] - 161s 5ms/step - loss: 1.8204 - val_loss: 3.0929\n",
      "\n",
      "Epoch 00012: val_loss improved from 3.12608 to 3.09294, saving model to model.h1.24_jan_19\n",
      "Epoch 13/30\n",
      "32000/32000 [==============================] - 164s 5ms/step - loss: 1.7056 - val_loss: 3.0739\n",
      "\n",
      "Epoch 00013: val_loss improved from 3.09294 to 3.07386, saving model to model.h1.24_jan_19\n",
      "Epoch 14/30\n",
      "32000/32000 [==============================] - 159s 5ms/step - loss: 1.6002 - val_loss: 3.0763\n",
      "\n",
      "Epoch 00014: val_loss did not improve from 3.07386\n",
      "Epoch 15/30\n",
      "32000/32000 [==============================] - 157s 5ms/step - loss: 1.5044 - val_loss: 3.0751\n",
      "\n",
      "Epoch 00015: val_loss did not improve from 3.07386\n",
      "Epoch 16/30\n",
      "32000/32000 [==============================] - 157s 5ms/step - loss: 1.4168 - val_loss: 3.0490\n",
      "\n",
      "Epoch 00016: val_loss improved from 3.07386 to 3.04902, saving model to model.h1.24_jan_19\n",
      "Epoch 17/30\n",
      "32000/32000 [==============================] - 159s 5ms/step - loss: 1.3358 - val_loss: 3.0594\n",
      "\n",
      "Epoch 00017: val_loss did not improve from 3.04902\n",
      "Epoch 18/30\n",
      "32000/32000 [==============================] - 160s 5ms/step - loss: 1.2631 - val_loss: 3.0591\n",
      "\n",
      "Epoch 00018: val_loss did not improve from 3.04902\n",
      "Epoch 19/30\n",
      "32000/32000 [==============================] - 160s 5ms/step - loss: 1.1979 - val_loss: 3.0650\n",
      "\n",
      "Epoch 00019: val_loss did not improve from 3.04902\n",
      "Epoch 20/30\n",
      "32000/32000 [==============================] - 166s 5ms/step - loss: 1.1380 - val_loss: 3.0688\n",
      "\n",
      "Epoch 00020: val_loss did not improve from 3.04902\n",
      "Epoch 21/30\n",
      "32000/32000 [==============================] - 159s 5ms/step - loss: 1.0829 - val_loss: 3.0678\n",
      "\n",
      "Epoch 00021: val_loss did not improve from 3.04902\n",
      "Epoch 22/30\n",
      "32000/32000 [==============================] - 156s 5ms/step - loss: 1.0380 - val_loss: 3.0807\n",
      "\n",
      "Epoch 00022: val_loss did not improve from 3.04902\n",
      "Epoch 23/30\n",
      "32000/32000 [==============================] - 157s 5ms/step - loss: 0.9926 - val_loss: 3.0869\n",
      "\n",
      "Epoch 00023: val_loss did not improve from 3.04902\n",
      "Epoch 24/30\n",
      "32000/32000 [==============================] - 154s 5ms/step - loss: 0.9560 - val_loss: 3.1003\n",
      "\n",
      "Epoch 00024: val_loss did not improve from 3.04902\n",
      "Epoch 25/30\n",
      "32000/32000 [==============================] - 156s 5ms/step - loss: 0.9194 - val_loss: 3.1019\n",
      "\n",
      "Epoch 00025: val_loss did not improve from 3.04902\n",
      "Epoch 26/30\n",
      "32000/32000 [==============================] - 148s 5ms/step - loss: 0.8892 - val_loss: 3.1237\n",
      "\n",
      "Epoch 00026: val_loss did not improve from 3.04902\n",
      "Epoch 27/30\n",
      "32000/32000 [==============================] - 152s 5ms/step - loss: 0.8622 - val_loss: 3.1267\n",
      "\n",
      "Epoch 00027: val_loss did not improve from 3.04902\n",
      "Epoch 28/30\n",
      "32000/32000 [==============================] - 152s 5ms/step - loss: 0.8395 - val_loss: 3.1495\n",
      "\n",
      "Epoch 00028: val_loss did not improve from 3.04902\n",
      "Epoch 29/30\n",
      "32000/32000 [==============================] - 154s 5ms/step - loss: 0.8168 - val_loss: 3.1566\n",
      "\n",
      "Epoch 00029: val_loss did not improve from 3.04902\n",
      "Epoch 30/30\n",
      "32000/32000 [==============================] - 153s 5ms/step - loss: 0.7991 - val_loss: 3.1615\n",
      "\n",
      "Epoch 00030: val_loss did not improve from 3.04902\n"
     ]
    }
   ],
   "source": [
    "filename = 'model.h1.24_jan_19'\n",
    "checkpoint = ModelCheckpoint(filename, monitor='val_loss', verbose=1, save_best_only=True, mode='min')\n",
    "\n",
    "history = model.fit(trainX, trainY.reshape(trainY.shape[0], trainY.shape[1], 1), \n",
    "          epochs=30, batch_size=512, \n",
    "          validation_split = 0.2,\n",
    "          callbacks=[checkpoint], verbose=1)"
   ]
  },
  {
   "cell_type": "code",
   "execution_count": 37,
   "metadata": {},
   "outputs": [
    {
     "data": {
      "image/png": "[encoded data removed]",
      "text/plain": [
       "<Figure size 432x288 with 1 Axes>"
      ]
     },
     "metadata": {
      "needs_background": "light"
     },
     "output_type": "display_data"
    }
   ],
   "source": [
    "plt.plot(history.history['loss'])\n",
    "plt.plot(history.history['val_loss'])\n",
    "plt.legend(['train','validation'])\n",
    "plt.show()"
   ]
  },
  {
   "cell_type": "markdown",
   "metadata": {},
   "source": [
    "Just watching the chart it's evident that this is not a good model. The validation loss is 3.04902, and it started to overfit before the epoch number 10."
   ]
  },
  {
   "cell_type": "markdown",
   "metadata": {},
   "source": [
    "#### **Let's see what happens adding Dropout to the RNN layers**"
   ]
  },
  {
   "cell_type": "markdown",
   "metadata": {},
   "source": [
    "**The same dropout mask should be applied at every timestep, instead of a dropout mask that varies randomly from timestep to timestep.**"
   ]
  },
  {
   "cell_type": "code",
   "execution_count": 25,
   "metadata": {},
   "outputs": [],
   "source": [
    "# build NMT model\n",
    "from keras.layers import RNN, SimpleRNN\n",
    "from keras.layers import Dropout\n",
    "def build_model_IV(in_vocab, out_vocab, in_timesteps, out_timesteps, units):\n",
    "    model = Sequential()\n",
    "    model.add(Embedding(in_vocab, units, input_length=in_timesteps, mask_zero=True))\n",
    "    model.add(SimpleRNN(units, return_sequences = True))\n",
    "    model.add(Dropout(0.3))\n",
    " #   model.add(RepeatVector(out_timesteps))  \n",
    "    model.add(SimpleRNN(units, return_sequences=True))\n",
    "    model.add(Dropout(0.3))\n",
    "    model.add(Dense(out_vocab, activation='softmax'))\n",
    "    return model"
   ]
  },
  {
   "cell_type": "code",
   "execution_count": 26,
   "metadata": {},
   "outputs": [],
   "source": [
    "model = build_model_IV(spa_vocab_size, eng_vocab_size, spa_length, eng_length, 512)\n",
    "rms = optimizers.RMSprop(lr=0.001)\n",
    "model.compile(optimizer=rms, loss='sparse_categorical_crossentropy')"
   ]
  },
  {
   "cell_type": "code",
   "execution_count": 27,
   "metadata": {
    "collapsed": true,
    "jupyter": {
     "outputs_hidden": true
    }
   },
   "outputs": [
    {
     "name": "stdout",
     "output_type": "stream",
     "text": [
      "Train on 32000 samples, validate on 8000 samples\n",
      "Epoch 1/30\n",
      "32000/32000 [==============================] - 136s 4ms/step - loss: 5.6905 - val_loss: 4.9693\n",
      "\n",
      "Epoch 00001: val_loss improved from inf to 4.96933, saving model to model.h1.24_jan_19\n",
      "Epoch 2/30\n",
      "32000/32000 [==============================] - 141s 4ms/step - loss: 4.6245 - val_loss: 4.4263\n",
      "\n",
      "Epoch 00002: val_loss improved from 4.96933 to 4.42634, saving model to model.h1.24_jan_19\n",
      "Epoch 3/30\n",
      "32000/32000 [==============================] - 146s 5ms/step - loss: 4.0899 - val_loss: 4.0613\n",
      "\n",
      "Epoch 00003: val_loss improved from 4.42634 to 4.06129, saving model to model.h1.24_jan_19\n",
      "Epoch 4/30\n",
      "32000/32000 [==============================] - 150s 5ms/step - loss: 3.7148 - val_loss: 3.8236\n",
      "\n",
      "Epoch 00004: val_loss improved from 4.06129 to 3.82360, saving model to model.h1.24_jan_19\n",
      "Epoch 5/30\n",
      "32000/32000 [==============================] - 149s 5ms/step - loss: 3.4189 - val_loss: 3.6583\n",
      "\n",
      "Epoch 00005: val_loss improved from 3.82360 to 3.65826, saving model to model.h1.24_jan_19\n",
      "Epoch 6/30\n",
      "32000/32000 [==============================] - 149s 5ms/step - loss: 3.1744 - val_loss: 3.5231\n",
      "\n",
      "Epoch 00006: val_loss improved from 3.65826 to 3.52312, saving model to model.h1.24_jan_19\n",
      "Epoch 7/30\n",
      "32000/32000 [==============================] - 147s 5ms/step - loss: 2.9674 - val_loss: 3.4146\n",
      "\n",
      "Epoch 00007: val_loss improved from 3.52312 to 3.41456, saving model to model.h1.24_jan_19\n",
      "Epoch 8/30\n",
      "32000/32000 [==============================] - 150s 5ms/step - loss: 2.7899 - val_loss: 3.3236\n",
      "\n",
      "Epoch 00008: val_loss improved from 3.41456 to 3.32357, saving model to model.h1.24_jan_19\n",
      "Epoch 9/30\n",
      "32000/32000 [==============================] - 144s 4ms/step - loss: 2.6340 - val_loss: 3.2829\n",
      "\n",
      "Epoch 00009: val_loss improved from 3.32357 to 3.28292, saving model to model.h1.24_jan_19\n",
      "Epoch 10/30\n",
      "32000/32000 [==============================] - 143s 4ms/step - loss: 2.4969 - val_loss: 3.2146\n",
      "\n",
      "Epoch 00010: val_loss improved from 3.28292 to 3.21458, saving model to model.h1.24_jan_19\n",
      "Epoch 11/30\n",
      "32000/32000 [==============================] - 144s 4ms/step - loss: 2.3743 - val_loss: 3.2005\n",
      "\n",
      "Epoch 00011: val_loss improved from 3.21458 to 3.20050, saving model to model.h1.24_jan_19\n",
      "Epoch 12/30\n",
      "32000/32000 [==============================] - 143s 4ms/step - loss: 2.2668 - val_loss: 3.1679\n",
      "\n",
      "Epoch 00012: val_loss improved from 3.20050 to 3.16792, saving model to model.h1.24_jan_19\n",
      "Epoch 13/30\n",
      "32000/32000 [==============================] - 143s 4ms/step - loss: 2.1721 - val_loss: 3.1350\n",
      "\n",
      "Epoch 00013: val_loss improved from 3.16792 to 3.13496, saving model to model.h1.24_jan_19\n",
      "Epoch 14/30\n",
      "32000/32000 [==============================] - 150s 5ms/step - loss: 2.0848 - val_loss: 3.1104\n",
      "\n",
      "Epoch 00014: val_loss improved from 3.13496 to 3.11039, saving model to model.h1.24_jan_19\n",
      "Epoch 15/30\n",
      "32000/32000 [==============================] - 151s 5ms/step - loss: 2.0057 - val_loss: 3.1021\n",
      "\n",
      "Epoch 00015: val_loss improved from 3.11039 to 3.10214, saving model to model.h1.24_jan_19\n",
      "Epoch 16/30\n",
      "32000/32000 [==============================] - 152s 5ms/step - loss: 1.9332 - val_loss: 3.0933\n",
      "\n",
      "Epoch 00016: val_loss improved from 3.10214 to 3.09327, saving model to model.h1.24_jan_19\n",
      "Epoch 17/30\n",
      "32000/32000 [==============================] - 148s 5ms/step - loss: 1.8716 - val_loss: 3.0734\n",
      "\n",
      "Epoch 00017: val_loss improved from 3.09327 to 3.07344, saving model to model.h1.24_jan_19\n",
      "Epoch 18/30\n",
      "32000/32000 [==============================] - 147s 5ms/step - loss: 1.8094 - val_loss: 3.0682\n",
      "\n",
      "Epoch 00018: val_loss improved from 3.07344 to 3.06818, saving model to model.h1.24_jan_19\n",
      "Epoch 19/30\n",
      "32000/32000 [==============================] - 151s 5ms/step - loss: 1.7559 - val_loss: 3.0687\n",
      "\n",
      "Epoch 00019: val_loss did not improve from 3.06818\n",
      "Epoch 20/30\n",
      "32000/32000 [==============================] - 151s 5ms/step - loss: 1.7065 - val_loss: 3.0439\n",
      "\n",
      "Epoch 00020: val_loss improved from 3.06818 to 3.04393, saving model to model.h1.24_jan_19\n",
      "Epoch 21/30\n",
      "32000/32000 [==============================] - 146s 5ms/step - loss: 1.6605 - val_loss: 3.0526\n",
      "\n",
      "Epoch 00021: val_loss did not improve from 3.04393\n",
      "Epoch 22/30\n",
      "32000/32000 [==============================] - 167s 5ms/step - loss: 1.6199 - val_loss: 3.0445\n",
      "\n",
      "Epoch 00022: val_loss did not improve from 3.04393\n",
      "Epoch 23/30\n",
      "32000/32000 [==============================] - 158s 5ms/step - loss: 1.5808 - val_loss: 3.0378\n",
      "\n",
      "Epoch 00023: val_loss improved from 3.04393 to 3.03776, saving model to model.h1.24_jan_19\n",
      "Epoch 24/30\n",
      "32000/32000 [==============================] - 147s 5ms/step - loss: 1.5417 - val_loss: 3.0413\n",
      "\n",
      "Epoch 00024: val_loss did not improve from 3.03776\n",
      "Epoch 25/30\n",
      "32000/32000 [==============================] - 145s 5ms/step - loss: 1.5110 - val_loss: 3.0277\n",
      "\n",
      "Epoch 00025: val_loss improved from 3.03776 to 3.02773, saving model to model.h1.24_jan_19\n",
      "Epoch 26/30\n",
      "32000/32000 [==============================] - 148s 5ms/step - loss: 1.4788 - val_loss: 3.0329\n",
      "\n",
      "Epoch 00026: val_loss did not improve from 3.02773\n",
      "Epoch 27/30\n",
      "32000/32000 [==============================] - 146s 5ms/step - loss: 1.4520 - val_loss: 3.0339\n",
      "\n",
      "Epoch 00027: val_loss did not improve from 3.02773\n",
      "Epoch 28/30\n",
      "32000/32000 [==============================] - 147s 5ms/step - loss: 1.4222 - val_loss: 3.0314\n",
      "\n",
      "Epoch 00028: val_loss did not improve from 3.02773\n",
      "Epoch 29/30\n",
      "32000/32000 [==============================] - 149s 5ms/step - loss: 1.3989 - val_loss: 3.0428\n",
      "\n",
      "Epoch 00029: val_loss did not improve from 3.02773\n",
      "Epoch 30/30\n",
      "32000/32000 [==============================] - 148s 5ms/step - loss: 1.3757 - val_loss: 3.0319\n",
      "\n",
      "Epoch 00030: val_loss did not improve from 3.02773\n"
     ]
    }
   ],
   "source": [
    "filename = 'model.h1.24_jan_19'\n",
    "checkpoint = ModelCheckpoint(filename, monitor='val_loss', verbose=1, save_best_only=True, mode='min')\n",
    "\n",
    "history = model.fit(trainX, trainY.reshape(trainY.shape[0], trainY.shape[1], 1), \n",
    "          epochs=30, batch_size=512, \n",
    "          validation_split = 0.2,\n",
    "          callbacks=[checkpoint], verbose=1)"
   ]
  },
  {
   "cell_type": "code",
   "execution_count": 28,
   "metadata": {},
   "outputs": [
    {
     "data": {
      "image/png": "[encoded data removed]",
      "text/plain": [
       "<Figure size 432x288 with 1 Axes>"
      ]
     },
     "metadata": {
      "needs_background": "light"
     },
     "output_type": "display_data"
    }
   ],
   "source": [
    "plt.plot(history.history['loss'])\n",
    "plt.plot(history.history['val_loss'])\n",
    "plt.legend(['train','validation'])\n",
    "plt.show()"
   ]
  },
  {
   "cell_type": "markdown",
   "metadata": {},
   "source": [
    "The dropout has not made any improvement in the network. The validation loss obtained is 3.02773."
   ]
  },
  {
   "cell_type": "code",
   "execution_count": 29,
   "metadata": {},
   "outputs": [],
   "source": [
    "preds = model.predict_classes(testX.reshape((testX.shape[0],testX.shape[1])))"
   ]
  },
  {
   "cell_type": "code",
   "execution_count": 30,
   "metadata": {},
   "outputs": [],
   "source": [
    "# convert predictions into text (English)\n",
    "preds_text = []\n",
    "for i in preds:\n",
    "    temp = []\n",
    "    for j in range(len(i)):\n",
    "        t = get_word(i[j], eng_tokenizer)\n",
    "        if j > 0:\n",
    "            if (t == get_word(i[j-1], eng_tokenizer)) or (t == None):\n",
    "                temp.append('')\n",
    "            else:\n",
    "                temp.append(t)\n",
    "             \n",
    "        else:\n",
    "            if(t == None):\n",
    "                temp.append('')\n",
    "            else:\n",
    "                temp.append(t)            \n",
    "        \n",
    "    preds_text.append(' '.join(temp))"
   ]
  },
  {
   "cell_type": "code",
   "execution_count": 31,
   "metadata": {},
   "outputs": [],
   "source": [
    "pred_df = pd.DataFrame({'actual' : test[:,0], 'predicted' : preds_text})"
   ]
  },
  {
   "cell_type": "code",
   "execution_count": 32,
   "metadata": {
    "collapsed": true,
    "jupyter": {
     "outputs_hidden": true
    }
   },
   "outputs": [
    {
     "data": {
      "text/html": [
       "<div>\n",
       "<style scoped>\n",
       "    .dataframe tbody tr th:only-of-type {\n",
       "        vertical-align: middle;\n",
       "    }\n",
       "\n",
       "    .dataframe tbody tr th {\n",
       "        vertical-align: top;\n",
       "    }\n",
       "\n",
       "    .dataframe thead th {\n",
       "        text-align: right;\n",
       "    }\n",
       "</style>\n",
       "<table border=\"1\" class=\"dataframe\">\n",
       "  <thead>\n",
       "    <tr style=\"text-align: right;\">\n",
       "      <th></th>\n",
       "      <th>actual</th>\n",
       "      <th>predicted</th>\n",
       "    </tr>\n",
       "  </thead>\n",
       "  <tbody>\n",
       "    <tr>\n",
       "      <th>5418</th>\n",
       "      <td>were on the way home</td>\n",
       "      <td>were on the home</td>\n",
       "    </tr>\n",
       "    <tr>\n",
       "      <th>9480</th>\n",
       "      <td>youre a thief</td>\n",
       "      <td>youre a an</td>\n",
       "    </tr>\n",
       "    <tr>\n",
       "      <th>9512</th>\n",
       "      <td>i left tom behind</td>\n",
       "      <td>i let tom</td>\n",
       "    </tr>\n",
       "    <tr>\n",
       "      <th>8192</th>\n",
       "      <td>tom is missing a finger</td>\n",
       "      <td>tom likes to   finger</td>\n",
       "    </tr>\n",
       "    <tr>\n",
       "      <th>7078</th>\n",
       "      <td>bring me my glasses</td>\n",
       "      <td>please give my</td>\n",
       "    </tr>\n",
       "    <tr>\n",
       "      <th>3217</th>\n",
       "      <td>let me carry it</td>\n",
       "      <td>let me</td>\n",
       "    </tr>\n",
       "    <tr>\n",
       "      <th>8451</th>\n",
       "      <td>i felt even smaller</td>\n",
       "      <td>i felt even smaller</td>\n",
       "    </tr>\n",
       "    <tr>\n",
       "      <th>1612</th>\n",
       "      <td>someone pushed me inside</td>\n",
       "      <td>someone stole me</td>\n",
       "    </tr>\n",
       "    <tr>\n",
       "      <th>4542</th>\n",
       "      <td>she managed to escape</td>\n",
       "      <td>she made to</td>\n",
       "    </tr>\n",
       "    <tr>\n",
       "      <th>6358</th>\n",
       "      <td>tom feels sorry for mary</td>\n",
       "      <td>tom is a</td>\n",
       "    </tr>\n",
       "    <tr>\n",
       "      <th>9919</th>\n",
       "      <td>he sang and sang</td>\n",
       "      <td>tom and</td>\n",
       "    </tr>\n",
       "    <tr>\n",
       "      <th>3099</th>\n",
       "      <td>he wont come will he</td>\n",
       "      <td>he doesnt come</td>\n",
       "    </tr>\n",
       "    <tr>\n",
       "      <th>3504</th>\n",
       "      <td>does anyone live here</td>\n",
       "      <td>does anyone here</td>\n",
       "    </tr>\n",
       "    <tr>\n",
       "      <th>8202</th>\n",
       "      <td>how old is your father</td>\n",
       "      <td>what old is your</td>\n",
       "    </tr>\n",
       "    <tr>\n",
       "      <th>460</th>\n",
       "      <td>i dont like shellfish</td>\n",
       "      <td>dont  like</td>\n",
       "    </tr>\n",
       "  </tbody>\n",
       "</table>\n",
       "</div>"
      ],
      "text/plain": [
       "                        actual                predicted\n",
       "5418      were on the way home     were on the home    \n",
       "9480             youre a thief          youre a an     \n",
       "9512         i left tom behind           i let tom     \n",
       "8192   tom is missing a finger  tom likes to   finger  \n",
       "7078       bring me my glasses      please give my     \n",
       "3217           let me carry it             let me      \n",
       "8451       i felt even smaller  i felt even smaller    \n",
       "1612  someone pushed me inside    someone stole me     \n",
       "4542     she managed to escape         she made to     \n",
       "6358  tom feels sorry for mary            tom is a     \n",
       "9919          he sang and sang            tom and      \n",
       "3099      he wont come will he      he doesnt come     \n",
       "3504     does anyone live here    does anyone here     \n",
       "8202    how old is your father     what old is your    \n",
       "460      i dont like shellfish          dont  like     "
      ]
     },
     "execution_count": 32,
     "metadata": {},
     "output_type": "execute_result"
    }
   ],
   "source": [
    "pred_df.sample(15)"
   ]
  },
  {
   "cell_type": "markdown",
   "metadata": {},
   "source": [
    "### **After seeing the success of that model... Im going to try with another network: GRU**"
   ]
  },
  {
   "cell_type": "code",
   "execution_count": 58,
   "metadata": {},
   "outputs": [],
   "source": [
    "# build NMT model\n",
    "from keras.layers import GRU\n",
    "from keras.layers import Dropout\n",
    "def build_model_V(in_vocab, out_vocab, in_timesteps, out_timesteps, units):\n",
    "    model = Sequential()\n",
    "    model.add(Embedding(in_vocab, units, input_length=in_timesteps, mask_zero=True))\n",
    "    model.add(GRU(units, return_sequences = True))\n",
    "#    model.add(RepeatVector(out_timesteps))  \n",
    "    model.add(GRU(units, return_sequences=True))\n",
    "    model.add(Dense(out_vocab, activation='softmax'))\n",
    "    return model"
   ]
  },
  {
   "cell_type": "code",
   "execution_count": 59,
   "metadata": {},
   "outputs": [],
   "source": [
    "model = build_model_V(spa_vocab_size, eng_vocab_size, spa_length, eng_length, 512)\n",
    "rms = optimizers.RMSprop(lr=0.001)\n",
    "model.compile(optimizer=rms, loss='sparse_categorical_crossentropy')"
   ]
  },
  {
   "cell_type": "code",
   "execution_count": 60,
   "metadata": {
    "collapsed": true,
    "jupyter": {
     "outputs_hidden": true
    }
   },
   "outputs": [
    {
     "name": "stdout",
     "output_type": "stream",
     "text": [
      "Train on 32000 samples, validate on 8000 samples\n",
      "Epoch 1/30\n",
      "32000/32000 [==============================] - 208s 6ms/step - loss: 5.8879 - val_loss: 5.2508\n",
      "\n",
      "Epoch 00001: val_loss improved from inf to 5.25078, saving model to model.h1.24_jan_19\n",
      "Epoch 2/30\n",
      "32000/32000 [==============================] - 189s 6ms/step - loss: 4.8892 - val_loss: 4.7064\n",
      "\n",
      "Epoch 00002: val_loss improved from 5.25078 to 4.70637, saving model to model.h1.24_jan_19\n",
      "Epoch 3/30\n",
      "32000/32000 [==============================] - 189s 6ms/step - loss: 4.3190 - val_loss: 4.3100\n",
      "\n",
      "Epoch 00003: val_loss improved from 4.70637 to 4.31000, saving model to model.h1.24_jan_19\n",
      "Epoch 4/30\n",
      "32000/32000 [==============================] - 189s 6ms/step - loss: 3.8549 - val_loss: 3.9483\n",
      "\n",
      "Epoch 00004: val_loss improved from 4.31000 to 3.94830, saving model to model.h1.24_jan_19\n",
      "Epoch 5/30\n",
      "32000/32000 [==============================] - 198s 6ms/step - loss: 3.4783 - val_loss: 3.7242\n",
      "\n",
      "Epoch 00005: val_loss improved from 3.94830 to 3.72422, saving model to model.h1.24_jan_19\n",
      "Epoch 6/30\n",
      "32000/32000 [==============================] - 199s 6ms/step - loss: 3.1759 - val_loss: 3.5518\n",
      "\n",
      "Epoch 00006: val_loss improved from 3.72422 to 3.55181, saving model to model.h1.24_jan_19\n",
      "Epoch 7/30\n",
      "32000/32000 [==============================] - 190s 6ms/step - loss: 2.9171 - val_loss: 3.4350\n",
      "\n",
      "Epoch 00007: val_loss improved from 3.55181 to 3.43503, saving model to model.h1.24_jan_19\n",
      "Epoch 8/30\n",
      "32000/32000 [==============================] - 187s 6ms/step - loss: 2.6910 - val_loss: 3.3292\n",
      "\n",
      "Epoch 00008: val_loss improved from 3.43503 to 3.32923, saving model to model.h1.24_jan_19\n",
      "Epoch 9/30\n",
      "32000/32000 [==============================] - 187s 6ms/step - loss: 2.4959 - val_loss: 3.2563\n",
      "\n",
      "Epoch 00009: val_loss improved from 3.32923 to 3.25631, saving model to model.h1.24_jan_19\n",
      "Epoch 10/30\n",
      "32000/32000 [==============================] - 188s 6ms/step - loss: 2.3223 - val_loss: 3.1813\n",
      "\n",
      "Epoch 00010: val_loss improved from 3.25631 to 3.18133, saving model to model.h1.24_jan_19\n",
      "Epoch 11/30\n",
      "32000/32000 [==============================] - 203s 6ms/step - loss: 2.1657 - val_loss: 3.1437\n",
      "\n",
      "Epoch 00011: val_loss improved from 3.18133 to 3.14369, saving model to model.h1.24_jan_19\n",
      "Epoch 12/30\n",
      "32000/32000 [==============================] - 193s 6ms/step - loss: 2.0258 - val_loss: 3.0977\n",
      "\n",
      "Epoch 00012: val_loss improved from 3.14369 to 3.09767, saving model to model.h1.24_jan_19\n",
      "Epoch 13/30\n",
      "32000/32000 [==============================] - 198s 6ms/step - loss: 1.8959 - val_loss: 3.0651\n",
      "\n",
      "Epoch 00013: val_loss improved from 3.09767 to 3.06513, saving model to model.h1.24_jan_19\n",
      "Epoch 14/30\n",
      "32000/32000 [==============================] - 198s 6ms/step - loss: 1.7780 - val_loss: 3.0484\n",
      "\n",
      "Epoch 00014: val_loss improved from 3.06513 to 3.04839, saving model to model.h1.24_jan_19\n",
      "Epoch 15/30\n",
      "32000/32000 [==============================] - 200s 6ms/step - loss: 1.6713 - val_loss: 3.0295\n",
      "\n",
      "Epoch 00015: val_loss improved from 3.04839 to 3.02946, saving model to model.h1.24_jan_19\n",
      "Epoch 16/30\n",
      "32000/32000 [==============================] - 200s 6ms/step - loss: 1.5734 - val_loss: 3.0137\n",
      "\n",
      "Epoch 00016: val_loss improved from 3.02946 to 3.01365, saving model to model.h1.24_jan_19\n",
      "Epoch 17/30\n",
      "32000/32000 [==============================] - 199s 6ms/step - loss: 1.4828 - val_loss: 3.0083\n",
      "\n",
      "Epoch 00017: val_loss improved from 3.01365 to 3.00833, saving model to model.h1.24_jan_19\n",
      "Epoch 18/30\n",
      "32000/32000 [==============================] - 200s 6ms/step - loss: 1.3972 - val_loss: 3.0061\n",
      "\n",
      "Epoch 00018: val_loss improved from 3.00833 to 3.00608, saving model to model.h1.24_jan_19\n",
      "Epoch 19/30\n",
      "32000/32000 [==============================] - 206s 6ms/step - loss: 1.3222 - val_loss: 2.9976\n",
      "\n",
      "Epoch 00019: val_loss improved from 3.00608 to 2.99759, saving model to model.h1.24_jan_19\n",
      "Epoch 20/30\n",
      "32000/32000 [==============================] - 199s 6ms/step - loss: 1.2511 - val_loss: 3.0016\n",
      "\n",
      "Epoch 00020: val_loss did not improve from 2.99759\n",
      "Epoch 21/30\n",
      "32000/32000 [==============================] - 290s 9ms/step - loss: 1.1868 - val_loss: 3.0024\n",
      "\n",
      "Epoch 00021: val_loss did not improve from 2.99759\n",
      "Epoch 22/30\n",
      "32000/32000 [==============================] - 462s 14ms/step - loss: 1.1283 - val_loss: 3.0109\n",
      "\n",
      "Epoch 00022: val_loss did not improve from 2.99759\n",
      "Epoch 23/30\n",
      "32000/32000 [==============================] - 469s 15ms/step - loss: 1.0741 - val_loss: 3.0209\n",
      "\n",
      "Epoch 00023: val_loss did not improve from 2.99759\n",
      "Epoch 24/30\n",
      "32000/32000 [==============================] - 466s 15ms/step - loss: 1.0267 - val_loss: 3.0241\n",
      "\n",
      "Epoch 00024: val_loss did not improve from 2.99759\n",
      "Epoch 25/30\n",
      "32000/32000 [==============================] - 463s 14ms/step - loss: 0.9831 - val_loss: 3.0393\n",
      "\n",
      "Epoch 00025: val_loss did not improve from 2.99759\n",
      "Epoch 26/30\n",
      "32000/32000 [==============================] - 478s 15ms/step - loss: 0.9460 - val_loss: 3.0564\n",
      "\n",
      "Epoch 00026: val_loss did not improve from 2.99759\n",
      "Epoch 27/30\n",
      "32000/32000 [==============================] - 472s 15ms/step - loss: 0.9098 - val_loss: 3.0682\n",
      "\n",
      "Epoch 00027: val_loss did not improve from 2.99759\n",
      "Epoch 28/30\n",
      "32000/32000 [==============================] - 514s 16ms/step - loss: 0.8786 - val_loss: 3.0787\n",
      "\n",
      "Epoch 00028: val_loss did not improve from 2.99759\n",
      "Epoch 29/30\n",
      "32000/32000 [==============================] - 475s 15ms/step - loss: 0.8514 - val_loss: 3.0948\n",
      "\n",
      "Epoch 00029: val_loss did not improve from 2.99759\n",
      "Epoch 30/30\n",
      "32000/32000 [==============================] - 468s 15ms/step - loss: 0.8276 - val_loss: 3.1131\n",
      "\n",
      "Epoch 00030: val_loss did not improve from 2.99759\n"
     ]
    }
   ],
   "source": [
    "filename = 'model.h1.24_jan_19'\n",
    "checkpoint = ModelCheckpoint(filename, monitor='val_loss', verbose=1, save_best_only=True, mode='min')\n",
    "\n",
    "history = model.fit(trainX, trainY.reshape(trainY.shape[0], trainY.shape[1], 1), \n",
    "          epochs=30, batch_size=512, \n",
    "          validation_split = 0.2,\n",
    "          callbacks=[checkpoint], verbose=1)"
   ]
  },
  {
   "cell_type": "code",
   "execution_count": 61,
   "metadata": {},
   "outputs": [
    {
     "data": {
      "image/png": "[encoded data removed]",
      "text/plain": [
       "<Figure size 432x288 with 1 Axes>"
      ]
     },
     "metadata": {
      "needs_background": "light"
     },
     "output_type": "display_data"
    }
   ],
   "source": [
    "plt.plot(history.history['loss'])\n",
    "plt.plot(history.history['val_loss'])\n",
    "plt.legend(['train','validation'])\n",
    "plt.show()"
   ]
  },
  {
   "cell_type": "markdown",
   "metadata": {},
   "source": [
    "The perfomance is quite similar to the RNN one. The validation loos is 2.99759 and the model overfit since the 10 epoch."
   ]
  },
  {
   "cell_type": "code",
   "execution_count": 62,
   "metadata": {},
   "outputs": [],
   "source": [
    "preds = model.predict_classes(testX.reshape((testX.shape[0],testX.shape[1])))"
   ]
  },
  {
   "cell_type": "code",
   "execution_count": 63,
   "metadata": {},
   "outputs": [],
   "source": [
    "# convert predictions into text (English)\n",
    "preds_text = []\n",
    "for i in preds:\n",
    "    temp = []\n",
    "    for j in range(len(i)):\n",
    "        t = get_word(i[j], eng_tokenizer)\n",
    "        if j > 0:\n",
    "            if (t == get_word(i[j-1], eng_tokenizer)) or (t == None):\n",
    "                temp.append('')\n",
    "            else:\n",
    "                temp.append(t)\n",
    "             \n",
    "        else:\n",
    "            if(t == None):\n",
    "                temp.append('')\n",
    "            else:\n",
    "                temp.append(t)            \n",
    "        \n",
    "    preds_text.append(' '.join(temp))"
   ]
  },
  {
   "cell_type": "code",
   "execution_count": 64,
   "metadata": {},
   "outputs": [],
   "source": [
    "pred_df = pd.DataFrame({'actual' : test[:,0], 'predicted' : preds_text})"
   ]
  },
  {
   "cell_type": "code",
   "execution_count": 65,
   "metadata": {
    "collapsed": true,
    "jupyter": {
     "outputs_hidden": true
    }
   },
   "outputs": [
    {
     "data": {
      "text/html": [
       "<div>\n",
       "<style scoped>\n",
       "    .dataframe tbody tr th:only-of-type {\n",
       "        vertical-align: middle;\n",
       "    }\n",
       "\n",
       "    .dataframe tbody tr th {\n",
       "        vertical-align: top;\n",
       "    }\n",
       "\n",
       "    .dataframe thead th {\n",
       "        text-align: right;\n",
       "    }\n",
       "</style>\n",
       "<table border=\"1\" class=\"dataframe\">\n",
       "  <thead>\n",
       "    <tr style=\"text-align: right;\">\n",
       "      <th></th>\n",
       "      <th>actual</th>\n",
       "      <th>predicted</th>\n",
       "    </tr>\n",
       "  </thead>\n",
       "  <tbody>\n",
       "    <tr>\n",
       "      <th>1448</th>\n",
       "      <td>tom is ambidextrous</td>\n",
       "      <td>tom is a</td>\n",
       "    </tr>\n",
       "    <tr>\n",
       "      <th>8587</th>\n",
       "      <td>im not really sure why</td>\n",
       "      <td>i of not im safe</td>\n",
       "    </tr>\n",
       "    <tr>\n",
       "      <th>3792</th>\n",
       "      <td>i dont have a clue</td>\n",
       "      <td>i dont afraid idea</td>\n",
       "    </tr>\n",
       "    <tr>\n",
       "      <th>2516</th>\n",
       "      <td>how long did it last</td>\n",
       "      <td>how long does</td>\n",
       "    </tr>\n",
       "    <tr>\n",
       "      <th>9684</th>\n",
       "      <td>i want to cry</td>\n",
       "      <td>i want</td>\n",
       "    </tr>\n",
       "    <tr>\n",
       "      <th>8342</th>\n",
       "      <td>what are you fighting for</td>\n",
       "      <td>why are you</td>\n",
       "    </tr>\n",
       "    <tr>\n",
       "      <th>1598</th>\n",
       "      <td>whats in this bag</td>\n",
       "      <td>what about on this</td>\n",
       "    </tr>\n",
       "    <tr>\n",
       "      <th>4729</th>\n",
       "      <td>get me some ice</td>\n",
       "      <td>bring me some ice</td>\n",
       "    </tr>\n",
       "    <tr>\n",
       "      <th>4400</th>\n",
       "      <td>who said that</td>\n",
       "      <td>who knows that</td>\n",
       "    </tr>\n",
       "    <tr>\n",
       "      <th>7638</th>\n",
       "      <td>he went there by himself</td>\n",
       "      <td>he was there</td>\n",
       "    </tr>\n",
       "    <tr>\n",
       "      <th>67</th>\n",
       "      <td>id like to rent a house</td>\n",
       "      <td>i like to a</td>\n",
       "    </tr>\n",
       "    <tr>\n",
       "      <th>4187</th>\n",
       "      <td>i dont want this one</td>\n",
       "      <td>this is know it</td>\n",
       "    </tr>\n",
       "    <tr>\n",
       "      <th>6976</th>\n",
       "      <td>help yourself</td>\n",
       "      <td>help yourself</td>\n",
       "    </tr>\n",
       "    <tr>\n",
       "      <th>268</th>\n",
       "      <td>i havent lost my mind</td>\n",
       "      <td>i havent lost my mind</td>\n",
       "    </tr>\n",
       "    <tr>\n",
       "      <th>9935</th>\n",
       "      <td>the keyboard is backlit</td>\n",
       "      <td>the is  white</td>\n",
       "    </tr>\n",
       "  </tbody>\n",
       "</table>\n",
       "</div>"
      ],
      "text/plain": [
       "                         actual                 predicted\n",
       "1448        tom is ambidextrous             tom is a     \n",
       "8587     im not really sure why       i of not im safe   \n",
       "3792         i dont have a clue    i dont afraid idea    \n",
       "2516       how long did it last        how long does     \n",
       "9684              i want to cry              i want      \n",
       "8342  what are you fighting for          why are you     \n",
       "1598          whats in this bag    what about on this    \n",
       "4729            get me some ice     bring me some ice    \n",
       "4400              who said that       who knows that     \n",
       "7638   he went there by himself         he was there     \n",
       "67      id like to rent a house           i like to a    \n",
       "4187       i dont want this one       this is know it    \n",
       "6976              help yourself       help yourself      \n",
       "268       i havent lost my mind  i havent lost my mind   \n",
       "9935    the keyboard is backlit         the is  white    "
      ]
     },
     "execution_count": 65,
     "metadata": {},
     "output_type": "execute_result"
    }
   ],
   "source": [
    "pred_df.sample(15)"
   ]
  },
  {
   "cell_type": "code",
   "execution_count": 66,
   "metadata": {
    "collapsed": true,
    "jupyter": {
     "outputs_hidden": true
    }
   },
   "outputs": [
    {
     "data": {
      "text/html": [
       "<div>\n",
       "<style scoped>\n",
       "    .dataframe tbody tr th:only-of-type {\n",
       "        vertical-align: middle;\n",
       "    }\n",
       "\n",
       "    .dataframe tbody tr th {\n",
       "        vertical-align: top;\n",
       "    }\n",
       "\n",
       "    .dataframe thead th {\n",
       "        text-align: right;\n",
       "    }\n",
       "</style>\n",
       "<table border=\"1\" class=\"dataframe\">\n",
       "  <thead>\n",
       "    <tr style=\"text-align: right;\">\n",
       "      <th></th>\n",
       "      <th>actual</th>\n",
       "      <th>predicted</th>\n",
       "    </tr>\n",
       "  </thead>\n",
       "  <tbody>\n",
       "    <tr>\n",
       "      <th>9985</th>\n",
       "      <td>do tom and mary know</td>\n",
       "      <td>is tom mary know</td>\n",
       "    </tr>\n",
       "    <tr>\n",
       "      <th>9986</th>\n",
       "      <td>tom can be clumsy</td>\n",
       "      <td>tom can be been</td>\n",
       "    </tr>\n",
       "    <tr>\n",
       "      <th>9987</th>\n",
       "      <td>do you want to try it</td>\n",
       "      <td>do you</td>\n",
       "    </tr>\n",
       "    <tr>\n",
       "      <th>9988</th>\n",
       "      <td>do you know who he was</td>\n",
       "      <td>do you know</td>\n",
       "    </tr>\n",
       "    <tr>\n",
       "      <th>9989</th>\n",
       "      <td>shes also a beauty</td>\n",
       "      <td>i also a beauty</td>\n",
       "    </tr>\n",
       "    <tr>\n",
       "      <th>9990</th>\n",
       "      <td>i love your daughter</td>\n",
       "      <td>i want to hair</td>\n",
       "    </tr>\n",
       "    <tr>\n",
       "      <th>9991</th>\n",
       "      <td>he teaches english</td>\n",
       "      <td>he is this of</td>\n",
       "    </tr>\n",
       "    <tr>\n",
       "      <th>9992</th>\n",
       "      <td>i overslept</td>\n",
       "      <td>i was asleep</td>\n",
       "    </tr>\n",
       "    <tr>\n",
       "      <th>9993</th>\n",
       "      <td>he is as poor as can be</td>\n",
       "      <td>he is as</td>\n",
       "    </tr>\n",
       "    <tr>\n",
       "      <th>9994</th>\n",
       "      <td>wheres my shirt</td>\n",
       "      <td>where the my</td>\n",
       "    </tr>\n",
       "    <tr>\n",
       "      <th>9995</th>\n",
       "      <td>is everything ok here</td>\n",
       "      <td>is everything ok here</td>\n",
       "    </tr>\n",
       "    <tr>\n",
       "      <th>9996</th>\n",
       "      <td>im sick of this game</td>\n",
       "      <td>i sick of about this</td>\n",
       "    </tr>\n",
       "    <tr>\n",
       "      <th>9997</th>\n",
       "      <td>get rid of the gun</td>\n",
       "      <td>get off of</td>\n",
       "    </tr>\n",
       "    <tr>\n",
       "      <th>9998</th>\n",
       "      <td>did you watch this movie</td>\n",
       "      <td>did you see</td>\n",
       "    </tr>\n",
       "    <tr>\n",
       "      <th>9999</th>\n",
       "      <td>i bear him no malice</td>\n",
       "      <td>i dont no ear him</td>\n",
       "    </tr>\n",
       "  </tbody>\n",
       "</table>\n",
       "</div>"
      ],
      "text/plain": [
       "                        actual                  predicted\n",
       "9985      do tom and mary know       is tom mary know    \n",
       "9986         tom can be clumsy        tom can be been    \n",
       "9987     do you want to try it               do you      \n",
       "9988    do you know who he was           do you know     \n",
       "9989        shes also a beauty        i also a beauty    \n",
       "9990      i love your daughter         i want to hair    \n",
       "9991        he teaches english          he is this of    \n",
       "9992               i overslept          i was asleep     \n",
       "9993   he is as poor as can be              he is as     \n",
       "9994           wheres my shirt          where the my     \n",
       "9995     is everything ok here  is everything ok here    \n",
       "9996      im sick of this game    i sick of about this   \n",
       "9997        get rid of the gun            get off of     \n",
       "9998  did you watch this movie           did you see     \n",
       "9999      i bear him no malice       i dont no ear him   "
      ]
     },
     "execution_count": 66,
     "metadata": {},
     "output_type": "execute_result"
    }
   ],
   "source": [
    "pred_df.tail(15)"
   ]
  },
  {
   "cell_type": "markdown",
   "metadata": {},
   "source": [
    "#### **I'll try to fix it adding dropout...**"
   ]
  },
  {
   "cell_type": "code",
   "execution_count": 57,
   "metadata": {},
   "outputs": [],
   "source": [
    "# build NMT model\n",
    "from keras.layers import GRU\n",
    "from keras.layers import Dropout\n",
    "def build_model_VI(in_vocab, out_vocab, in_timesteps, out_timesteps, units):\n",
    "    model = Sequential()\n",
    "    model.add(Embedding(in_vocab, units, input_length=in_timesteps, mask_zero=True))\n",
    "    model.add(GRU(units, return_sequences = True))\n",
    "    model.add(Dropout(0.2))\n",
    "#    model.add(RepeatVector(out_timesteps))  \n",
    "    model.add(GRU(units, return_sequences=True))\n",
    "    model.add(Dropout(0.2))\n",
    "    model.add(Dense(out_vocab, activation='softmax'))\n",
    "    return model"
   ]
  },
  {
   "cell_type": "code",
   "execution_count": 68,
   "metadata": {},
   "outputs": [],
   "source": [
    "model = build_model_VI(spa_vocab_size, eng_vocab_size, spa_length, eng_length, 512)\n",
    "rms = optimizers.RMSprop(lr=0.001)\n",
    "model.compile(optimizer=rms, loss='sparse_categorical_crossentropy')"
   ]
  },
  {
   "cell_type": "code",
   "execution_count": 69,
   "metadata": {
    "collapsed": true,
    "jupyter": {
     "outputs_hidden": true
    }
   },
   "outputs": [
    {
     "name": "stdout",
     "output_type": "stream",
     "text": [
      "Train on 32000 samples, validate on 8000 samples\n",
      "Epoch 1/30\n",
      "32000/32000 [==============================] - 452s 14ms/step - loss: 5.9144 - val_loss: 5.2674\n",
      "\n",
      "Epoch 00001: val_loss improved from inf to 5.26743, saving model to model.h1.24_jan_19\n",
      "Epoch 2/30\n",
      "32000/32000 [==============================] - 214s 7ms/step - loss: 4.9064 - val_loss: 4.7149\n",
      "\n",
      "Epoch 00002: val_loss improved from 5.26743 to 4.71486, saving model to model.h1.24_jan_19\n",
      "Epoch 3/30\n",
      "32000/32000 [==============================] - 193s 6ms/step - loss: 4.3577 - val_loss: 4.2859\n",
      "\n",
      "Epoch 00003: val_loss improved from 4.71486 to 4.28589, saving model to model.h1.24_jan_19\n",
      "Epoch 4/30\n",
      "32000/32000 [==============================] - 197s 6ms/step - loss: 3.9490 - val_loss: 4.0028\n",
      "\n",
      "Epoch 00004: val_loss improved from 4.28589 to 4.00282, saving model to model.h1.24_jan_19\n",
      "Epoch 5/30\n",
      "32000/32000 [==============================] - 196s 6ms/step - loss: 3.6165 - val_loss: 3.7885\n",
      "\n",
      "Epoch 00005: val_loss improved from 4.00282 to 3.78854, saving model to model.h1.24_jan_19\n",
      "Epoch 6/30\n",
      "32000/32000 [==============================] - 199s 6ms/step - loss: 3.3389 - val_loss: 3.6430\n",
      "\n",
      "Epoch 00006: val_loss improved from 3.78854 to 3.64296, saving model to model.h1.24_jan_19\n",
      "Epoch 7/30\n",
      "32000/32000 [==============================] - 211s 7ms/step - loss: 3.1040 - val_loss: 3.4942\n",
      "\n",
      "Epoch 00007: val_loss improved from 3.64296 to 3.49416, saving model to model.h1.24_jan_19\n",
      "Epoch 8/30\n",
      "32000/32000 [==============================] - 228s 7ms/step - loss: 2.9014 - val_loss: 3.3814\n",
      "\n",
      "Epoch 00008: val_loss improved from 3.49416 to 3.38144, saving model to model.h1.24_jan_19\n",
      "Epoch 9/30\n",
      "32000/32000 [==============================] - 204s 6ms/step - loss: 2.7275 - val_loss: 3.3061\n",
      "\n",
      "Epoch 00009: val_loss improved from 3.38144 to 3.30610, saving model to model.h1.24_jan_19\n",
      "Epoch 10/30\n",
      "32000/32000 [==============================] - 203s 6ms/step - loss: 2.5758 - val_loss: 3.2361\n",
      "\n",
      "Epoch 00010: val_loss improved from 3.30610 to 3.23615, saving model to model.h1.24_jan_19\n",
      "Epoch 11/30\n",
      "32000/32000 [==============================] - 204s 6ms/step - loss: 2.4361 - val_loss: 3.1866\n",
      "\n",
      "Epoch 00011: val_loss improved from 3.23615 to 3.18658, saving model to model.h1.24_jan_19\n",
      "Epoch 12/30\n",
      "32000/32000 [==============================] - 192s 6ms/step - loss: 2.3132 - val_loss: 3.1319\n",
      "\n",
      "Epoch 00012: val_loss improved from 3.18658 to 3.13189, saving model to model.h1.24_jan_19\n",
      "Epoch 13/30\n",
      "32000/32000 [==============================] - 193s 6ms/step - loss: 2.2042 - val_loss: 3.0999\n",
      "\n",
      "Epoch 00013: val_loss improved from 3.13189 to 3.09994, saving model to model.h1.24_jan_19\n",
      "Epoch 14/30\n",
      "32000/32000 [==============================] - 199s 6ms/step - loss: 2.1025 - val_loss: 3.0728\n",
      "\n",
      "Epoch 00014: val_loss improved from 3.09994 to 3.07285, saving model to model.h1.24_jan_19\n",
      "Epoch 15/30\n",
      "32000/32000 [==============================] - 203s 6ms/step - loss: 2.0093 - val_loss: 3.0407\n",
      "\n",
      "Epoch 00015: val_loss improved from 3.07285 to 3.04073, saving model to model.h1.24_jan_19\n",
      "Epoch 16/30\n",
      "32000/32000 [==============================] - 211s 7ms/step - loss: 1.9236 - val_loss: 3.0296\n",
      "\n",
      "Epoch 00016: val_loss improved from 3.04073 to 3.02962, saving model to model.h1.24_jan_19\n",
      "Epoch 17/30\n",
      "32000/32000 [==============================] - 226s 7ms/step - loss: 1.8446 - val_loss: 3.0063\n",
      "\n",
      "Epoch 00017: val_loss improved from 3.02962 to 3.00628, saving model to model.h1.24_jan_19\n",
      "Epoch 18/30\n",
      "32000/32000 [==============================] - 198s 6ms/step - loss: 1.7705 - val_loss: 2.9997\n",
      "\n",
      "Epoch 00018: val_loss improved from 3.00628 to 2.99967, saving model to model.h1.24_jan_19\n",
      "Epoch 19/30\n",
      "32000/32000 [==============================] - 187s 6ms/step - loss: 1.7053 - val_loss: 2.9876\n",
      "\n",
      "Epoch 00019: val_loss improved from 2.99967 to 2.98758, saving model to model.h1.24_jan_19\n",
      "Epoch 20/30\n",
      "32000/32000 [==============================] - 186s 6ms/step - loss: 1.6412 - val_loss: 2.9786\n",
      "\n",
      "Epoch 00020: val_loss improved from 2.98758 to 2.97857, saving model to model.h1.24_jan_19\n",
      "Epoch 21/30\n",
      "32000/32000 [==============================] - 186s 6ms/step - loss: 1.5809 - val_loss: 2.9777\n",
      "\n",
      "Epoch 00021: val_loss improved from 2.97857 to 2.97772, saving model to model.h1.24_jan_19\n",
      "Epoch 22/30\n",
      "32000/32000 [==============================] - 186s 6ms/step - loss: 1.5288 - val_loss: 2.9767\n",
      "\n",
      "Epoch 00022: val_loss improved from 2.97772 to 2.97674, saving model to model.h1.24_jan_19\n",
      "Epoch 23/30\n",
      "32000/32000 [==============================] - 185s 6ms/step - loss: 1.4753 - val_loss: 2.9752\n",
      "\n",
      "Epoch 00023: val_loss improved from 2.97674 to 2.97519, saving model to model.h1.24_jan_19\n",
      "Epoch 24/30\n",
      "32000/32000 [==============================] - 185s 6ms/step - loss: 1.4281 - val_loss: 2.9627\n",
      "\n",
      "Epoch 00024: val_loss improved from 2.97519 to 2.96266, saving model to model.h1.24_jan_19\n",
      "Epoch 25/30\n",
      "32000/32000 [==============================] - 186s 6ms/step - loss: 1.3852 - val_loss: 2.9601\n",
      "\n",
      "Epoch 00025: val_loss improved from 2.96266 to 2.96010, saving model to model.h1.24_jan_19\n",
      "Epoch 26/30\n",
      "32000/32000 [==============================] - 186s 6ms/step - loss: 1.3439 - val_loss: 2.9643\n",
      "\n",
      "Epoch 00026: val_loss did not improve from 2.96010\n",
      "Epoch 27/30\n",
      "32000/32000 [==============================] - 186s 6ms/step - loss: 1.3022 - val_loss: 2.9704\n",
      "\n",
      "Epoch 00027: val_loss did not improve from 2.96010\n",
      "Epoch 28/30\n",
      "32000/32000 [==============================] - 186s 6ms/step - loss: 1.2663 - val_loss: 2.9680\n",
      "\n",
      "Epoch 00028: val_loss did not improve from 2.96010\n",
      "Epoch 29/30\n",
      "32000/32000 [==============================] - 186s 6ms/step - loss: 1.2332 - val_loss: 2.9747\n",
      "\n",
      "Epoch 00029: val_loss did not improve from 2.96010\n",
      "Epoch 30/30\n",
      "32000/32000 [==============================] - 186s 6ms/step - loss: 1.2028 - val_loss: 2.9776\n",
      "\n",
      "Epoch 00030: val_loss did not improve from 2.96010\n"
     ]
    }
   ],
   "source": [
    "filename = 'model.h1.24_jan_19'\n",
    "checkpoint = ModelCheckpoint(filename, monitor='val_loss', verbose=1, save_best_only=True, mode='min')\n",
    "\n",
    "history = model.fit(trainX, trainY.reshape(trainY.shape[0], trainY.shape[1], 1), \n",
    "          epochs=30, batch_size=512, \n",
    "          validation_split = 0.2,\n",
    "          callbacks=[checkpoint], verbose=1)"
   ]
  },
  {
   "cell_type": "code",
   "execution_count": 70,
   "metadata": {},
   "outputs": [
    {
     "data": {
      "image/png": "[encoded data removed]",
      "text/plain": [
       "<Figure size 432x288 with 1 Axes>"
      ]
     },
     "metadata": {
      "needs_background": "light"
     },
     "output_type": "display_data"
    }
   ],
   "source": [
    "plt.plot(history.history['loss'])\n",
    "plt.plot(history.history['val_loss'])\n",
    "plt.legend(['train','validation'])\n",
    "plt.show()"
   ]
  },
  {
   "cell_type": "markdown",
   "metadata": {},
   "source": [
    "The result practically doesn't change."
   ]
  },
  {
   "cell_type": "code",
   "execution_count": 71,
   "metadata": {},
   "outputs": [],
   "source": [
    "preds = model.predict_classes(testX.reshape((testX.shape[0],testX.shape[1])))"
   ]
  },
  {
   "cell_type": "code",
   "execution_count": 72,
   "metadata": {},
   "outputs": [],
   "source": [
    "# convert predictions into text (English)\n",
    "preds_text = []\n",
    "for i in preds:\n",
    "    temp = []\n",
    "    for j in range(len(i)):\n",
    "        t = get_word(i[j], eng_tokenizer)\n",
    "        if j > 0:\n",
    "            if (t == get_word(i[j-1], eng_tokenizer)) or (t == None):\n",
    "                temp.append('')\n",
    "            else:\n",
    "                temp.append(t)\n",
    "             \n",
    "        else:\n",
    "            if(t == None):\n",
    "                temp.append('')\n",
    "            else:\n",
    "                temp.append(t)            \n",
    "        \n",
    "    preds_text.append(' '.join(temp))"
   ]
  },
  {
   "cell_type": "code",
   "execution_count": 73,
   "metadata": {},
   "outputs": [],
   "source": [
    "pred_df = pd.DataFrame({'actual' : test[:,0], 'predicted' : preds_text})"
   ]
  },
  {
   "cell_type": "code",
   "execution_count": 74,
   "metadata": {
    "collapsed": true,
    "jupyter": {
     "outputs_hidden": true
    }
   },
   "outputs": [
    {
     "data": {
      "text/html": [
       "<div>\n",
       "<style scoped>\n",
       "    .dataframe tbody tr th:only-of-type {\n",
       "        vertical-align: middle;\n",
       "    }\n",
       "\n",
       "    .dataframe tbody tr th {\n",
       "        vertical-align: top;\n",
       "    }\n",
       "\n",
       "    .dataframe thead th {\n",
       "        text-align: right;\n",
       "    }\n",
       "</style>\n",
       "<table border=\"1\" class=\"dataframe\">\n",
       "  <thead>\n",
       "    <tr style=\"text-align: right;\">\n",
       "      <th></th>\n",
       "      <th>actual</th>\n",
       "      <th>predicted</th>\n",
       "    </tr>\n",
       "  </thead>\n",
       "  <tbody>\n",
       "    <tr>\n",
       "      <th>5431</th>\n",
       "      <td>tom looked young</td>\n",
       "      <td>tom seemed young</td>\n",
       "    </tr>\n",
       "    <tr>\n",
       "      <th>7687</th>\n",
       "      <td>tom shredded the lettuce</td>\n",
       "      <td>tom turned the fence</td>\n",
       "    </tr>\n",
       "    <tr>\n",
       "      <th>242</th>\n",
       "      <td>i want you to listen</td>\n",
       "      <td>i want you</td>\n",
       "    </tr>\n",
       "    <tr>\n",
       "      <th>3151</th>\n",
       "      <td>i must buy one</td>\n",
       "      <td>i have to one</td>\n",
       "    </tr>\n",
       "    <tr>\n",
       "      <th>645</th>\n",
       "      <td>business has improved</td>\n",
       "      <td>youve gotten has years</td>\n",
       "    </tr>\n",
       "    <tr>\n",
       "      <th>4356</th>\n",
       "      <td>the clock is defective</td>\n",
       "      <td>the clock is improving</td>\n",
       "    </tr>\n",
       "    <tr>\n",
       "      <th>7578</th>\n",
       "      <td>i hope its not true</td>\n",
       "      <td>i hope you not true</td>\n",
       "    </tr>\n",
       "    <tr>\n",
       "      <th>8545</th>\n",
       "      <td>toms my friend</td>\n",
       "      <td>tom is my friend</td>\n",
       "    </tr>\n",
       "    <tr>\n",
       "      <th>9437</th>\n",
       "      <td>what did you see next</td>\n",
       "      <td>what did you</td>\n",
       "    </tr>\n",
       "    <tr>\n",
       "      <th>7435</th>\n",
       "      <td>i want my lawyer</td>\n",
       "      <td>i love my new</td>\n",
       "    </tr>\n",
       "    <tr>\n",
       "      <th>9681</th>\n",
       "      <td>i want some more</td>\n",
       "      <td>i want some more</td>\n",
       "    </tr>\n",
       "    <tr>\n",
       "      <th>370</th>\n",
       "      <td>the party ended at nine</td>\n",
       "      <td>the party is</td>\n",
       "    </tr>\n",
       "    <tr>\n",
       "      <th>8287</th>\n",
       "      <td>thats why i came here</td>\n",
       "      <td>please why i live</td>\n",
       "    </tr>\n",
       "    <tr>\n",
       "      <th>3634</th>\n",
       "      <td>were losing</td>\n",
       "      <td>were losing</td>\n",
       "    </tr>\n",
       "    <tr>\n",
       "      <th>9049</th>\n",
       "      <td>how many hours are left</td>\n",
       "      <td>how many</td>\n",
       "    </tr>\n",
       "  </tbody>\n",
       "</table>\n",
       "</div>"
      ],
      "text/plain": [
       "                        actual                   predicted\n",
       "5431          tom looked young       tom seemed young     \n",
       "7687  tom shredded the lettuce    tom turned the fence    \n",
       "242       i want you to listen             i want you     \n",
       "3151            i must buy one           i have to one    \n",
       "645      business has improved  youve gotten has years    \n",
       "4356    the clock is defective  the clock is improving    \n",
       "7578       i hope its not true      i hope you not true   \n",
       "8545            toms my friend        tom is my friend    \n",
       "9437     what did you see next           what did you     \n",
       "7435          i want my lawyer           i love my new    \n",
       "9681          i want some more        i want some more    \n",
       "370    the party ended at nine           the party is     \n",
       "8287     thats why i came here       please why i live    \n",
       "3634               were losing           were losing      \n",
       "9049   how many hours are left              how many      "
      ]
     },
     "execution_count": 74,
     "metadata": {},
     "output_type": "execute_result"
    }
   ],
   "source": [
    "pred_df.sample(15)"
   ]
  },
  {
   "cell_type": "markdown",
   "metadata": {},
   "source": [
    "### **Finally let's try with a bidirectional network**"
   ]
  },
  {
   "cell_type": "code",
   "execution_count": 35,
   "metadata": {},
   "outputs": [],
   "source": [
    "# build NMT model\n",
    "from keras.layers import LSTM\n",
    "from keras.layers import Dropout\n",
    "from keras.layers import Bidirectional\n",
    "def build_model_VIII(in_vocab, out_vocab, in_timesteps, out_timesteps, units):\n",
    "    model = Sequential()\n",
    "    model.add(Embedding(in_vocab, units, input_length=in_timesteps, mask_zero=True))\n",
    "    model.add(Bidirectional(LSTM(units, return_sequences = True)))\n",
    "    model.add(Dropout(0.2))\n",
    "    model.add(Dense(out_vocab, activation='softmax'))    \n",
    "    return model"
   ]
  },
  {
   "cell_type": "code",
   "execution_count": 36,
   "metadata": {},
   "outputs": [],
   "source": [
    "model = build_model_VIII(spa_vocab_size, eng_vocab_size, spa_length, eng_length, 512)\n",
    "rms = optimizers.RMSprop(lr=0.001)\n",
    "model.compile(optimizer=rms, loss='sparse_categorical_crossentropy')"
   ]
  },
  {
   "cell_type": "code",
   "execution_count": 37,
   "metadata": {
    "collapsed": true,
    "jupyter": {
     "outputs_hidden": true
    }
   },
   "outputs": [
    {
     "name": "stdout",
     "output_type": "stream",
     "text": [
      "Train on 32000 samples, validate on 8000 samples\n",
      "Epoch 1/30\n",
      "32000/32000 [==============================] - 236s 7ms/step - loss: 5.8506 - val_loss: 5.1879\n",
      "\n",
      "Epoch 00001: val_loss improved from inf to 5.18794, saving model to model.h1.24_jan_19\n",
      "Epoch 2/30\n",
      "32000/32000 [==============================] - 248s 8ms/step - loss: 4.7494 - val_loss: 4.4838\n",
      "\n",
      "Epoch 00002: val_loss improved from 5.18794 to 4.48382, saving model to model.h1.24_jan_19\n",
      "Epoch 3/30\n",
      "32000/32000 [==============================] - 248s 8ms/step - loss: 4.0530 - val_loss: 3.9571\n",
      "\n",
      "Epoch 00003: val_loss improved from 4.48382 to 3.95706, saving model to model.h1.24_jan_19\n",
      "Epoch 4/30\n",
      "32000/32000 [==============================] - 257s 8ms/step - loss: 3.5100 - val_loss: 3.5905\n",
      "\n",
      "Epoch 00004: val_loss improved from 3.95706 to 3.59046, saving model to model.h1.24_jan_19\n",
      "Epoch 5/30\n",
      "32000/32000 [==============================] - 253s 8ms/step - loss: 3.0791 - val_loss: 3.3226\n",
      "\n",
      "Epoch 00005: val_loss improved from 3.59046 to 3.32261, saving model to model.h1.24_jan_19\n",
      "Epoch 6/30\n",
      "32000/32000 [==============================] - 262s 8ms/step - loss: 2.7266 - val_loss: 3.1306\n",
      "\n",
      "Epoch 00006: val_loss improved from 3.32261 to 3.13057, saving model to model.h1.24_jan_19\n",
      "Epoch 7/30\n",
      "32000/32000 [==============================] - 257s 8ms/step - loss: 2.4321 - val_loss: 2.9732\n",
      "\n",
      "Epoch 00007: val_loss improved from 3.13057 to 2.97315, saving model to model.h1.24_jan_19\n",
      "Epoch 8/30\n",
      "32000/32000 [==============================] - 258s 8ms/step - loss: 2.1746 - val_loss: 2.8556\n",
      "\n",
      "Epoch 00008: val_loss improved from 2.97315 to 2.85556, saving model to model.h1.24_jan_19\n",
      "Epoch 9/30\n",
      "32000/32000 [==============================] - 258s 8ms/step - loss: 1.9481 - val_loss: 2.7614\n",
      "\n",
      "Epoch 00009: val_loss improved from 2.85556 to 2.76140, saving model to model.h1.24_jan_19\n",
      "Epoch 10/30\n",
      "32000/32000 [==============================] - 260s 8ms/step - loss: 1.7474 - val_loss: 2.6919\n",
      "\n",
      "Epoch 00010: val_loss improved from 2.76140 to 2.69191, saving model to model.h1.24_jan_19\n",
      "Epoch 11/30\n",
      "32000/32000 [==============================] - 257s 8ms/step - loss: 1.5729 - val_loss: 2.6245\n",
      "\n",
      "Epoch 00011: val_loss improved from 2.69191 to 2.62446, saving model to model.h1.24_jan_19\n",
      "Epoch 12/30\n",
      "32000/32000 [==============================] - 255s 8ms/step - loss: 1.4109 - val_loss: 2.5799\n",
      "\n",
      "Epoch 00012: val_loss improved from 2.62446 to 2.57992, saving model to model.h1.24_jan_19\n",
      "Epoch 13/30\n",
      "32000/32000 [==============================] - 267s 8ms/step - loss: 1.2684 - val_loss: 2.5400\n",
      "\n",
      "Epoch 00013: val_loss improved from 2.57992 to 2.53998, saving model to model.h1.24_jan_19\n",
      "Epoch 14/30\n",
      "32000/32000 [==============================] - 257s 8ms/step - loss: 1.1419 - val_loss: 2.5137\n",
      "\n",
      "Epoch 00014: val_loss improved from 2.53998 to 2.51374, saving model to model.h1.24_jan_19\n",
      "Epoch 15/30\n",
      "32000/32000 [==============================] - 267s 8ms/step - loss: 1.0248 - val_loss: 2.4971\n",
      "\n",
      "Epoch 00015: val_loss improved from 2.51374 to 2.49708, saving model to model.h1.24_jan_19\n",
      "Epoch 16/30\n",
      "32000/32000 [==============================] - 264s 8ms/step - loss: 0.9201 - val_loss: 2.4745\n",
      "\n",
      "Epoch 00016: val_loss improved from 2.49708 to 2.47452, saving model to model.h1.24_jan_19\n",
      "Epoch 17/30\n",
      "32000/32000 [==============================] - 279s 9ms/step - loss: 0.8269 - val_loss: 2.4728\n",
      "\n",
      "Epoch 00017: val_loss improved from 2.47452 to 2.47281, saving model to model.h1.24_jan_19\n",
      "Epoch 18/30\n",
      "32000/32000 [==============================] - 265s 8ms/step - loss: 0.7398 - val_loss: 2.4613\n",
      "\n",
      "Epoch 00018: val_loss improved from 2.47281 to 2.46131, saving model to model.h1.24_jan_19\n",
      "Epoch 19/30\n",
      "32000/32000 [==============================] - 258s 8ms/step - loss: 0.6656 - val_loss: 2.4684\n",
      "\n",
      "Epoch 00019: val_loss did not improve from 2.46131\n",
      "Epoch 20/30\n",
      "32000/32000 [==============================] - 258s 8ms/step - loss: 0.5958 - val_loss: 2.4586\n",
      "\n",
      "Epoch 00020: val_loss improved from 2.46131 to 2.45860, saving model to model.h1.24_jan_19\n",
      "Epoch 21/30\n",
      "32000/32000 [==============================] - 256s 8ms/step - loss: 0.5331 - val_loss: 2.4687\n",
      "\n",
      "Epoch 00021: val_loss did not improve from 2.45860\n",
      "Epoch 22/30\n",
      "32000/32000 [==============================] - 256s 8ms/step - loss: 0.4819 - val_loss: 2.4839\n",
      "\n",
      "Epoch 00022: val_loss did not improve from 2.45860\n",
      "Epoch 23/30\n",
      "32000/32000 [==============================] - 257s 8ms/step - loss: 0.4300 - val_loss: 2.4846\n",
      "\n",
      "Epoch 00023: val_loss did not improve from 2.45860\n",
      "Epoch 24/30\n",
      "32000/32000 [==============================] - 254s 8ms/step - loss: 0.3908 - val_loss: 2.4872\n",
      "\n",
      "Epoch 00024: val_loss did not improve from 2.45860\n",
      "Epoch 25/30\n",
      "32000/32000 [==============================] - 263s 8ms/step - loss: 0.3528 - val_loss: 2.5033\n",
      "\n",
      "Epoch 00025: val_loss did not improve from 2.45860\n",
      "Epoch 26/30\n",
      "32000/32000 [==============================] - 259s 8ms/step - loss: 0.3199 - val_loss: 2.5270\n",
      "\n",
      "Epoch 00026: val_loss did not improve from 2.45860\n",
      "Epoch 27/30\n",
      "32000/32000 [==============================] - 256s 8ms/step - loss: 0.2926 - val_loss: 2.5287\n",
      "\n",
      "Epoch 00027: val_loss did not improve from 2.45860\n",
      "Epoch 28/30\n",
      "32000/32000 [==============================] - 257s 8ms/step - loss: 0.2687 - val_loss: 2.5383\n",
      "\n",
      "Epoch 00028: val_loss did not improve from 2.45860\n",
      "Epoch 29/30\n",
      "32000/32000 [==============================] - 259s 8ms/step - loss: 0.2484 - val_loss: 2.5565\n",
      "\n",
      "Epoch 00029: val_loss did not improve from 2.45860\n",
      "Epoch 30/30\n",
      "32000/32000 [==============================] - 254s 8ms/step - loss: 0.2289 - val_loss: 2.5748\n",
      "\n",
      "Epoch 00030: val_loss did not improve from 2.45860\n"
     ]
    }
   ],
   "source": [
    "filename = 'model.h1.24_jan_19'\n",
    "checkpoint = ModelCheckpoint(filename, monitor='val_loss', verbose=1, save_best_only=True, mode='min')\n",
    "\n",
    "history = model.fit(trainX, trainY.reshape(trainY.shape[0], trainY.shape[1], 1), \n",
    "          epochs=30, batch_size=512, \n",
    "          validation_split = 0.2,\n",
    "          callbacks=[checkpoint], verbose=1)"
   ]
  },
  {
   "cell_type": "code",
   "execution_count": 38,
   "metadata": {},
   "outputs": [
    {
     "data": {
      "image/png": "[encoded data removed]",
      "text/plain": [
       "<Figure size 432x288 with 1 Axes>"
      ]
     },
     "metadata": {
      "needs_background": "light"
     },
     "output_type": "display_data"
    }
   ],
   "source": [
    "plt.plot(history.history['loss'])\n",
    "plt.plot(history.history['val_loss'])\n",
    "plt.legend(['train','validation'])\n",
    "plt.show()"
   ]
  },
  {
   "cell_type": "markdown",
   "metadata": {},
   "source": [
    "The bidirectional LSTM network got 2.458. "
   ]
  },
  {
   "cell_type": "code",
   "execution_count": 39,
   "metadata": {},
   "outputs": [],
   "source": [
    "preds = model.predict_classes(testX.reshape((testX.shape[0],testX.shape[1])))"
   ]
  },
  {
   "cell_type": "code",
   "execution_count": 40,
   "metadata": {},
   "outputs": [],
   "source": [
    "# convert predictions into text (English)\n",
    "preds_text = []\n",
    "for i in preds:\n",
    "    temp = []\n",
    "    for j in range(len(i)):\n",
    "        t = get_word(i[j], eng_tokenizer)\n",
    "        if j > 0:\n",
    "            if (t == get_word(i[j-1], eng_tokenizer)) or (t == None):\n",
    "                temp.append('')\n",
    "            else:\n",
    "                temp.append(t)\n",
    "             \n",
    "        else:\n",
    "            if(t == None):\n",
    "                temp.append('')\n",
    "            else:\n",
    "                temp.append(t)            \n",
    "        \n",
    "    preds_text.append(' '.join(temp))"
   ]
  },
  {
   "cell_type": "code",
   "execution_count": 41,
   "metadata": {},
   "outputs": [],
   "source": [
    "pred_df = pd.DataFrame({'actual' : test[:,0], 'predicted' : preds_text})"
   ]
  },
  {
   "cell_type": "code",
   "execution_count": 42,
   "metadata": {
    "collapsed": true,
    "jupyter": {
     "outputs_hidden": true
    }
   },
   "outputs": [
    {
     "data": {
      "text/html": [
       "<div>\n",
       "<style scoped>\n",
       "    .dataframe tbody tr th:only-of-type {\n",
       "        vertical-align: middle;\n",
       "    }\n",
       "\n",
       "    .dataframe tbody tr th {\n",
       "        vertical-align: top;\n",
       "    }\n",
       "\n",
       "    .dataframe thead th {\n",
       "        text-align: right;\n",
       "    }\n",
       "</style>\n",
       "<table border=\"1\" class=\"dataframe\">\n",
       "  <thead>\n",
       "    <tr style=\"text-align: right;\">\n",
       "      <th></th>\n",
       "      <th>actual</th>\n",
       "      <th>predicted</th>\n",
       "    </tr>\n",
       "  </thead>\n",
       "  <tbody>\n",
       "    <tr>\n",
       "      <th>302</th>\n",
       "      <td>id rather not</td>\n",
       "      <td>id rather it not</td>\n",
       "    </tr>\n",
       "    <tr>\n",
       "      <th>4667</th>\n",
       "      <td>i knew it</td>\n",
       "      <td>i knew</td>\n",
       "    </tr>\n",
       "    <tr>\n",
       "      <th>4537</th>\n",
       "      <td>we should break up</td>\n",
       "      <td>we should</td>\n",
       "    </tr>\n",
       "    <tr>\n",
       "      <th>4306</th>\n",
       "      <td>take tom outside</td>\n",
       "      <td>tom</td>\n",
       "    </tr>\n",
       "    <tr>\n",
       "      <th>3097</th>\n",
       "      <td>i go to bed very early</td>\n",
       "      <td>i get to soon bed</td>\n",
       "    </tr>\n",
       "    <tr>\n",
       "      <th>2188</th>\n",
       "      <td>lets not invite tom</td>\n",
       "      <td>tom doesnt tom</td>\n",
       "    </tr>\n",
       "    <tr>\n",
       "      <th>4659</th>\n",
       "      <td>could we order now</td>\n",
       "      <td>can we take be</td>\n",
       "    </tr>\n",
       "    <tr>\n",
       "      <th>915</th>\n",
       "      <td>tom hasnt finished yet</td>\n",
       "      <td>tom isnt not yet the</td>\n",
       "    </tr>\n",
       "    <tr>\n",
       "      <th>9058</th>\n",
       "      <td>tom knows a lot of people</td>\n",
       "      <td>tom knows how many are</td>\n",
       "    </tr>\n",
       "    <tr>\n",
       "      <th>1739</th>\n",
       "      <td>tom never arrives on time</td>\n",
       "      <td>tom never  back</td>\n",
       "    </tr>\n",
       "    <tr>\n",
       "      <th>1681</th>\n",
       "      <td>get in the back seat</td>\n",
       "      <td>get back</td>\n",
       "    </tr>\n",
       "    <tr>\n",
       "      <th>8203</th>\n",
       "      <td>im going to the beach</td>\n",
       "      <td>im going the beach the</td>\n",
       "    </tr>\n",
       "    <tr>\n",
       "      <th>7603</th>\n",
       "      <td>where can i see you</td>\n",
       "      <td>where can i</td>\n",
       "    </tr>\n",
       "    <tr>\n",
       "      <th>3104</th>\n",
       "      <td>ive never heard tom cry</td>\n",
       "      <td>ive never heard tom</td>\n",
       "    </tr>\n",
       "    <tr>\n",
       "      <th>5088</th>\n",
       "      <td>i need to impress tom</td>\n",
       "      <td>i have to warn tom</td>\n",
       "    </tr>\n",
       "  </tbody>\n",
       "</table>\n",
       "</div>"
      ],
      "text/plain": [
       "                         actual                  predicted\n",
       "302               id rather not       id rather it not    \n",
       "4667                  i knew it               i knew      \n",
       "4537         we should break up            we should      \n",
       "4306           take tom outside                 tom       \n",
       "3097     i go to bed very early       i get to soon bed   \n",
       "2188        lets not invite tom        tom doesnt tom     \n",
       "4659         could we order now         can we take be    \n",
       "915      tom hasnt finished yet    tom isnt not yet the   \n",
       "9058  tom knows a lot of people  tom knows how many are   \n",
       "1739  tom never arrives on time        tom never  back    \n",
       "1681       get in the back seat             get back      \n",
       "8203      im going to the beach  im going the beach the   \n",
       "7603        where can i see you           where can i     \n",
       "3104    ive never heard tom cry    ive never heard tom    \n",
       "5088      i need to impress tom      i have to warn tom   "
      ]
     },
     "execution_count": 42,
     "metadata": {},
     "output_type": "execute_result"
    }
   ],
   "source": [
    "pred_df.sample(15)"
   ]
  },
  {
   "cell_type": "markdown",
   "metadata": {},
   "source": [
    "### **Let's change the sentences lenght**  "
   ]
  },
  {
   "cell_type": "markdown",
   "metadata": {},
   "source": [
    "The length will be of 5 instead of 8."
   ]
  },
  {
   "cell_type": "code",
   "execution_count": 33,
   "metadata": {},
   "outputs": [
    {
     "name": "stdout",
     "output_type": "stream",
     "text": [
      "English Vocabulary Size: 6942\n"
     ]
    }
   ],
   "source": [
    "# prepare english tokenizer\n",
    "eng_tokenizer = tokenization(spa_eng[:, 0])\n",
    "eng_vocab_size = len(eng_tokenizer.word_index) + 1\n",
    "\n",
    "eng_length = 5\n",
    "print('English Vocabulary Size: %d' % eng_vocab_size)"
   ]
  },
  {
   "cell_type": "code",
   "execution_count": 34,
   "metadata": {},
   "outputs": [
    {
     "name": "stdout",
     "output_type": "stream",
     "text": [
      "Spanish Vocabulary Size: 14196\n"
     ]
    }
   ],
   "source": [
    "# prepare english tokenizer\n",
    "spa_tokenizer = tokenization(spa_eng[:, 1])\n",
    "spa_vocab_size = len(spa_tokenizer.word_index) + 1\n",
    "\n",
    "spa_length = 5\n",
    "print('Spanish Vocabulary Size: %d' % spa_vocab_size)"
   ]
  },
  {
   "cell_type": "code",
   "execution_count": 35,
   "metadata": {},
   "outputs": [],
   "source": [
    "from sklearn.model_selection import train_test_split\n",
    "train, test = train_test_split(spa_eng, test_size=0.2, random_state = 12)"
   ]
  },
  {
   "cell_type": "code",
   "execution_count": 38,
   "metadata": {},
   "outputs": [
    {
     "name": "stdout",
     "output_type": "stream",
     "text": [
      "[[   1   10 1574   57    0]\n",
      " [4836    4    6  388    0]\n",
      " [  14 4963    0    0    0]\n",
      " ...\n",
      " [  43  199 1665    0    0]\n",
      " [  15  231   19    8 1196]\n",
      " [   2  240 1475    0    0]]\n",
      "40000\n",
      "[[   3  182   10  193    0]\n",
      " [   1 1094    6  497    0]\n",
      " [  50  101    9  126  321]\n",
      " ...\n",
      " [  44  444  432    0    0]\n",
      " [   4  123   57    5  213]\n",
      " [   1  202 2244    0    0]]\n",
      "40000\n"
     ]
    }
   ],
   "source": [
    "# prepare training data\n",
    "trainX = encode_sequences(spa_tokenizer, spa_length, train[:, 1])\n",
    "trainY = encode_sequences(eng_tokenizer, eng_length, train[:, 0])"
   ]
  },
  {
   "cell_type": "code",
   "execution_count": null,
   "metadata": {},
   "outputs": [],
   "source": [
    "print(trainX.shape(), trainY.shape())"
   ]
  },
  {
   "cell_type": "code",
   "execution_count": 39,
   "metadata": {},
   "outputs": [
    {
     "name": "stdout",
     "output_type": "stream",
     "text": [
      "[[  53   43   28 4980    0]\n",
      " [ 233    4    1    0    0]\n",
      " [ 108 8599    0    0    0]\n",
      " ...\n",
      " [9604  115  974    0    0]\n",
      " [1347   55  598    0    0]\n",
      " [   2   31 6750  416   11]]\n",
      "10000\n",
      "[[  36   16   40 2486    0]\n",
      " [   1   37    3    0    0]\n",
      " [   2   99 1339    0    0]\n",
      " ...\n",
      " [  56 1781   29    6  729]\n",
      " [  33    2  217   12  599]\n",
      " [   1  867   42   62 4061]]\n",
      "10000\n"
     ]
    }
   ],
   "source": [
    "# prepare validation data\n",
    "testX = encode_sequences(spa_tokenizer, spa_length, test[:, 1])\n",
    "testY = encode_sequences(eng_tokenizer, eng_length, test[:, 0])"
   ]
  },
  {
   "cell_type": "markdown",
   "metadata": {},
   "source": [
    "#### **First with the LTSM network, with dropout**"
   ]
  },
  {
   "cell_type": "code",
   "execution_count": 41,
   "metadata": {},
   "outputs": [],
   "source": [
    "from keras.layers import Dropout\n",
    "model = build_model_II(spa_vocab_size, eng_vocab_size, spa_length, eng_length, 512)\n",
    "rms = optimizers.RMSprop(lr=0.001)\n",
    "model.compile(optimizer=rms, loss='sparse_categorical_crossentropy')"
   ]
  },
  {
   "cell_type": "code",
   "execution_count": 42,
   "metadata": {
    "collapsed": true,
    "jupyter": {
     "outputs_hidden": true
    }
   },
   "outputs": [
    {
     "name": "stdout",
     "output_type": "stream",
     "text": [
      "Train on 32000 samples, validate on 8000 samples\n",
      "Epoch 1/30\n",
      "32000/32000 [==============================] - 138s 4ms/step - loss: 5.6264 - val_loss: 5.1134\n",
      "\n",
      "Epoch 00001: val_loss improved from inf to 5.11340, saving model to model.h1.24_jan_19\n",
      "Epoch 2/30\n",
      "32000/32000 [==============================] - 143s 4ms/step - loss: 4.9777 - val_loss: 4.9218\n",
      "\n",
      "Epoch 00002: val_loss improved from 5.11340 to 4.92177, saving model to model.h1.24_jan_19\n",
      "Epoch 3/30\n",
      "32000/32000 [==============================] - 142s 4ms/step - loss: 4.7418 - val_loss: 4.8211\n",
      "\n",
      "Epoch 00003: val_loss improved from 4.92177 to 4.82115, saving model to model.h1.24_jan_19\n",
      "Epoch 4/30\n",
      "32000/32000 [==============================] - 142s 4ms/step - loss: 4.5692 - val_loss: 4.6353\n",
      "\n",
      "Epoch 00004: val_loss improved from 4.82115 to 4.63528, saving model to model.h1.24_jan_19\n",
      "Epoch 5/30\n",
      "32000/32000 [==============================] - 142s 4ms/step - loss: 4.3890 - val_loss: 4.4929\n",
      "\n",
      "Epoch 00005: val_loss improved from 4.63528 to 4.49291, saving model to model.h1.24_jan_19\n",
      "Epoch 6/30\n",
      "32000/32000 [==============================] - 144s 4ms/step - loss: 4.1977 - val_loss: 4.3329\n",
      "\n",
      "Epoch 00006: val_loss improved from 4.49291 to 4.33294, saving model to model.h1.24_jan_19\n",
      "Epoch 7/30\n",
      "32000/32000 [==============================] - 142s 4ms/step - loss: 3.9932 - val_loss: 4.2011\n",
      "\n",
      "Epoch 00007: val_loss improved from 4.33294 to 4.20112, saving model to model.h1.24_jan_19\n",
      "Epoch 8/30\n",
      "32000/32000 [==============================] - 145s 5ms/step - loss: 3.7830 - val_loss: 4.0634\n",
      "\n",
      "Epoch 00008: val_loss improved from 4.20112 to 4.06342, saving model to model.h1.24_jan_19\n",
      "Epoch 9/30\n",
      "32000/32000 [==============================] - 143s 4ms/step - loss: 3.5914 - val_loss: 3.9009\n",
      "\n",
      "Epoch 00009: val_loss improved from 4.06342 to 3.90086, saving model to model.h1.24_jan_19\n",
      "Epoch 10/30\n",
      "32000/32000 [==============================] - 147s 5ms/step - loss: 3.4060 - val_loss: 3.7980\n",
      "\n",
      "Epoch 00010: val_loss improved from 3.90086 to 3.79797, saving model to model.h1.24_jan_19\n",
      "Epoch 11/30\n",
      "32000/32000 [==============================] - 145s 5ms/step - loss: 3.2332 - val_loss: 3.6887\n",
      "\n",
      "Epoch 00011: val_loss improved from 3.79797 to 3.68867, saving model to model.h1.24_jan_19\n",
      "Epoch 12/30\n",
      "32000/32000 [==============================] - 143s 4ms/step - loss: 3.0763 - val_loss: 3.6067\n",
      "\n",
      "Epoch 00012: val_loss improved from 3.68867 to 3.60671, saving model to model.h1.24_jan_19\n",
      "Epoch 13/30\n",
      "32000/32000 [==============================] - 142s 4ms/step - loss: 2.9253 - val_loss: 3.5352\n",
      "\n",
      "Epoch 00013: val_loss improved from 3.60671 to 3.53520, saving model to model.h1.24_jan_19\n",
      "Epoch 14/30\n",
      "32000/32000 [==============================] - 147s 5ms/step - loss: 2.7869 - val_loss: 3.4354\n",
      "\n",
      "Epoch 00014: val_loss improved from 3.53520 to 3.43542, saving model to model.h1.24_jan_19\n",
      "Epoch 15/30\n",
      "32000/32000 [==============================] - 146s 5ms/step - loss: 2.6552 - val_loss: 3.3669\n",
      "\n",
      "Epoch 00015: val_loss improved from 3.43542 to 3.36688, saving model to model.h1.24_jan_19\n",
      "Epoch 16/30\n",
      "32000/32000 [==============================] - 150s 5ms/step - loss: 2.5291 - val_loss: 3.3279\n",
      "\n",
      "Epoch 00016: val_loss improved from 3.36688 to 3.32794, saving model to model.h1.24_jan_19\n",
      "Epoch 17/30\n",
      "32000/32000 [==============================] - 156s 5ms/step - loss: 2.4096 - val_loss: 3.2806\n",
      "\n",
      "Epoch 00017: val_loss improved from 3.32794 to 3.28063, saving model to model.h1.24_jan_19\n",
      "Epoch 18/30\n",
      "32000/32000 [==============================] - 148s 5ms/step - loss: 2.2951 - val_loss: 3.2004\n",
      "\n",
      "Epoch 00018: val_loss improved from 3.28063 to 3.20042, saving model to model.h1.24_jan_19\n",
      "Epoch 19/30\n",
      "32000/32000 [==============================] - 148s 5ms/step - loss: 2.1839 - val_loss: 3.1425\n",
      "\n",
      "Epoch 00019: val_loss improved from 3.20042 to 3.14250, saving model to model.h1.24_jan_19\n",
      "Epoch 20/30\n",
      "32000/32000 [==============================] - 147s 5ms/step - loss: 2.0781 - val_loss: 3.1178\n",
      "\n",
      "Epoch 00020: val_loss improved from 3.14250 to 3.11785, saving model to model.h1.24_jan_19\n",
      "Epoch 21/30\n",
      "32000/32000 [==============================] - 148s 5ms/step - loss: 1.9781 - val_loss: 3.0687\n",
      "\n",
      "Epoch 00021: val_loss improved from 3.11785 to 3.06866, saving model to model.h1.24_jan_19\n",
      "Epoch 22/30\n",
      "32000/32000 [==============================] - 151s 5ms/step - loss: 1.8826 - val_loss: 3.0322\n",
      "\n",
      "Epoch 00022: val_loss improved from 3.06866 to 3.03217, saving model to model.h1.24_jan_19\n",
      "Epoch 23/30\n",
      "32000/32000 [==============================] - 143s 4ms/step - loss: 1.7874 - val_loss: 3.0351\n",
      "\n",
      "Epoch 00023: val_loss did not improve from 3.03217\n",
      "Epoch 24/30\n",
      "32000/32000 [==============================] - 141s 4ms/step - loss: 1.7000 - val_loss: 2.9926\n",
      "\n",
      "Epoch 00024: val_loss improved from 3.03217 to 2.99259, saving model to model.h1.24_jan_19\n",
      "Epoch 25/30\n",
      "32000/32000 [==============================] - 139s 4ms/step - loss: 1.6158 - val_loss: 2.9496\n",
      "\n",
      "Epoch 00025: val_loss improved from 2.99259 to 2.94957, saving model to model.h1.24_jan_19\n",
      "Epoch 26/30\n",
      "32000/32000 [==============================] - 145s 5ms/step - loss: 1.5357 - val_loss: 2.9585\n",
      "\n",
      "Epoch 00026: val_loss did not improve from 2.94957\n",
      "Epoch 27/30\n",
      "32000/32000 [==============================] - 139s 4ms/step - loss: 1.4597 - val_loss: 2.9192\n",
      "\n",
      "Epoch 00027: val_loss improved from 2.94957 to 2.91920, saving model to model.h1.24_jan_19\n",
      "Epoch 28/30\n",
      "32000/32000 [==============================] - 142s 4ms/step - loss: 1.3874 - val_loss: 2.8980\n",
      "\n",
      "Epoch 00028: val_loss improved from 2.91920 to 2.89797, saving model to model.h1.24_jan_19\n",
      "Epoch 29/30\n",
      "32000/32000 [==============================] - 146s 5ms/step - loss: 1.3173 - val_loss: 2.8876\n",
      "\n",
      "Epoch 00029: val_loss improved from 2.89797 to 2.88763, saving model to model.h1.24_jan_19\n",
      "Epoch 30/30\n",
      "32000/32000 [==============================] - 161s 5ms/step - loss: 1.2509 - val_loss: 2.8740\n",
      "\n",
      "Epoch 00030: val_loss improved from 2.88763 to 2.87399, saving model to model.h1.24_jan_19\n"
     ]
    }
   ],
   "source": [
    "filename = 'model.h1.24_jan_19'\n",
    "checkpoint = ModelCheckpoint(filename, monitor='val_loss', verbose=1, save_best_only=True, mode='min')\n",
    "\n",
    "history = model.fit(trainX, trainY.reshape(trainY.shape[0], trainY.shape[1], 1), \n",
    "          epochs=30, batch_size=512, \n",
    "          validation_split = 0.2,\n",
    "          callbacks=[checkpoint], verbose=1)"
   ]
  },
  {
   "cell_type": "code",
   "execution_count": 44,
   "metadata": {},
   "outputs": [
    {
     "data": {
      "image/png": "[encoded data removed]",
      "text/plain": [
       "<Figure size 432x288 with 1 Axes>"
      ]
     },
     "metadata": {
      "needs_background": "light"
     },
     "output_type": "display_data"
    }
   ],
   "source": [
    "plt.plot(history.history['loss'])\n",
    "plt.plot(history.history['val_loss'])\n",
    "plt.legend(['train','validation'])\n",
    "plt.show()"
   ]
  },
  {
   "cell_type": "markdown",
   "metadata": {},
   "source": [
    "The result is worst than the obtained with lenght of 8. Just reaching 2.87399."
   ]
  },
  {
   "cell_type": "code",
   "execution_count": 45,
   "metadata": {},
   "outputs": [],
   "source": [
    "preds = model.predict_classes(testX.reshape((testX.shape[0],testX.shape[1])))"
   ]
  },
  {
   "cell_type": "code",
   "execution_count": 46,
   "metadata": {},
   "outputs": [],
   "source": [
    "# convert predictions into text (English)\n",
    "preds_text = []\n",
    "for i in preds:\n",
    "    temp = []\n",
    "    for j in range(len(i)):\n",
    "        t = get_word(i[j], eng_tokenizer)\n",
    "        if j > 0:\n",
    "            if (t == get_word(i[j-1], eng_tokenizer)) or (t == None):\n",
    "                temp.append('')\n",
    "            else:\n",
    "                temp.append(t)\n",
    "             \n",
    "        else:\n",
    "            if(t == None):\n",
    "                temp.append('')\n",
    "            else:\n",
    "                temp.append(t)            \n",
    "        \n",
    "    preds_text.append(' '.join(temp))"
   ]
  },
  {
   "cell_type": "code",
   "execution_count": 47,
   "metadata": {},
   "outputs": [],
   "source": [
    "pred_df = pd.DataFrame({'actual' : test[:,0], 'predicted' : preds_text})"
   ]
  },
  {
   "cell_type": "code",
   "execution_count": 48,
   "metadata": {
    "collapsed": true,
    "jupyter": {
     "outputs_hidden": true
    }
   },
   "outputs": [
    {
     "data": {
      "text/html": [
       "<div>\n",
       "<style scoped>\n",
       "    .dataframe tbody tr th:only-of-type {\n",
       "        vertical-align: middle;\n",
       "    }\n",
       "\n",
       "    .dataframe tbody tr th {\n",
       "        vertical-align: top;\n",
       "    }\n",
       "\n",
       "    .dataframe thead th {\n",
       "        text-align: right;\n",
       "    }\n",
       "</style>\n",
       "<table border=\"1\" class=\"dataframe\">\n",
       "  <thead>\n",
       "    <tr style=\"text-align: right;\">\n",
       "      <th></th>\n",
       "      <th>actual</th>\n",
       "      <th>predicted</th>\n",
       "    </tr>\n",
       "  </thead>\n",
       "  <tbody>\n",
       "    <tr>\n",
       "      <th>6382</th>\n",
       "      <td>what did she say</td>\n",
       "      <td>what did he say</td>\n",
       "    </tr>\n",
       "    <tr>\n",
       "      <th>3577</th>\n",
       "      <td>im a big fan of golf</td>\n",
       "      <td>a  couple diary</td>\n",
       "    </tr>\n",
       "    <tr>\n",
       "      <th>6216</th>\n",
       "      <td>may i accompany you</td>\n",
       "      <td>can i come with you</td>\n",
       "    </tr>\n",
       "    <tr>\n",
       "      <th>2976</th>\n",
       "      <td>i love this picture</td>\n",
       "      <td>i love this picture</td>\n",
       "    </tr>\n",
       "    <tr>\n",
       "      <th>2312</th>\n",
       "      <td>whos that man over there</td>\n",
       "      <td>its a only here</td>\n",
       "    </tr>\n",
       "    <tr>\n",
       "      <th>6251</th>\n",
       "      <td>i believe i can help you</td>\n",
       "      <td>i   help you</td>\n",
       "    </tr>\n",
       "    <tr>\n",
       "      <th>5843</th>\n",
       "      <td>did you come here alone</td>\n",
       "      <td>have you live here</td>\n",
       "    </tr>\n",
       "    <tr>\n",
       "      <th>5232</th>\n",
       "      <td>tom works his butt off</td>\n",
       "      <td>he won of</td>\n",
       "    </tr>\n",
       "    <tr>\n",
       "      <th>2217</th>\n",
       "      <td>my answer is yes</td>\n",
       "      <td>my answer is amazing</td>\n",
       "    </tr>\n",
       "    <tr>\n",
       "      <th>1063</th>\n",
       "      <td>i will prosper</td>\n",
       "      <td>i away</td>\n",
       "    </tr>\n",
       "    <tr>\n",
       "      <th>3113</th>\n",
       "      <td>he was popular with voters</td>\n",
       "      <td>is proud of</td>\n",
       "    </tr>\n",
       "    <tr>\n",
       "      <th>8609</th>\n",
       "      <td>i love weddings</td>\n",
       "      <td>i love rock</td>\n",
       "    </tr>\n",
       "    <tr>\n",
       "      <th>9740</th>\n",
       "      <td>it happens all the time</td>\n",
       "      <td>this time all the</td>\n",
       "    </tr>\n",
       "    <tr>\n",
       "      <th>9455</th>\n",
       "      <td>i fed the dog</td>\n",
       "      <td>i drove the dog</td>\n",
       "    </tr>\n",
       "    <tr>\n",
       "      <th>4700</th>\n",
       "      <td>i think about tom all day</td>\n",
       "      <td>all tom all  day</td>\n",
       "    </tr>\n",
       "  </tbody>\n",
       "</table>\n",
       "</div>"
      ],
      "text/plain": [
       "                          actual              predicted\n",
       "6382            what did she say       what did he say \n",
       "3577        im a big fan of golf       a  couple diary \n",
       "6216         may i accompany you    can i come with you\n",
       "2976         i love this picture   i love this picture \n",
       "2312    whos that man over there       its a only here \n",
       "6251    i believe i can help you           i   help you\n",
       "5843     did you come here alone    have you live here \n",
       "5232      tom works his butt off            he won of  \n",
       "2217            my answer is yes  my answer is amazing \n",
       "1063              i will prosper              i away   \n",
       "3113  he was popular with voters          is proud of  \n",
       "8609             i love weddings          i love rock  \n",
       "9740     it happens all the time     this time all the \n",
       "9455               i fed the dog       i drove the dog \n",
       "4700   i think about tom all day       all tom all  day"
      ]
     },
     "execution_count": 48,
     "metadata": {},
     "output_type": "execute_result"
    }
   ],
   "source": [
    "pred_df.sample(15)"
   ]
  },
  {
   "cell_type": "markdown",
   "metadata": {},
   "source": [
    "#### **Now with the RNN with dropout**"
   ]
  },
  {
   "cell_type": "code",
   "execution_count": 50,
   "metadata": {},
   "outputs": [],
   "source": [
    "model = build_model_IV(spa_vocab_size, eng_vocab_size, spa_length, eng_length, 512)\n",
    "rms = optimizers.RMSprop(lr=0.001)\n",
    "model.compile(optimizer=rms, loss='sparse_categorical_crossentropy')"
   ]
  },
  {
   "cell_type": "code",
   "execution_count": 51,
   "metadata": {
    "collapsed": true,
    "jupyter": {
     "outputs_hidden": true
    }
   },
   "outputs": [
    {
     "name": "stdout",
     "output_type": "stream",
     "text": [
      "Train on 32000 samples, validate on 8000 samples\n",
      "Epoch 1/30\n",
      "32000/32000 [==============================] - 96s 3ms/step - loss: 5.9344 - val_loss: 5.2702\n",
      "\n",
      "Epoch 00001: val_loss improved from inf to 5.27024, saving model to model.h1.24_jan_19\n",
      "Epoch 2/30\n",
      "32000/32000 [==============================] - 95s 3ms/step - loss: 4.8605 - val_loss: 4.7014\n",
      "\n",
      "Epoch 00002: val_loss improved from 5.27024 to 4.70137, saving model to model.h1.24_jan_19\n",
      "Epoch 3/30\n",
      "32000/32000 [==============================] - 112s 4ms/step - loss: 4.2885 - val_loss: 4.3461\n",
      "\n",
      "Epoch 00003: val_loss improved from 4.70137 to 4.34614, saving model to model.h1.24_jan_19\n",
      "Epoch 4/30\n",
      "32000/32000 [==============================] - 101s 3ms/step - loss: 3.8638 - val_loss: 4.0995\n",
      "\n",
      "Epoch 00004: val_loss improved from 4.34614 to 4.09951, saving model to model.h1.24_jan_19\n",
      "Epoch 5/30\n",
      "32000/32000 [==============================] - 99s 3ms/step - loss: 3.5160 - val_loss: 3.8952\n",
      "\n",
      "Epoch 00005: val_loss improved from 4.09951 to 3.89518, saving model to model.h1.24_jan_19\n",
      "Epoch 6/30\n",
      "32000/32000 [==============================] - 101s 3ms/step - loss: 3.2359 - val_loss: 3.7581\n",
      "\n",
      "Epoch 00006: val_loss improved from 3.89518 to 3.75812, saving model to model.h1.24_jan_19\n",
      "Epoch 7/30\n",
      "32000/32000 [==============================] - 112s 3ms/step - loss: 2.9983 - val_loss: 3.6766\n",
      "\n",
      "Epoch 00007: val_loss improved from 3.75812 to 3.67662, saving model to model.h1.24_jan_19\n",
      "Epoch 8/30\n",
      "32000/32000 [==============================] - 103s 3ms/step - loss: 2.8009 - val_loss: 3.5806\n",
      "\n",
      "Epoch 00008: val_loss improved from 3.67662 to 3.58064, saving model to model.h1.24_jan_19\n",
      "Epoch 9/30\n",
      "32000/32000 [==============================] - 108s 3ms/step - loss: 2.6287 - val_loss: 3.5361\n",
      "\n",
      "Epoch 00009: val_loss improved from 3.58064 to 3.53614, saving model to model.h1.24_jan_19\n",
      "Epoch 10/30\n",
      "32000/32000 [==============================] - 104s 3ms/step - loss: 2.4792 - val_loss: 3.4802\n",
      "\n",
      "Epoch 00010: val_loss improved from 3.53614 to 3.48016, saving model to model.h1.24_jan_19\n",
      "Epoch 11/30\n",
      "32000/32000 [==============================] - 110s 3ms/step - loss: 2.3498 - val_loss: 3.4498\n",
      "\n",
      "Epoch 00011: val_loss improved from 3.48016 to 3.44984, saving model to model.h1.24_jan_19\n",
      "Epoch 12/30\n",
      "32000/32000 [==============================] - 103s 3ms/step - loss: 2.2335 - val_loss: 3.4163\n",
      "\n",
      "Epoch 00012: val_loss improved from 3.44984 to 3.41626, saving model to model.h1.24_jan_19\n",
      "Epoch 13/30\n",
      "32000/32000 [==============================] - 107s 3ms/step - loss: 2.1312 - val_loss: 3.4181\n",
      "\n",
      "Epoch 00013: val_loss did not improve from 3.41626\n",
      "Epoch 14/30\n",
      "32000/32000 [==============================] - 112s 3ms/step - loss: 2.0371 - val_loss: 3.3851\n",
      "\n",
      "Epoch 00014: val_loss improved from 3.41626 to 3.38510, saving model to model.h1.24_jan_19\n",
      "Epoch 15/30\n",
      "32000/32000 [==============================] - 105s 3ms/step - loss: 1.9517 - val_loss: 3.3807\n",
      "\n",
      "Epoch 00015: val_loss improved from 3.38510 to 3.38074, saving model to model.h1.24_jan_19\n",
      "Epoch 16/30\n",
      "32000/32000 [==============================] - 104s 3ms/step - loss: 1.8777 - val_loss: 3.3696\n",
      "\n",
      "Epoch 00016: val_loss improved from 3.38074 to 3.36963, saving model to model.h1.24_jan_19\n",
      "Epoch 17/30\n",
      "32000/32000 [==============================] - 106s 3ms/step - loss: 1.8094 - val_loss: 3.3593\n",
      "\n",
      "Epoch 00017: val_loss improved from 3.36963 to 3.35925, saving model to model.h1.24_jan_19\n",
      "Epoch 18/30\n",
      "32000/32000 [==============================] - 118s 4ms/step - loss: 1.7490 - val_loss: 3.3507\n",
      "\n",
      "Epoch 00018: val_loss improved from 3.35925 to 3.35074, saving model to model.h1.24_jan_19\n",
      "Epoch 19/30\n",
      "32000/32000 [==============================] - 113s 4ms/step - loss: 1.6914 - val_loss: 3.3570\n",
      "\n",
      "Epoch 00019: val_loss did not improve from 3.35074\n",
      "Epoch 20/30\n",
      "32000/32000 [==============================] - 116s 4ms/step - loss: 1.6399 - val_loss: 3.3459\n",
      "\n",
      "Epoch 00020: val_loss improved from 3.35074 to 3.34595, saving model to model.h1.24_jan_19\n",
      "Epoch 21/30\n",
      "32000/32000 [==============================] - 110s 3ms/step - loss: 1.5879 - val_loss: 3.3473\n",
      "\n",
      "Epoch 00021: val_loss did not improve from 3.34595\n",
      "Epoch 22/30\n",
      "32000/32000 [==============================] - 105s 3ms/step - loss: 1.5463 - val_loss: 3.3483\n",
      "\n",
      "Epoch 00022: val_loss did not improve from 3.34595\n",
      "Epoch 23/30\n",
      "32000/32000 [==============================] - 100s 3ms/step - loss: 1.5066 - val_loss: 3.3453\n",
      "\n",
      "Epoch 00023: val_loss improved from 3.34595 to 3.34525, saving model to model.h1.24_jan_19\n",
      "Epoch 24/30\n",
      "32000/32000 [==============================] - 102s 3ms/step - loss: 1.4709 - val_loss: 3.3416\n",
      "\n",
      "Epoch 00024: val_loss improved from 3.34525 to 3.34165, saving model to model.h1.24_jan_19\n",
      "Epoch 25/30\n",
      "32000/32000 [==============================] - 103s 3ms/step - loss: 1.4375 - val_loss: 3.3440\n",
      "\n",
      "Epoch 00025: val_loss did not improve from 3.34165\n",
      "Epoch 26/30\n",
      "32000/32000 [==============================] - 104s 3ms/step - loss: 1.4036 - val_loss: 3.3371\n",
      "\n",
      "Epoch 00026: val_loss improved from 3.34165 to 3.33712, saving model to model.h1.24_jan_19\n",
      "Epoch 27/30\n",
      "32000/32000 [==============================] - 103s 3ms/step - loss: 1.3743 - val_loss: 3.3450\n",
      "\n",
      "Epoch 00027: val_loss did not improve from 3.33712\n",
      "Epoch 28/30\n",
      "32000/32000 [==============================] - 106s 3ms/step - loss: 1.3488 - val_loss: 3.3492\n",
      "\n",
      "Epoch 00028: val_loss did not improve from 3.33712\n",
      "Epoch 29/30\n",
      "32000/32000 [==============================] - 104s 3ms/step - loss: 1.3229 - val_loss: 3.3465\n",
      "\n",
      "Epoch 00029: val_loss did not improve from 3.33712\n",
      "Epoch 30/30\n",
      "32000/32000 [==============================] - 105s 3ms/step - loss: 1.3014 - val_loss: 3.3498\n",
      "\n",
      "Epoch 00030: val_loss did not improve from 3.33712\n"
     ]
    }
   ],
   "source": [
    "filename = 'model.h1.24_jan_19'\n",
    "checkpoint = ModelCheckpoint(filename, monitor='val_loss', verbose=1, save_best_only=True, mode='min')\n",
    "\n",
    "history = model.fit(trainX, trainY.reshape(trainY.shape[0], trainY.shape[1], 1), \n",
    "          epochs=30, batch_size=512, \n",
    "          validation_split = 0.2,\n",
    "          callbacks=[checkpoint], verbose=1)"
   ]
  },
  {
   "cell_type": "code",
   "execution_count": 52,
   "metadata": {},
   "outputs": [
    {
     "data": {
      "image/png": "[encoded data removed]",
      "text/plain": [
       "<Figure size 432x288 with 1 Axes>"
      ]
     },
     "metadata": {
      "needs_background": "light"
     },
     "output_type": "display_data"
    }
   ],
   "source": [
    "plt.plot(history.history['loss'])\n",
    "plt.plot(history.history['val_loss'])\n",
    "plt.legend(['train','validation'])\n",
    "plt.show()"
   ]
  },
  {
   "cell_type": "markdown",
   "metadata": {},
   "source": [
    "Theoretically, the RNN should perform better with shorter vocabulary, but it's not happening"
   ]
  },
  {
   "cell_type": "code",
   "execution_count": 53,
   "metadata": {},
   "outputs": [],
   "source": [
    "preds = model.predict_classes(testX.reshape((testX.shape[0],testX.shape[1])))"
   ]
  },
  {
   "cell_type": "code",
   "execution_count": 54,
   "metadata": {},
   "outputs": [],
   "source": [
    "# convert predictions into text (English)\n",
    "preds_text = []\n",
    "for i in preds:\n",
    "    temp = []\n",
    "    for j in range(len(i)):\n",
    "        t = get_word(i[j], eng_tokenizer)\n",
    "        if j > 0:\n",
    "            if (t == get_word(i[j-1], eng_tokenizer)) or (t == None):\n",
    "                temp.append('')\n",
    "            else:\n",
    "                temp.append(t)\n",
    "             \n",
    "        else:\n",
    "            if(t == None):\n",
    "                temp.append('')\n",
    "            else:\n",
    "                temp.append(t)            \n",
    "        \n",
    "    preds_text.append(' '.join(temp))"
   ]
  },
  {
   "cell_type": "code",
   "execution_count": 55,
   "metadata": {},
   "outputs": [],
   "source": [
    "pred_df = pd.DataFrame({'actual' : test[:,0], 'predicted' : preds_text})"
   ]
  },
  {
   "cell_type": "code",
   "execution_count": 56,
   "metadata": {
    "collapsed": true,
    "jupyter": {
     "outputs_hidden": true
    }
   },
   "outputs": [
    {
     "data": {
      "text/html": [
       "<div>\n",
       "<style scoped>\n",
       "    .dataframe tbody tr th:only-of-type {\n",
       "        vertical-align: middle;\n",
       "    }\n",
       "\n",
       "    .dataframe tbody tr th {\n",
       "        vertical-align: top;\n",
       "    }\n",
       "\n",
       "    .dataframe thead th {\n",
       "        text-align: right;\n",
       "    }\n",
       "</style>\n",
       "<table border=\"1\" class=\"dataframe\">\n",
       "  <thead>\n",
       "    <tr style=\"text-align: right;\">\n",
       "      <th></th>\n",
       "      <th>actual</th>\n",
       "      <th>predicted</th>\n",
       "    </tr>\n",
       "  </thead>\n",
       "  <tbody>\n",
       "    <tr>\n",
       "      <th>2561</th>\n",
       "      <td>thats not a good thing</td>\n",
       "      <td>i not a good</td>\n",
       "    </tr>\n",
       "    <tr>\n",
       "      <th>9922</th>\n",
       "      <td>im learning a lot</td>\n",
       "      <td>im learning much</td>\n",
       "    </tr>\n",
       "    <tr>\n",
       "      <th>9870</th>\n",
       "      <td>tell me which you want</td>\n",
       "      <td>tell me you</td>\n",
       "    </tr>\n",
       "    <tr>\n",
       "      <th>5070</th>\n",
       "      <td>ill sleep on the floor</td>\n",
       "      <td>i sleep on the floor</td>\n",
       "    </tr>\n",
       "    <tr>\n",
       "      <th>7581</th>\n",
       "      <td>i know you like chocolate</td>\n",
       "      <td>you  fond</td>\n",
       "    </tr>\n",
       "    <tr>\n",
       "      <th>9025</th>\n",
       "      <td>i dont have a car</td>\n",
       "      <td>i dont have car</td>\n",
       "    </tr>\n",
       "    <tr>\n",
       "      <th>859</th>\n",
       "      <td>hello there whats new</td>\n",
       "      <td>what about you</td>\n",
       "    </tr>\n",
       "    <tr>\n",
       "      <th>5860</th>\n",
       "      <td>i wasnt very sleepy</td>\n",
       "      <td>i had much to</td>\n",
       "    </tr>\n",
       "    <tr>\n",
       "      <th>8829</th>\n",
       "      <td>does this fit</td>\n",
       "      <td>is this good</td>\n",
       "    </tr>\n",
       "    <tr>\n",
       "      <th>1798</th>\n",
       "      <td>tom dozed</td>\n",
       "      <td>tom will</td>\n",
       "    </tr>\n",
       "    <tr>\n",
       "      <th>3757</th>\n",
       "      <td>welcome home</td>\n",
       "      <td>and home</td>\n",
       "    </tr>\n",
       "    <tr>\n",
       "      <th>9972</th>\n",
       "      <td>ive just come back</td>\n",
       "      <td>i just came</td>\n",
       "    </tr>\n",
       "    <tr>\n",
       "      <th>1536</th>\n",
       "      <td>wed better go home now</td>\n",
       "      <td>i you youll to home</td>\n",
       "    </tr>\n",
       "    <tr>\n",
       "      <th>132</th>\n",
       "      <td>why didnt tom warn us</td>\n",
       "      <td>why dont you warn tom</td>\n",
       "    </tr>\n",
       "    <tr>\n",
       "      <th>7135</th>\n",
       "      <td>nobodys infallible</td>\n",
       "      <td>nobody is</td>\n",
       "    </tr>\n",
       "  </tbody>\n",
       "</table>\n",
       "</div>"
      ],
      "text/plain": [
       "                         actual              predicted\n",
       "2561     thats not a good thing          i not a good \n",
       "9922          im learning a lot     im learning much  \n",
       "9870     tell me which you want          tell me you  \n",
       "5070     ill sleep on the floor   i sleep on the floor\n",
       "7581  i know you like chocolate            you  fond  \n",
       "9025          i dont have a car       i dont have car \n",
       "859       hello there whats new       what about you  \n",
       "5860        i wasnt very sleepy         i had much to \n",
       "8829              does this fit         is this good  \n",
       "1798                  tom dozed            tom will   \n",
       "3757               welcome home             and home  \n",
       "9972         ive just come back          i just came  \n",
       "1536     wed better go home now    i you youll to home\n",
       "132       why didnt tom warn us  why dont you warn tom\n",
       "7135         nobodys infallible           nobody is   "
      ]
     },
     "execution_count": 56,
     "metadata": {},
     "output_type": "execute_result"
    }
   ],
   "source": [
    "pred_df.sample(15)"
   ]
  },
  {
   "cell_type": "markdown",
   "metadata": {},
   "source": [
    "#### **Finally with the GRU network with dropout** "
   ]
  },
  {
   "cell_type": "code",
   "execution_count": 58,
   "metadata": {},
   "outputs": [],
   "source": [
    "model = build_model_VI(spa_vocab_size, eng_vocab_size, spa_length, eng_length, 512)\n",
    "rms = optimizers.RMSprop(lr=0.001)\n",
    "model.compile(optimizer=rms, loss='sparse_categorical_crossentropy')"
   ]
  },
  {
   "cell_type": "code",
   "execution_count": 59,
   "metadata": {
    "collapsed": true,
    "jupyter": {
     "outputs_hidden": true
    }
   },
   "outputs": [
    {
     "name": "stdout",
     "output_type": "stream",
     "text": [
      "Train on 32000 samples, validate on 8000 samples\n",
      "Epoch 1/30\n",
      "32000/32000 [==============================] - 136s 4ms/step - loss: 6.1216 - val_loss: 5.5416\n",
      "\n",
      "Epoch 00001: val_loss improved from inf to 5.54163, saving model to model.h1.24_jan_19\n",
      "Epoch 2/30\n",
      "32000/32000 [==============================] - 135s 4ms/step - loss: 5.1828 - val_loss: 5.0277\n",
      "\n",
      "Epoch 00002: val_loss improved from 5.54163 to 5.02766, saving model to model.h1.24_jan_19\n",
      "Epoch 3/30\n",
      "32000/32000 [==============================] - 129s 4ms/step - loss: 4.6689 - val_loss: 4.6445\n",
      "\n",
      "Epoch 00003: val_loss improved from 5.02766 to 4.64453, saving model to model.h1.24_jan_19\n",
      "Epoch 4/30\n",
      "32000/32000 [==============================] - 135s 4ms/step - loss: 4.2530 - val_loss: 4.3801\n",
      "\n",
      "Epoch 00004: val_loss improved from 4.64453 to 4.38013, saving model to model.h1.24_jan_19\n",
      "Epoch 5/30\n",
      "32000/32000 [==============================] - 146s 5ms/step - loss: 3.9134 - val_loss: 4.1545\n",
      "\n",
      "Epoch 00005: val_loss improved from 4.38013 to 4.15451, saving model to model.h1.24_jan_19\n",
      "Epoch 6/30\n",
      "32000/32000 [==============================] - 136s 4ms/step - loss: 3.6184 - val_loss: 3.9804\n",
      "\n",
      "Epoch 00006: val_loss improved from 4.15451 to 3.98036, saving model to model.h1.24_jan_19\n",
      "Epoch 7/30\n",
      "32000/32000 [==============================] - 128s 4ms/step - loss: 3.3713 - val_loss: 3.8217\n",
      "\n",
      "Epoch 00007: val_loss improved from 3.98036 to 3.82168, saving model to model.h1.24_jan_19\n",
      "Epoch 8/30\n",
      "32000/32000 [==============================] - 137s 4ms/step - loss: 3.1585 - val_loss: 3.7259\n",
      "\n",
      "Epoch 00008: val_loss improved from 3.82168 to 3.72586, saving model to model.h1.24_jan_19\n",
      "Epoch 9/30\n",
      "32000/32000 [==============================] - 134s 4ms/step - loss: 2.9752 - val_loss: 3.6548\n",
      "\n",
      "Epoch 00009: val_loss improved from 3.72586 to 3.65476, saving model to model.h1.24_jan_19\n",
      "Epoch 10/30\n",
      "32000/32000 [==============================] - 137s 4ms/step - loss: 2.8178 - val_loss: 3.5621\n",
      "\n",
      "Epoch 00010: val_loss improved from 3.65476 to 3.56209, saving model to model.h1.24_jan_19\n",
      "Epoch 11/30\n",
      "32000/32000 [==============================] - 130s 4ms/step - loss: 2.6726 - val_loss: 3.5187\n",
      "\n",
      "Epoch 00011: val_loss improved from 3.56209 to 3.51867, saving model to model.h1.24_jan_19\n",
      "Epoch 12/30\n",
      "32000/32000 [==============================] - 134s 4ms/step - loss: 2.5449 - val_loss: 3.4693\n",
      "\n",
      "Epoch 00012: val_loss improved from 3.51867 to 3.46926, saving model to model.h1.24_jan_19\n",
      "Epoch 13/30\n",
      "32000/32000 [==============================] - 128s 4ms/step - loss: 2.4301 - val_loss: 3.4283\n",
      "\n",
      "Epoch 00013: val_loss improved from 3.46926 to 3.42832, saving model to model.h1.24_jan_19\n",
      "Epoch 14/30\n",
      "32000/32000 [==============================] - 138s 4ms/step - loss: 2.3276 - val_loss: 3.3896\n",
      "\n",
      "Epoch 00014: val_loss improved from 3.42832 to 3.38959, saving model to model.h1.24_jan_19\n",
      "Epoch 15/30\n",
      "32000/32000 [==============================] - 140s 4ms/step - loss: 2.2328 - val_loss: 3.3644\n",
      "\n",
      "Epoch 00015: val_loss improved from 3.38959 to 3.36440, saving model to model.h1.24_jan_19\n",
      "Epoch 16/30\n",
      "32000/32000 [==============================] - 136s 4ms/step - loss: 2.1448 - val_loss: 3.3423\n",
      "\n",
      "Epoch 00016: val_loss improved from 3.36440 to 3.34228, saving model to model.h1.24_jan_19\n",
      "Epoch 17/30\n",
      "32000/32000 [==============================] - 128s 4ms/step - loss: 2.0616 - val_loss: 3.3244\n",
      "\n",
      "Epoch 00017: val_loss improved from 3.34228 to 3.32439, saving model to model.h1.24_jan_19\n",
      "Epoch 18/30\n",
      "32000/32000 [==============================] - 128s 4ms/step - loss: 1.9838 - val_loss: 3.3089\n",
      "\n",
      "Epoch 00018: val_loss improved from 3.32439 to 3.30892, saving model to model.h1.24_jan_19\n",
      "Epoch 19/30\n",
      "32000/32000 [==============================] - 130s 4ms/step - loss: 1.9129 - val_loss: 3.2914\n",
      "\n",
      "Epoch 00019: val_loss improved from 3.30892 to 3.29140, saving model to model.h1.24_jan_19\n",
      "Epoch 20/30\n",
      "32000/32000 [==============================] - 133s 4ms/step - loss: 1.8504 - val_loss: 3.2869\n",
      "\n",
      "Epoch 00020: val_loss improved from 3.29140 to 3.28688, saving model to model.h1.24_jan_19\n",
      "Epoch 21/30\n",
      "32000/32000 [==============================] - 128s 4ms/step - loss: 1.7888 - val_loss: 3.2800\n",
      "\n",
      "Epoch 00021: val_loss improved from 3.28688 to 3.28001, saving model to model.h1.24_jan_19\n",
      "Epoch 22/30\n",
      "32000/32000 [==============================] - 132s 4ms/step - loss: 1.7348 - val_loss: 3.2716\n",
      "\n",
      "Epoch 00022: val_loss improved from 3.28001 to 3.27160, saving model to model.h1.24_jan_19\n",
      "Epoch 23/30\n",
      "32000/32000 [==============================] - 132s 4ms/step - loss: 1.6810 - val_loss: 3.2709\n",
      "\n",
      "Epoch 00023: val_loss improved from 3.27160 to 3.27089, saving model to model.h1.24_jan_19\n",
      "Epoch 24/30\n",
      "32000/32000 [==============================] - 127s 4ms/step - loss: 1.6275 - val_loss: 3.2676\n",
      "\n",
      "Epoch 00024: val_loss improved from 3.27089 to 3.26757, saving model to model.h1.24_jan_19\n",
      "Epoch 25/30\n",
      "32000/32000 [==============================] - 133s 4ms/step - loss: 1.5825 - val_loss: 3.2625\n",
      "\n",
      "Epoch 00025: val_loss improved from 3.26757 to 3.26246, saving model to model.h1.24_jan_19\n",
      "Epoch 26/30\n",
      "32000/32000 [==============================] - 141s 4ms/step - loss: 1.5405 - val_loss: 3.2650\n",
      "\n",
      "Epoch 00026: val_loss did not improve from 3.26246\n",
      "Epoch 27/30\n",
      "32000/32000 [==============================] - 130s 4ms/step - loss: 1.4990 - val_loss: 3.2724\n",
      "\n",
      "Epoch 00027: val_loss did not improve from 3.26246\n",
      "Epoch 28/30\n",
      "32000/32000 [==============================] - 130s 4ms/step - loss: 1.4595 - val_loss: 3.2635\n",
      "\n",
      "Epoch 00028: val_loss did not improve from 3.26246\n",
      "Epoch 29/30\n",
      "32000/32000 [==============================] - 126s 4ms/step - loss: 1.4250 - val_loss: 3.2684\n",
      "\n",
      "Epoch 00029: val_loss did not improve from 3.26246\n",
      "Epoch 30/30\n",
      "32000/32000 [==============================] - 128s 4ms/step - loss: 1.3924 - val_loss: 3.2832\n",
      "\n",
      "Epoch 00030: val_loss did not improve from 3.26246\n"
     ]
    }
   ],
   "source": [
    "filename = 'model.h1.24_jan_19'\n",
    "checkpoint = ModelCheckpoint(filename, monitor='val_loss', verbose=1, save_best_only=True, mode='min')\n",
    "\n",
    "history = model.fit(trainX, trainY.reshape(trainY.shape[0], trainY.shape[1], 1), \n",
    "          epochs=30, batch_size=512, \n",
    "          validation_split = 0.2,\n",
    "          callbacks=[checkpoint], verbose=1)"
   ]
  },
  {
   "cell_type": "code",
   "execution_count": 60,
   "metadata": {},
   "outputs": [
    {
     "data": {
      "image/png": "[encoded data removed]",
      "text/plain": [
       "<Figure size 432x288 with 1 Axes>"
      ]
     },
     "metadata": {
      "needs_background": "light"
     },
     "output_type": "display_data"
    }
   ],
   "source": [
    "plt.plot(history.history['loss'])\n",
    "plt.plot(history.history['val_loss'])\n",
    "plt.legend(['train','validation'])\n",
    "plt.show()"
   ]
  },
  {
   "cell_type": "markdown",
   "metadata": {},
   "source": [
    "Here is happening the same as above... the theory is not working. Maybe it need even a shorter vocabulary."
   ]
  },
  {
   "cell_type": "code",
   "execution_count": 61,
   "metadata": {},
   "outputs": [],
   "source": [
    "preds = model.predict_classes(testX.reshape((testX.shape[0],testX.shape[1])))"
   ]
  },
  {
   "cell_type": "code",
   "execution_count": 62,
   "metadata": {},
   "outputs": [],
   "source": [
    "# convert predictions into text (English)\n",
    "preds_text = []\n",
    "for i in preds:\n",
    "    temp = []\n",
    "    for j in range(len(i)):\n",
    "        t = get_word(i[j], eng_tokenizer)\n",
    "        if j > 0:\n",
    "            if (t == get_word(i[j-1], eng_tokenizer)) or (t == None):\n",
    "                temp.append('')\n",
    "            else:\n",
    "                temp.append(t)\n",
    "             \n",
    "        else:\n",
    "            if(t == None):\n",
    "                temp.append('')\n",
    "            else:\n",
    "                temp.append(t)            \n",
    "        \n",
    "    preds_text.append(' '.join(temp))"
   ]
  },
  {
   "cell_type": "code",
   "execution_count": 63,
   "metadata": {},
   "outputs": [],
   "source": [
    "pred_df = pd.DataFrame({'actual' : test[:,0], 'predicted' : preds_text})"
   ]
  },
  {
   "cell_type": "code",
   "execution_count": 64,
   "metadata": {
    "collapsed": true,
    "jupyter": {
     "outputs_hidden": true
    }
   },
   "outputs": [
    {
     "data": {
      "text/html": [
       "<div>\n",
       "<style scoped>\n",
       "    .dataframe tbody tr th:only-of-type {\n",
       "        vertical-align: middle;\n",
       "    }\n",
       "\n",
       "    .dataframe tbody tr th {\n",
       "        vertical-align: top;\n",
       "    }\n",
       "\n",
       "    .dataframe thead th {\n",
       "        text-align: right;\n",
       "    }\n",
       "</style>\n",
       "<table border=\"1\" class=\"dataframe\">\n",
       "  <thead>\n",
       "    <tr style=\"text-align: right;\">\n",
       "      <th></th>\n",
       "      <th>actual</th>\n",
       "      <th>predicted</th>\n",
       "    </tr>\n",
       "  </thead>\n",
       "  <tbody>\n",
       "    <tr>\n",
       "      <th>7124</th>\n",
       "      <td>eat whichever one you like</td>\n",
       "      <td>eat the you</td>\n",
       "    </tr>\n",
       "    <tr>\n",
       "      <th>9988</th>\n",
       "      <td>do you know who he was</td>\n",
       "      <td>you know who</td>\n",
       "    </tr>\n",
       "    <tr>\n",
       "      <th>4480</th>\n",
       "      <td>i dont know either girl</td>\n",
       "      <td>you of the  us</td>\n",
       "    </tr>\n",
       "    <tr>\n",
       "      <th>7635</th>\n",
       "      <td>i dont like spinach</td>\n",
       "      <td>i dont like apples</td>\n",
       "    </tr>\n",
       "    <tr>\n",
       "      <th>4307</th>\n",
       "      <td>she sang the song softly</td>\n",
       "      <td>she sang quickly her</td>\n",
       "    </tr>\n",
       "    <tr>\n",
       "      <th>5458</th>\n",
       "      <td>the heat was unbearable</td>\n",
       "      <td>the food was unbearable</td>\n",
       "    </tr>\n",
       "    <tr>\n",
       "      <th>9756</th>\n",
       "      <td>its started again</td>\n",
       "      <td>he back  again</td>\n",
       "    </tr>\n",
       "    <tr>\n",
       "      <th>9002</th>\n",
       "      <td>go away</td>\n",
       "      <td>get</td>\n",
       "    </tr>\n",
       "    <tr>\n",
       "      <th>5211</th>\n",
       "      <td>please let me sleep</td>\n",
       "      <td>let me at</td>\n",
       "    </tr>\n",
       "    <tr>\n",
       "      <th>3606</th>\n",
       "      <td>would you like to eat</td>\n",
       "      <td>do want</td>\n",
       "    </tr>\n",
       "    <tr>\n",
       "      <th>5460</th>\n",
       "      <td>those are your enemies</td>\n",
       "      <td>those are your enemies</td>\n",
       "    </tr>\n",
       "    <tr>\n",
       "      <th>9831</th>\n",
       "      <td>tom shot at mary</td>\n",
       "      <td>tom likes mary</td>\n",
       "    </tr>\n",
       "    <tr>\n",
       "      <th>1937</th>\n",
       "      <td>his eyes are blue</td>\n",
       "      <td>his eyes are blue</td>\n",
       "    </tr>\n",
       "    <tr>\n",
       "      <th>9449</th>\n",
       "      <td>tom is a good customer</td>\n",
       "      <td>tom is a good swimmer</td>\n",
       "    </tr>\n",
       "    <tr>\n",
       "      <th>467</th>\n",
       "      <td>tom wants revenge</td>\n",
       "      <td>tom wants to</td>\n",
       "    </tr>\n",
       "  </tbody>\n",
       "</table>\n",
       "</div>"
      ],
      "text/plain": [
       "                          actual                 predicted\n",
       "7124  eat whichever one you like             eat the you  \n",
       "9988      do you know who he was            you know who  \n",
       "4480     i dont know either girl            you of the  us\n",
       "7635         i dont like spinach       i dont like apples \n",
       "4307    she sang the song softly     she sang quickly her \n",
       "5458     the heat was unbearable  the food was unbearable \n",
       "9756           its started again           he back  again \n",
       "9002                     go away                   get    \n",
       "5211         please let me sleep               let me at  \n",
       "3606       would you like to eat                do want   \n",
       "5460      those are your enemies   those are your enemies \n",
       "9831            tom shot at mary          tom likes mary  \n",
       "1937           his eyes are blue        his eyes are blue \n",
       "9449      tom is a good customer     tom is a good swimmer\n",
       "467            tom wants revenge            tom wants to  "
      ]
     },
     "execution_count": 64,
     "metadata": {},
     "output_type": "execute_result"
    }
   ],
   "source": [
    "pred_df.sample(15)"
   ]
  },
  {
   "cell_type": "markdown",
   "metadata": {},
   "source": [
    "# **Conclusions**"
   ]
  },
  {
   "cell_type": "markdown",
   "metadata": {},
   "source": [
    "From this experiments is possible to extract three behaviours:\n",
    "   - The LSTM network performs quite better than the RNN and GRU\n",
    "   - The LSTM network spends more time training than RNN and GRU networks\n",
    "   - The Bidirectional LSTM network performs worse than the simple one. This is not weird because does not have sense learn text in the oposite direction.\n",
    "\n",
    "Moreover, the are other conclusions refered to the parameters:\n",
    "   - Every network performs better when dropout is added.\n",
    "   - The LSTM network get better acuracy when the number of units is higher, reaching the minimum of 1.65337 (also takes more time per epoch)\n",
    "   - GRU and RNN networks overfit (around epochs 10) earlier than LSTM (around epoch 25)\n",
    "   - Increase the stacked layers does not mean improve the performance\n",
    "   - Increase the batch size improves the results, and decrease it reduces them. However, it's also true that the first model reaches his top (needs less epochs of training) and the second one need more epochs to reach it. \n",
    "\n",
    "And there are others conclusions took from the reduction of the sentences lenght:\n",
    "   - The LSTM network performs worse with short sentences\n",
    "   - The RNN and the GRU networks should improve their performances but in this case it was not shonw. The result was similar to the initial one. \n",
    "   "
   ]
  }
 ],
 "metadata": {
  "kernelspec": {
   "display_name": "Python 3",
   "language": "python",
   "name": "python3"
  },
  "language_info": {
   "codemirror_mode": {
    "name": "ipython",
    "version": 3
   },
   "file_extension": ".py",
   "mimetype": "text/x-python",
   "name": "python",
   "nbconvert_exporter": "python",
   "pygments_lexer": "ipython3",
   "version": "3.7.4"
  }
 },
 "nbformat": 4,
 "nbformat_minor": 4
}
